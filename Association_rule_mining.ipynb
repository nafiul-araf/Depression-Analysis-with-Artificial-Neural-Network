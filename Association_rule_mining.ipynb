{
  "nbformat": 4,
  "nbformat_minor": 0,
  "metadata": {
    "kernelspec": {
      "display_name": "Python 3",
      "language": "python",
      "name": "python3"
    },
    "language_info": {
      "codemirror_mode": {
        "name": "ipython",
        "version": 3
      },
      "file_extension": ".py",
      "mimetype": "text/x-python",
      "name": "python",
      "nbconvert_exporter": "python",
      "pygments_lexer": "ipython3",
      "version": "3.8.3"
    },
    "colab": {
      "name": "Association_rule_mining.ipynb",
      "provenance": [],
      "include_colab_link": true
    }
  },
  "cells": [
    {
      "cell_type": "markdown",
      "metadata": {
        "id": "view-in-github",
        "colab_type": "text"
      },
      "source": [
        "<a href=\"https://colab.research.google.com/github/nafiul-araf/Lab-work/blob/main/Association_rule_mining.ipynb\" target=\"_parent\"><img src=\"https://colab.research.google.com/assets/colab-badge.svg\" alt=\"Open In Colab\"/></a>"
      ]
    },
    {
      "cell_type": "markdown",
      "metadata": {
        "id": "MlKAyLr69bSQ"
      },
      "source": [
        "# Loading The Data"
      ]
    },
    {
      "cell_type": "code",
      "metadata": {
        "id": "meX7cqfHraJv",
        "colab": {
          "base_uri": "https://localhost:8080/"
        },
        "outputId": "316e9c16-5d70-42bf-d7ab-ac344fd28541"
      },
      "source": [
        "import numpy as np\n",
        "import pandas as pd\n",
        "from mlxtend.frequent_patterns import apriori,association_rules\n",
        "\n",
        "from google.colab import drive\n",
        "drive.mount('/content/gdrive')"
      ],
      "execution_count": 121,
      "outputs": [
        {
          "output_type": "stream",
          "text": [
            "Drive already mounted at /content/gdrive; to attempt to forcibly remount, call drive.mount(\"/content/gdrive\", force_remount=True).\n"
          ],
          "name": "stdout"
        }
      ]
    },
    {
      "cell_type": "code",
      "metadata": {
        "id": "C_89e2qtraJz"
      },
      "source": [
        "df=pd.read_csv(\"/content/gdrive/MyDrive/CSE-464(Project)/Copy of Depression and Happiness Factor Analysis.csv\")\n",
        "#df.head()"
      ],
      "execution_count": 122,
      "outputs": []
    },
    {
      "cell_type": "markdown",
      "metadata": {
        "id": "SwEWh3L-H369"
      },
      "source": [
        "# Preprocessing"
      ]
    },
    {
      "cell_type": "code",
      "metadata": {
        "colab": {
          "base_uri": "https://localhost:8080/"
        },
        "id": "ZRbQNPJk9I_2",
        "outputId": "9b48c7f5-b8e9-42fd-dd1b-244e34677a5e"
      },
      "source": [
        "df.shape"
      ],
      "execution_count": 123,
      "outputs": [
        {
          "output_type": "execute_result",
          "data": {
            "text/plain": [
              "(920, 21)"
            ]
          },
          "metadata": {
            "tags": []
          },
          "execution_count": 123
        }
      ]
    },
    {
      "cell_type": "code",
      "metadata": {
        "id": "j-nKvVKwraJ1"
      },
      "source": [
        "df1=df.drop(['Timestamp','How much have you succeeded to cope up with the environment of your educational institution?','How long did you sleep last night?(in hours)','Age','Unnamed: 20'],axis='columns')\n",
        "#df1.head()"
      ],
      "execution_count": 124,
      "outputs": []
    },
    {
      "cell_type": "code",
      "metadata": {
        "id": "s0BoC9QsraJ1",
        "colab": {
          "base_uri": "https://localhost:8080/"
        },
        "outputId": "84bd8afb-a956-458f-9e42-767765f5bc91"
      },
      "source": [
        "df1.isnull().sum()"
      ],
      "execution_count": 125,
      "outputs": [
        {
          "output_type": "execute_result",
          "data": {
            "text/plain": [
              "Which year are you in?                                                         0\n",
              "How are you feeling right now?                                                 0\n",
              "On a scale of 1-100, how would you express this feeling?                       0\n",
              "Gender                                                                         0\n",
              "Your location ?                                                                0\n",
              "Relationship status                                                            0\n",
              "Are you happy with your financial state?                                       0\n",
              "Understanding with your family members?                                        0\n",
              "Are you feeling pressure in your study or work right now?                      0\n",
              "Are you satisfied with your academic result?                                   0\n",
              "Are you happy with your living place?                                          0\n",
              "Who supports you when you are not succeeding in your academic life?            0\n",
              "Have you used any social media within the last 6 hours?                        0\n",
              "Are you satisfied with your meal today?                                        0\n",
              "Are you feeling sick/health issues today?                                      0\n",
              "Have you done any recreational activity (sports, gaming, hobby etc.) today?    0\n",
              "dtype: int64"
            ]
          },
          "metadata": {
            "tags": []
          },
          "execution_count": 125
        }
      ]
    },
    {
      "cell_type": "code",
      "metadata": {
        "id": "KHNGU71_raJ2",
        "colab": {
          "base_uri": "https://localhost:8080/"
        },
        "outputId": "a7ac89cc-d50f-49fd-89f4-ba0ef07eac4f"
      },
      "source": [
        "df1.columns"
      ],
      "execution_count": 126,
      "outputs": [
        {
          "output_type": "execute_result",
          "data": {
            "text/plain": [
              "Index(['Which year are you in?', 'How are you feeling right now?',\n",
              "       'On a scale of 1-100, how would you express this feeling?', 'Gender',\n",
              "       'Your location ?', 'Relationship status',\n",
              "       'Are you happy with your financial state?',\n",
              "       'Understanding with your family members?',\n",
              "       'Are you feeling pressure in your study or work right now?',\n",
              "       'Are you satisfied with your academic result?',\n",
              "       'Are you happy with your living place?',\n",
              "       'Who supports you when you are not succeeding in your academic life?',\n",
              "       'Have you used any social media within the last 6 hours?',\n",
              "       'Are you satisfied with your meal today?',\n",
              "       'Are you feeling sick/health issues today?',\n",
              "       'Have you done any recreational activity (sports, gaming, hobby etc.) today?'],\n",
              "      dtype='object')"
            ]
          },
          "metadata": {
            "tags": []
          },
          "execution_count": 126
        }
      ]
    },
    {
      "cell_type": "code",
      "metadata": {
        "id": "6QVORbPXraJ2"
      },
      "source": [
        "df1.rename({'Relationship status':'Relationship_status','Are you satisfied with your meal today?':'Satisfaction_with_meal','Which year are you in?':'Year','How are you feeling right now?':'Felling_right_now','Your location ?':'Location','Are you happy with your financial state?':'Happy_with_financial','Understanding with your family members?':'Understanding_with_family','Are you feeling pressure in your study or work right now?':'Study_pressure','Are you satisfied with your academic result?':'Satisfaction_academic_result','Are you happy with your living place?':'Living_place_happiness','Who supports you when you are not succeeding in your academic life?':'Supports_in_academic_life','Have you used any social media within the last 6 hours?':'Using_social_media','Do you have inferiority complex?':'Inferiority_complex','Are you feeling sick/health issues today?':'Sick_or_not_today','Have you done any recreational activity (sports, gaming, hobby etc.) today?':'Recreational_activity','On a scale of 1-100, how would you express this feeling?':'Express_feeling'},axis=1,inplace=True)\n",
        "#df1.head()"
      ],
      "execution_count": 127,
      "outputs": []
    },
    {
      "cell_type": "code",
      "metadata": {
        "colab": {
          "base_uri": "https://localhost:8080/"
        },
        "id": "96m5Gc4CCnlN",
        "outputId": "52775aff-980a-4c2e-9488-64cf567dab55"
      },
      "source": [
        "df1.shape"
      ],
      "execution_count": 128,
      "outputs": [
        {
          "output_type": "execute_result",
          "data": {
            "text/plain": [
              "(920, 16)"
            ]
          },
          "metadata": {
            "tags": []
          },
          "execution_count": 128
        }
      ]
    },
    {
      "cell_type": "markdown",
      "metadata": {
        "id": "lYkOeRR8IExo"
      },
      "source": [
        "# Implementation"
      ]
    },
    {
      "cell_type": "markdown",
      "metadata": {
        "id": "i6oRPR3AKZyF"
      },
      "source": [
        "*In this section, I generated the association rules of all the itemsets.*"
      ]
    },
    {
      "cell_type": "code",
      "metadata": {
        "id": "6EiTCZJpCnti"
      },
      "source": [
        "data=[]\r\n",
        "\r\n",
        "for i in range(0,920):\r\n",
        "  data.append([str(df1.values[i,n]) for n in range(0,16)])"
      ],
      "execution_count": 129,
      "outputs": []
    },
    {
      "cell_type": "code",
      "metadata": {
        "id": "cXL0JuqzCn3A"
      },
      "source": [
        "from mlxtend.preprocessing import TransactionEncoder"
      ],
      "execution_count": 130,
      "outputs": []
    },
    {
      "cell_type": "code",
      "metadata": {
        "id": "Eczxv9qzCn-M"
      },
      "source": [
        "te=TransactionEncoder()"
      ],
      "execution_count": 131,
      "outputs": []
    },
    {
      "cell_type": "code",
      "metadata": {
        "id": "t41Bws5WCoJH"
      },
      "source": [
        "encode=te.fit_transform(data)\r\n",
        "\r\n",
        "encode_df=pd.DataFrame(encode,columns=te.columns_)"
      ],
      "execution_count": 132,
      "outputs": []
    },
    {
      "cell_type": "code",
      "metadata": {
        "colab": {
          "base_uri": "https://localhost:8080/",
          "height": 419
        },
        "id": "PzQ8kb6bCoRS",
        "outputId": "1da97cda-3197-4e4d-edba-bb78efadb4cc"
      },
      "source": [
        "#Finding The Frequent Itemsets\r\n",
        "freq_itemset=apriori(encode_df,min_support=0.10,use_colnames=True)\r\n",
        "freq_itemset"
      ],
      "execution_count": 133,
      "outputs": [
        {
          "output_type": "execute_result",
          "data": {
            "text/html": [
              "<div>\n",
              "<style scoped>\n",
              "    .dataframe tbody tr th:only-of-type {\n",
              "        vertical-align: middle;\n",
              "    }\n",
              "\n",
              "    .dataframe tbody tr th {\n",
              "        vertical-align: top;\n",
              "    }\n",
              "\n",
              "    .dataframe thead th {\n",
              "        text-align: right;\n",
              "    }\n",
              "</style>\n",
              "<table border=\"1\" class=\"dataframe\">\n",
              "  <thead>\n",
              "    <tr style=\"text-align: right;\">\n",
              "      <th></th>\n",
              "      <th>support</th>\n",
              "      <th>itemsets</th>\n",
              "    </tr>\n",
              "  </thead>\n",
              "  <tbody>\n",
              "    <tr>\n",
              "      <th>0</th>\n",
              "      <td>0.177174</td>\n",
              "      <td>(1)</td>\n",
              "    </tr>\n",
              "    <tr>\n",
              "      <th>1</th>\n",
              "      <td>0.232609</td>\n",
              "      <td>(100)</td>\n",
              "    </tr>\n",
              "    <tr>\n",
              "      <th>2</th>\n",
              "      <td>0.250000</td>\n",
              "      <td>(1st year)</td>\n",
              "    </tr>\n",
              "    <tr>\n",
              "      <th>3</th>\n",
              "      <td>0.250000</td>\n",
              "      <td>(2nd year)</td>\n",
              "    </tr>\n",
              "    <tr>\n",
              "      <th>4</th>\n",
              "      <td>0.180435</td>\n",
              "      <td>(30)</td>\n",
              "    </tr>\n",
              "    <tr>\n",
              "      <th>...</th>\n",
              "      <td>...</td>\n",
              "      <td>...</td>\n",
              "    </tr>\n",
              "    <tr>\n",
              "      <th>1754</th>\n",
              "      <td>0.204348</td>\n",
              "      <td>(Very good, Yes, Male, Single, Good, 100, Home...</td>\n",
              "    </tr>\n",
              "    <tr>\n",
              "      <th>1755</th>\n",
              "      <td>0.119565</td>\n",
              "      <td>(Yes, No, Male, Single, 1st year, Hall-Mess, G...</td>\n",
              "    </tr>\n",
              "    <tr>\n",
              "      <th>1756</th>\n",
              "      <td>0.118478</td>\n",
              "      <td>(Yes, No, Male, 4th year, Single, Family, Home...</td>\n",
              "    </tr>\n",
              "    <tr>\n",
              "      <th>1757</th>\n",
              "      <td>0.131522</td>\n",
              "      <td>(Yes, No, Male, 4th year, Friends, Single, Hom...</td>\n",
              "    </tr>\n",
              "    <tr>\n",
              "      <th>1758</th>\n",
              "      <td>0.114130</td>\n",
              "      <td>(60, Yes, Normal, Male, Single, Hall-Mess, Goo...</td>\n",
              "    </tr>\n",
              "  </tbody>\n",
              "</table>\n",
              "<p>1759 rows × 2 columns</p>\n",
              "</div>"
            ],
            "text/plain": [
              "       support                                           itemsets\n",
              "0     0.177174                                                (1)\n",
              "1     0.232609                                              (100)\n",
              "2     0.250000                                         (1st year)\n",
              "3     0.250000                                         (2nd year)\n",
              "4     0.180435                                               (30)\n",
              "...        ...                                                ...\n",
              "1754  0.204348  (Very good, Yes, Male, Single, Good, 100, Home...\n",
              "1755  0.119565  (Yes, No, Male, Single, 1st year, Hall-Mess, G...\n",
              "1756  0.118478  (Yes, No, Male, 4th year, Single, Family, Home...\n",
              "1757  0.131522  (Yes, No, Male, 4th year, Friends, Single, Hom...\n",
              "1758  0.114130  (60, Yes, Normal, Male, Single, Hall-Mess, Goo...\n",
              "\n",
              "[1759 rows x 2 columns]"
            ]
          },
          "metadata": {
            "tags": []
          },
          "execution_count": 133
        }
      ]
    },
    {
      "cell_type": "code",
      "metadata": {
        "colab": {
          "base_uri": "https://localhost:8080/",
          "height": 419
        },
        "id": "0DkiDvASCoYq",
        "outputId": "7bdfe27c-1970-41b6-da4d-2b6de9fb3863"
      },
      "source": [
        "#Generating The Association Rules\r\n",
        "asso_rules=association_rules(freq_itemset,min_threshold=0.06)\r\n",
        "asso_rules=asso_rules.sort_values(['support','confidence'])\r\n",
        "asso_rules"
      ],
      "execution_count": 134,
      "outputs": [
        {
          "output_type": "execute_result",
          "data": {
            "text/html": [
              "<div>\n",
              "<style scoped>\n",
              "    .dataframe tbody tr th:only-of-type {\n",
              "        vertical-align: middle;\n",
              "    }\n",
              "\n",
              "    .dataframe tbody tr th {\n",
              "        vertical-align: top;\n",
              "    }\n",
              "\n",
              "    .dataframe thead th {\n",
              "        text-align: right;\n",
              "    }\n",
              "</style>\n",
              "<table border=\"1\" class=\"dataframe\">\n",
              "  <thead>\n",
              "    <tr style=\"text-align: right;\">\n",
              "      <th></th>\n",
              "      <th>antecedents</th>\n",
              "      <th>consequents</th>\n",
              "      <th>antecedent support</th>\n",
              "      <th>consequent support</th>\n",
              "      <th>support</th>\n",
              "      <th>confidence</th>\n",
              "      <th>lift</th>\n",
              "      <th>leverage</th>\n",
              "      <th>conviction</th>\n",
              "    </tr>\n",
              "  </thead>\n",
              "  <tbody>\n",
              "    <tr>\n",
              "      <th>1329</th>\n",
              "      <td>(Good)</td>\n",
              "      <td>(Friends, 75)</td>\n",
              "      <td>1.0</td>\n",
              "      <td>0.1</td>\n",
              "      <td>0.1</td>\n",
              "      <td>0.1</td>\n",
              "      <td>1.0</td>\n",
              "      <td>0.0</td>\n",
              "      <td>1.0</td>\n",
              "    </tr>\n",
              "    <tr>\n",
              "      <th>1333</th>\n",
              "      <td>(Male)</td>\n",
              "      <td>(Friends, 75)</td>\n",
              "      <td>1.0</td>\n",
              "      <td>0.1</td>\n",
              "      <td>0.1</td>\n",
              "      <td>0.1</td>\n",
              "      <td>1.0</td>\n",
              "      <td>0.0</td>\n",
              "      <td>1.0</td>\n",
              "    </tr>\n",
              "    <tr>\n",
              "      <th>1339</th>\n",
              "      <td>(No)</td>\n",
              "      <td>(Friends, 75)</td>\n",
              "      <td>1.0</td>\n",
              "      <td>0.1</td>\n",
              "      <td>0.1</td>\n",
              "      <td>0.1</td>\n",
              "      <td>1.0</td>\n",
              "      <td>0.0</td>\n",
              "      <td>1.0</td>\n",
              "    </tr>\n",
              "    <tr>\n",
              "      <th>1345</th>\n",
              "      <td>(Single)</td>\n",
              "      <td>(Friends, 75)</td>\n",
              "      <td>1.0</td>\n",
              "      <td>0.1</td>\n",
              "      <td>0.1</td>\n",
              "      <td>0.1</td>\n",
              "      <td>1.0</td>\n",
              "      <td>0.0</td>\n",
              "      <td>1.0</td>\n",
              "    </tr>\n",
              "    <tr>\n",
              "      <th>1351</th>\n",
              "      <td>(Yes)</td>\n",
              "      <td>(Friends, 75)</td>\n",
              "      <td>1.0</td>\n",
              "      <td>0.1</td>\n",
              "      <td>0.1</td>\n",
              "      <td>0.1</td>\n",
              "      <td>1.0</td>\n",
              "      <td>0.0</td>\n",
              "      <td>1.0</td>\n",
              "    </tr>\n",
              "    <tr>\n",
              "      <th>...</th>\n",
              "      <td>...</td>\n",
              "      <td>...</td>\n",
              "      <td>...</td>\n",
              "      <td>...</td>\n",
              "      <td>...</td>\n",
              "      <td>...</td>\n",
              "      <td>...</td>\n",
              "      <td>...</td>\n",
              "      <td>...</td>\n",
              "    </tr>\n",
              "    <tr>\n",
              "      <th>21939</th>\n",
              "      <td>(Yes)</td>\n",
              "      <td>(Good, Single, Male, No)</td>\n",
              "      <td>1.0</td>\n",
              "      <td>1.0</td>\n",
              "      <td>1.0</td>\n",
              "      <td>1.0</td>\n",
              "      <td>1.0</td>\n",
              "      <td>0.0</td>\n",
              "      <td>inf</td>\n",
              "    </tr>\n",
              "    <tr>\n",
              "      <th>21940</th>\n",
              "      <td>(No)</td>\n",
              "      <td>(Single, Male, Yes, Good)</td>\n",
              "      <td>1.0</td>\n",
              "      <td>1.0</td>\n",
              "      <td>1.0</td>\n",
              "      <td>1.0</td>\n",
              "      <td>1.0</td>\n",
              "      <td>0.0</td>\n",
              "      <td>inf</td>\n",
              "    </tr>\n",
              "    <tr>\n",
              "      <th>21941</th>\n",
              "      <td>(Male)</td>\n",
              "      <td>(Good, Single, Yes, No)</td>\n",
              "      <td>1.0</td>\n",
              "      <td>1.0</td>\n",
              "      <td>1.0</td>\n",
              "      <td>1.0</td>\n",
              "      <td>1.0</td>\n",
              "      <td>0.0</td>\n",
              "      <td>inf</td>\n",
              "    </tr>\n",
              "    <tr>\n",
              "      <th>21942</th>\n",
              "      <td>(Good)</td>\n",
              "      <td>(Single, Male, Yes, No)</td>\n",
              "      <td>1.0</td>\n",
              "      <td>1.0</td>\n",
              "      <td>1.0</td>\n",
              "      <td>1.0</td>\n",
              "      <td>1.0</td>\n",
              "      <td>0.0</td>\n",
              "      <td>inf</td>\n",
              "    </tr>\n",
              "    <tr>\n",
              "      <th>21943</th>\n",
              "      <td>(Single)</td>\n",
              "      <td>(Good, Male, Yes, No)</td>\n",
              "      <td>1.0</td>\n",
              "      <td>1.0</td>\n",
              "      <td>1.0</td>\n",
              "      <td>1.0</td>\n",
              "      <td>1.0</td>\n",
              "      <td>0.0</td>\n",
              "      <td>inf</td>\n",
              "    </tr>\n",
              "  </tbody>\n",
              "</table>\n",
              "<p>45810 rows × 9 columns</p>\n",
              "</div>"
            ],
            "text/plain": [
              "      antecedents                consequents  ...  leverage  conviction\n",
              "1329       (Good)              (Friends, 75)  ...       0.0         1.0\n",
              "1333       (Male)              (Friends, 75)  ...       0.0         1.0\n",
              "1339         (No)              (Friends, 75)  ...       0.0         1.0\n",
              "1345     (Single)              (Friends, 75)  ...       0.0         1.0\n",
              "1351        (Yes)              (Friends, 75)  ...       0.0         1.0\n",
              "...           ...                        ...  ...       ...         ...\n",
              "21939       (Yes)   (Good, Single, Male, No)  ...       0.0         inf\n",
              "21940        (No)  (Single, Male, Yes, Good)  ...       0.0         inf\n",
              "21941      (Male)    (Good, Single, Yes, No)  ...       0.0         inf\n",
              "21942      (Good)    (Single, Male, Yes, No)  ...       0.0         inf\n",
              "21943    (Single)      (Good, Male, Yes, No)  ...       0.0         inf\n",
              "\n",
              "[45810 rows x 9 columns]"
            ]
          },
          "metadata": {
            "tags": []
          },
          "execution_count": 134
        }
      ]
    },
    {
      "cell_type": "code",
      "metadata": {
        "colab": {
          "base_uri": "https://localhost:8080/"
        },
        "id": "3Uj8fwa7Coib",
        "outputId": "0d217db4-b29e-46db-dacf-536dc924a44f"
      },
      "source": [
        "asso_rules.shape"
      ],
      "execution_count": 135,
      "outputs": [
        {
          "output_type": "execute_result",
          "data": {
            "text/plain": [
              "(45810, 9)"
            ]
          },
          "metadata": {
            "tags": []
          },
          "execution_count": 135
        }
      ]
    },
    {
      "cell_type": "markdown",
      "metadata": {
        "id": "Il5MFqcfIMaI"
      },
      "source": [
        "# Deep Analysis"
      ]
    },
    {
      "cell_type": "markdown",
      "metadata": {
        "id": "nZBmZY3jJais"
      },
      "source": [
        "*In this section, I analyzed the unique element of each features which have more than one unique value or element and found the association rules with my feelings level (Very Good, Good, Normal, Bad, Very Bad)*"
      ]
    },
    {
      "cell_type": "markdown",
      "metadata": {
        "id": "EA4JAWsyraJ3"
      },
      "source": [
        "**Satisfaction_with_meal**"
      ]
    },
    {
      "cell_type": "code",
      "metadata": {
        "id": "r3CGwT6PraJ3",
        "colab": {
          "base_uri": "https://localhost:8080/"
        },
        "outputId": "53701d04-3681-4be1-f310-c5665e182e0a"
      },
      "source": [
        "df1.Satisfaction_with_meal.value_counts()"
      ],
      "execution_count": 136,
      "outputs": [
        {
          "output_type": "execute_result",
          "data": {
            "text/plain": [
              "Yes        490\n",
              "Neutral    216\n",
              "No         214\n",
              "Name: Satisfaction_with_meal, dtype: int64"
            ]
          },
          "metadata": {
            "tags": []
          },
          "execution_count": 136
        }
      ]
    },
    {
      "cell_type": "code",
      "metadata": {
        "id": "ABAzHIgrraJ4",
        "colab": {
          "base_uri": "https://localhost:8080/"
        },
        "outputId": "bd2f235b-29f7-4485-837a-cdcedbd9abe6"
      },
      "source": [
        "df1.Satisfaction_with_meal.unique()"
      ],
      "execution_count": 137,
      "outputs": [
        {
          "output_type": "execute_result",
          "data": {
            "text/plain": [
              "array(['Yes', 'Neutral', 'No'], dtype=object)"
            ]
          },
          "metadata": {
            "tags": []
          },
          "execution_count": 137
        }
      ]
    },
    {
      "cell_type": "code",
      "metadata": {
        "id": "AC8WBvqtraJ5",
        "colab": {
          "base_uri": "https://localhost:8080/",
          "height": 204
        },
        "outputId": "656b907f-63b7-463f-8014-fe67bac4803a"
      },
      "source": [
        "basket_Yes = (df1[df1['Satisfaction_with_meal'] ==\"Yes\"] \n",
        "          .groupby(['Year', 'Felling_right_now'])['Express_feeling'] \n",
        "          .sum().unstack().reset_index().fillna(0) \n",
        "          .set_index('Year'))\n",
        "basket_Yes"
      ],
      "execution_count": 138,
      "outputs": [
        {
          "output_type": "execute_result",
          "data": {
            "text/html": [
              "<div>\n",
              "<style scoped>\n",
              "    .dataframe tbody tr th:only-of-type {\n",
              "        vertical-align: middle;\n",
              "    }\n",
              "\n",
              "    .dataframe tbody tr th {\n",
              "        vertical-align: top;\n",
              "    }\n",
              "\n",
              "    .dataframe thead th {\n",
              "        text-align: right;\n",
              "    }\n",
              "</style>\n",
              "<table border=\"1\" class=\"dataframe\">\n",
              "  <thead>\n",
              "    <tr style=\"text-align: right;\">\n",
              "      <th>Felling_right_now</th>\n",
              "      <th>Bad</th>\n",
              "      <th>Good</th>\n",
              "      <th>Normal</th>\n",
              "      <th>Very bad</th>\n",
              "      <th>Very good</th>\n",
              "    </tr>\n",
              "    <tr>\n",
              "      <th>Year</th>\n",
              "      <th></th>\n",
              "      <th></th>\n",
              "      <th></th>\n",
              "      <th></th>\n",
              "      <th></th>\n",
              "    </tr>\n",
              "  </thead>\n",
              "  <tbody>\n",
              "    <tr>\n",
              "      <th>1st year</th>\n",
              "      <td>90.0</td>\n",
              "      <td>3375.0</td>\n",
              "      <td>750.0</td>\n",
              "      <td>0.0</td>\n",
              "      <td>4500.0</td>\n",
              "    </tr>\n",
              "    <tr>\n",
              "      <th>2nd year</th>\n",
              "      <td>180.0</td>\n",
              "      <td>2700.0</td>\n",
              "      <td>1140.0</td>\n",
              "      <td>1.0</td>\n",
              "      <td>4985.0</td>\n",
              "    </tr>\n",
              "    <tr>\n",
              "      <th>3rd year</th>\n",
              "      <td>0.0</td>\n",
              "      <td>3000.0</td>\n",
              "      <td>1125.0</td>\n",
              "      <td>0.0</td>\n",
              "      <td>4600.0</td>\n",
              "    </tr>\n",
              "    <tr>\n",
              "      <th>4th year</th>\n",
              "      <td>451.0</td>\n",
              "      <td>3850.0</td>\n",
              "      <td>1584.0</td>\n",
              "      <td>5.0</td>\n",
              "      <td>6993.0</td>\n",
              "    </tr>\n",
              "  </tbody>\n",
              "</table>\n",
              "</div>"
            ],
            "text/plain": [
              "Felling_right_now    Bad    Good  Normal  Very bad  Very good\n",
              "Year                                                         \n",
              "1st year            90.0  3375.0   750.0       0.0     4500.0\n",
              "2nd year           180.0  2700.0  1140.0       1.0     4985.0\n",
              "3rd year             0.0  3000.0  1125.0       0.0     4600.0\n",
              "4th year           451.0  3850.0  1584.0       5.0     6993.0"
            ]
          },
          "metadata": {
            "tags": []
          },
          "execution_count": 138
        }
      ]
    },
    {
      "cell_type": "code",
      "metadata": {
        "id": "LdfxaN83raJ6",
        "colab": {
          "base_uri": "https://localhost:8080/",
          "height": 204
        },
        "outputId": "142f8149-c5aa-43b7-d34b-2d4abf2bdd0f"
      },
      "source": [
        "basket_Neutral = (df1[df1['Satisfaction_with_meal'] ==\"Neutral\"] \n",
        "          .groupby(['Year', 'Felling_right_now'])['Express_feeling'] \n",
        "          .sum().unstack().reset_index().fillna(0) \n",
        "          .set_index('Year'))\n",
        "basket_Neutral"
      ],
      "execution_count": 139,
      "outputs": [
        {
          "output_type": "execute_result",
          "data": {
            "text/html": [
              "<div>\n",
              "<style scoped>\n",
              "    .dataframe tbody tr th:only-of-type {\n",
              "        vertical-align: middle;\n",
              "    }\n",
              "\n",
              "    .dataframe tbody tr th {\n",
              "        vertical-align: top;\n",
              "    }\n",
              "\n",
              "    .dataframe thead th {\n",
              "        text-align: right;\n",
              "    }\n",
              "</style>\n",
              "<table border=\"1\" class=\"dataframe\">\n",
              "  <thead>\n",
              "    <tr style=\"text-align: right;\">\n",
              "      <th>Felling_right_now</th>\n",
              "      <th>Bad</th>\n",
              "      <th>Good</th>\n",
              "      <th>Normal</th>\n",
              "      <th>Very bad</th>\n",
              "      <th>Very good</th>\n",
              "    </tr>\n",
              "    <tr>\n",
              "      <th>Year</th>\n",
              "      <th></th>\n",
              "      <th></th>\n",
              "      <th></th>\n",
              "      <th></th>\n",
              "      <th></th>\n",
              "    </tr>\n",
              "  </thead>\n",
              "  <tbody>\n",
              "    <tr>\n",
              "      <th>1st year</th>\n",
              "      <td>510.0</td>\n",
              "      <td>675.0</td>\n",
              "      <td>1749.0</td>\n",
              "      <td>14.0</td>\n",
              "      <td>300.0</td>\n",
              "    </tr>\n",
              "    <tr>\n",
              "      <th>2nd year</th>\n",
              "      <td>540.0</td>\n",
              "      <td>300.0</td>\n",
              "      <td>1155.0</td>\n",
              "      <td>7.0</td>\n",
              "      <td>100.0</td>\n",
              "    </tr>\n",
              "    <tr>\n",
              "      <th>3rd year</th>\n",
              "      <td>510.0</td>\n",
              "      <td>525.0</td>\n",
              "      <td>1380.0</td>\n",
              "      <td>6.0</td>\n",
              "      <td>0.0</td>\n",
              "    </tr>\n",
              "    <tr>\n",
              "      <th>4th year</th>\n",
              "      <td>480.0</td>\n",
              "      <td>150.0</td>\n",
              "      <td>675.0</td>\n",
              "      <td>13.0</td>\n",
              "      <td>100.0</td>\n",
              "    </tr>\n",
              "  </tbody>\n",
              "</table>\n",
              "</div>"
            ],
            "text/plain": [
              "Felling_right_now    Bad   Good  Normal  Very bad  Very good\n",
              "Year                                                        \n",
              "1st year           510.0  675.0  1749.0      14.0      300.0\n",
              "2nd year           540.0  300.0  1155.0       7.0      100.0\n",
              "3rd year           510.0  525.0  1380.0       6.0        0.0\n",
              "4th year           480.0  150.0   675.0      13.0      100.0"
            ]
          },
          "metadata": {
            "tags": []
          },
          "execution_count": 139
        }
      ]
    },
    {
      "cell_type": "code",
      "metadata": {
        "id": "KO0h0MeVraJ7",
        "colab": {
          "base_uri": "https://localhost:8080/",
          "height": 204
        },
        "outputId": "3f94bddd-bd80-45ba-9995-b4752547cd1e"
      },
      "source": [
        "basket_No = (df1[df1['Satisfaction_with_meal'] ==\"No\"] \n",
        "          .groupby(['Year', 'Felling_right_now'])['Express_feeling'] \n",
        "          .sum().unstack().reset_index().fillna(0) \n",
        "          .set_index('Year'))\n",
        "basket_No"
      ],
      "execution_count": 140,
      "outputs": [
        {
          "output_type": "execute_result",
          "data": {
            "text/html": [
              "<div>\n",
              "<style scoped>\n",
              "    .dataframe tbody tr th:only-of-type {\n",
              "        vertical-align: middle;\n",
              "    }\n",
              "\n",
              "    .dataframe tbody tr th {\n",
              "        vertical-align: top;\n",
              "    }\n",
              "\n",
              "    .dataframe thead th {\n",
              "        text-align: right;\n",
              "    }\n",
              "</style>\n",
              "<table border=\"1\" class=\"dataframe\">\n",
              "  <thead>\n",
              "    <tr style=\"text-align: right;\">\n",
              "      <th>Felling_right_now</th>\n",
              "      <th>Bad</th>\n",
              "      <th>Good</th>\n",
              "      <th>Normal</th>\n",
              "      <th>Very bad</th>\n",
              "    </tr>\n",
              "    <tr>\n",
              "      <th>Year</th>\n",
              "      <th></th>\n",
              "      <th></th>\n",
              "      <th></th>\n",
              "      <th></th>\n",
              "    </tr>\n",
              "  </thead>\n",
              "  <tbody>\n",
              "    <tr>\n",
              "      <th>1st year</th>\n",
              "      <td>560.0</td>\n",
              "      <td>0.0</td>\n",
              "      <td>570.0</td>\n",
              "      <td>25.0</td>\n",
              "    </tr>\n",
              "    <tr>\n",
              "      <th>2nd year</th>\n",
              "      <td>720.0</td>\n",
              "      <td>150.0</td>\n",
              "      <td>405.0</td>\n",
              "      <td>35.0</td>\n",
              "    </tr>\n",
              "    <tr>\n",
              "      <th>3rd year</th>\n",
              "      <td>750.0</td>\n",
              "      <td>75.0</td>\n",
              "      <td>360.0</td>\n",
              "      <td>42.0</td>\n",
              "    </tr>\n",
              "    <tr>\n",
              "      <th>4th year</th>\n",
              "      <td>150.0</td>\n",
              "      <td>0.0</td>\n",
              "      <td>0.0</td>\n",
              "      <td>14.0</td>\n",
              "    </tr>\n",
              "  </tbody>\n",
              "</table>\n",
              "</div>"
            ],
            "text/plain": [
              "Felling_right_now    Bad   Good  Normal  Very bad\n",
              "Year                                             \n",
              "1st year           560.0    0.0   570.0      25.0\n",
              "2nd year           720.0  150.0   405.0      35.0\n",
              "3rd year           750.0   75.0   360.0      42.0\n",
              "4th year           150.0    0.0     0.0      14.0"
            ]
          },
          "metadata": {
            "tags": []
          },
          "execution_count": 140
        }
      ]
    },
    {
      "cell_type": "code",
      "metadata": {
        "id": "h3-Cido_raJ8"
      },
      "source": [
        "basket_Yes = (df1[df1['Satisfaction_with_meal'] ==\"Yes\"] \n",
        "          .groupby(['Year', 'Felling_right_now'])['Express_feeling'] \n",
        "          .sum().unstack().reset_index().fillna(0) \n",
        "          .set_index('Year'))\n",
        "\n",
        "basket_Neutral = (df1[df1['Satisfaction_with_meal'] ==\"Neutral\"] \n",
        "          .groupby(['Year', 'Felling_right_now'])['Express_feeling'] \n",
        "          .sum().unstack().reset_index().fillna(0) \n",
        "          .set_index('Year'))\n",
        "\n",
        "basket_No = (df1[df1['Satisfaction_with_meal'] ==\"No\"] \n",
        "          .groupby(['Year', 'Felling_right_now'])['Express_feeling'] \n",
        "          .sum().unstack().reset_index().fillna(0) \n",
        "          .set_index('Year'))"
      ],
      "execution_count": 141,
      "outputs": []
    },
    {
      "cell_type": "code",
      "metadata": {
        "id": "MyqbP9XqraJ9",
        "colab": {
          "base_uri": "https://localhost:8080/",
          "height": 204
        },
        "outputId": "e046ad04-a634-41ad-cf0e-0bf586cdfbb9"
      },
      "source": [
        "def hot_encode(x): \n",
        "    if(x<= 0): \n",
        "        return 0\n",
        "    if(x>= 1): \n",
        "        return 1\n",
        "    \n",
        "# Encoding the datasets \n",
        "basket_encoded = basket_Yes.applymap(hot_encode) \n",
        "basket_Yes = basket_encoded \n",
        "basket_Yes.head()"
      ],
      "execution_count": 142,
      "outputs": [
        {
          "output_type": "execute_result",
          "data": {
            "text/html": [
              "<div>\n",
              "<style scoped>\n",
              "    .dataframe tbody tr th:only-of-type {\n",
              "        vertical-align: middle;\n",
              "    }\n",
              "\n",
              "    .dataframe tbody tr th {\n",
              "        vertical-align: top;\n",
              "    }\n",
              "\n",
              "    .dataframe thead th {\n",
              "        text-align: right;\n",
              "    }\n",
              "</style>\n",
              "<table border=\"1\" class=\"dataframe\">\n",
              "  <thead>\n",
              "    <tr style=\"text-align: right;\">\n",
              "      <th>Felling_right_now</th>\n",
              "      <th>Bad</th>\n",
              "      <th>Good</th>\n",
              "      <th>Normal</th>\n",
              "      <th>Very bad</th>\n",
              "      <th>Very good</th>\n",
              "    </tr>\n",
              "    <tr>\n",
              "      <th>Year</th>\n",
              "      <th></th>\n",
              "      <th></th>\n",
              "      <th></th>\n",
              "      <th></th>\n",
              "      <th></th>\n",
              "    </tr>\n",
              "  </thead>\n",
              "  <tbody>\n",
              "    <tr>\n",
              "      <th>1st year</th>\n",
              "      <td>1</td>\n",
              "      <td>1</td>\n",
              "      <td>1</td>\n",
              "      <td>0</td>\n",
              "      <td>1</td>\n",
              "    </tr>\n",
              "    <tr>\n",
              "      <th>2nd year</th>\n",
              "      <td>1</td>\n",
              "      <td>1</td>\n",
              "      <td>1</td>\n",
              "      <td>1</td>\n",
              "      <td>1</td>\n",
              "    </tr>\n",
              "    <tr>\n",
              "      <th>3rd year</th>\n",
              "      <td>0</td>\n",
              "      <td>1</td>\n",
              "      <td>1</td>\n",
              "      <td>0</td>\n",
              "      <td>1</td>\n",
              "    </tr>\n",
              "    <tr>\n",
              "      <th>4th year</th>\n",
              "      <td>1</td>\n",
              "      <td>1</td>\n",
              "      <td>1</td>\n",
              "      <td>1</td>\n",
              "      <td>1</td>\n",
              "    </tr>\n",
              "  </tbody>\n",
              "</table>\n",
              "</div>"
            ],
            "text/plain": [
              "Felling_right_now  Bad  Good  Normal  Very bad  Very good\n",
              "Year                                                     \n",
              "1st year             1     1       1         0          1\n",
              "2nd year             1     1       1         1          1\n",
              "3rd year             0     1       1         0          1\n",
              "4th year             1     1       1         1          1"
            ]
          },
          "metadata": {
            "tags": []
          },
          "execution_count": 142
        }
      ]
    },
    {
      "cell_type": "code",
      "metadata": {
        "id": "V52U0_86raJ9",
        "colab": {
          "base_uri": "https://localhost:8080/",
          "height": 204
        },
        "outputId": "25e7001c-7f91-4612-b69e-1ee3e4edd1cb"
      },
      "source": [
        "basket_encoded = basket_Neutral.applymap(hot_encode) \n",
        "basket_Neutral = basket_encoded \n",
        "basket_Neutral.head()"
      ],
      "execution_count": 143,
      "outputs": [
        {
          "output_type": "execute_result",
          "data": {
            "text/html": [
              "<div>\n",
              "<style scoped>\n",
              "    .dataframe tbody tr th:only-of-type {\n",
              "        vertical-align: middle;\n",
              "    }\n",
              "\n",
              "    .dataframe tbody tr th {\n",
              "        vertical-align: top;\n",
              "    }\n",
              "\n",
              "    .dataframe thead th {\n",
              "        text-align: right;\n",
              "    }\n",
              "</style>\n",
              "<table border=\"1\" class=\"dataframe\">\n",
              "  <thead>\n",
              "    <tr style=\"text-align: right;\">\n",
              "      <th>Felling_right_now</th>\n",
              "      <th>Bad</th>\n",
              "      <th>Good</th>\n",
              "      <th>Normal</th>\n",
              "      <th>Very bad</th>\n",
              "      <th>Very good</th>\n",
              "    </tr>\n",
              "    <tr>\n",
              "      <th>Year</th>\n",
              "      <th></th>\n",
              "      <th></th>\n",
              "      <th></th>\n",
              "      <th></th>\n",
              "      <th></th>\n",
              "    </tr>\n",
              "  </thead>\n",
              "  <tbody>\n",
              "    <tr>\n",
              "      <th>1st year</th>\n",
              "      <td>1</td>\n",
              "      <td>1</td>\n",
              "      <td>1</td>\n",
              "      <td>1</td>\n",
              "      <td>1</td>\n",
              "    </tr>\n",
              "    <tr>\n",
              "      <th>2nd year</th>\n",
              "      <td>1</td>\n",
              "      <td>1</td>\n",
              "      <td>1</td>\n",
              "      <td>1</td>\n",
              "      <td>1</td>\n",
              "    </tr>\n",
              "    <tr>\n",
              "      <th>3rd year</th>\n",
              "      <td>1</td>\n",
              "      <td>1</td>\n",
              "      <td>1</td>\n",
              "      <td>1</td>\n",
              "      <td>0</td>\n",
              "    </tr>\n",
              "    <tr>\n",
              "      <th>4th year</th>\n",
              "      <td>1</td>\n",
              "      <td>1</td>\n",
              "      <td>1</td>\n",
              "      <td>1</td>\n",
              "      <td>1</td>\n",
              "    </tr>\n",
              "  </tbody>\n",
              "</table>\n",
              "</div>"
            ],
            "text/plain": [
              "Felling_right_now  Bad  Good  Normal  Very bad  Very good\n",
              "Year                                                     \n",
              "1st year             1     1       1         1          1\n",
              "2nd year             1     1       1         1          1\n",
              "3rd year             1     1       1         1          0\n",
              "4th year             1     1       1         1          1"
            ]
          },
          "metadata": {
            "tags": []
          },
          "execution_count": 143
        }
      ]
    },
    {
      "cell_type": "code",
      "metadata": {
        "id": "ZUdT_WnRraJ-",
        "colab": {
          "base_uri": "https://localhost:8080/",
          "height": 204
        },
        "outputId": "968280d5-1d2e-47c6-8fc7-e0a202ddac5b"
      },
      "source": [
        "basket_encoded = basket_No.applymap(hot_encode) \n",
        "basket_No = basket_encoded \n",
        "basket_No.head()"
      ],
      "execution_count": 144,
      "outputs": [
        {
          "output_type": "execute_result",
          "data": {
            "text/html": [
              "<div>\n",
              "<style scoped>\n",
              "    .dataframe tbody tr th:only-of-type {\n",
              "        vertical-align: middle;\n",
              "    }\n",
              "\n",
              "    .dataframe tbody tr th {\n",
              "        vertical-align: top;\n",
              "    }\n",
              "\n",
              "    .dataframe thead th {\n",
              "        text-align: right;\n",
              "    }\n",
              "</style>\n",
              "<table border=\"1\" class=\"dataframe\">\n",
              "  <thead>\n",
              "    <tr style=\"text-align: right;\">\n",
              "      <th>Felling_right_now</th>\n",
              "      <th>Bad</th>\n",
              "      <th>Good</th>\n",
              "      <th>Normal</th>\n",
              "      <th>Very bad</th>\n",
              "    </tr>\n",
              "    <tr>\n",
              "      <th>Year</th>\n",
              "      <th></th>\n",
              "      <th></th>\n",
              "      <th></th>\n",
              "      <th></th>\n",
              "    </tr>\n",
              "  </thead>\n",
              "  <tbody>\n",
              "    <tr>\n",
              "      <th>1st year</th>\n",
              "      <td>1</td>\n",
              "      <td>0</td>\n",
              "      <td>1</td>\n",
              "      <td>1</td>\n",
              "    </tr>\n",
              "    <tr>\n",
              "      <th>2nd year</th>\n",
              "      <td>1</td>\n",
              "      <td>1</td>\n",
              "      <td>1</td>\n",
              "      <td>1</td>\n",
              "    </tr>\n",
              "    <tr>\n",
              "      <th>3rd year</th>\n",
              "      <td>1</td>\n",
              "      <td>1</td>\n",
              "      <td>1</td>\n",
              "      <td>1</td>\n",
              "    </tr>\n",
              "    <tr>\n",
              "      <th>4th year</th>\n",
              "      <td>1</td>\n",
              "      <td>0</td>\n",
              "      <td>0</td>\n",
              "      <td>1</td>\n",
              "    </tr>\n",
              "  </tbody>\n",
              "</table>\n",
              "</div>"
            ],
            "text/plain": [
              "Felling_right_now  Bad  Good  Normal  Very bad\n",
              "Year                                          \n",
              "1st year             1     0       1         1\n",
              "2nd year             1     1       1         1\n",
              "3rd year             1     1       1         1\n",
              "4th year             1     0       0         1"
            ]
          },
          "metadata": {
            "tags": []
          },
          "execution_count": 144
        }
      ]
    },
    {
      "cell_type": "code",
      "metadata": {
        "id": "n3rBp_WQraJ-",
        "colab": {
          "base_uri": "https://localhost:8080/",
          "height": 204
        },
        "outputId": "dc27d7f4-73ad-42ec-f232-31431c59542b"
      },
      "source": [
        "# Building the model \n",
        "frq_items = apriori(basket_Yes, min_support = 0.05, use_colnames = True) \n",
        "  \n",
        "# Collecting the inferred rules in a dataframe \n",
        "rules = association_rules(frq_items, metric =\"lift\", min_threshold = 1) \n",
        "rules = rules.sort_values(['confidence', 'lift'], ascending =[False, False]) \n",
        "rules.head()"
      ],
      "execution_count": 145,
      "outputs": [
        {
          "output_type": "execute_result",
          "data": {
            "text/html": [
              "<div>\n",
              "<style scoped>\n",
              "    .dataframe tbody tr th:only-of-type {\n",
              "        vertical-align: middle;\n",
              "    }\n",
              "\n",
              "    .dataframe tbody tr th {\n",
              "        vertical-align: top;\n",
              "    }\n",
              "\n",
              "    .dataframe thead th {\n",
              "        text-align: right;\n",
              "    }\n",
              "</style>\n",
              "<table border=\"1\" class=\"dataframe\">\n",
              "  <thead>\n",
              "    <tr style=\"text-align: right;\">\n",
              "      <th></th>\n",
              "      <th>antecedents</th>\n",
              "      <th>consequents</th>\n",
              "      <th>antecedent support</th>\n",
              "      <th>consequent support</th>\n",
              "      <th>support</th>\n",
              "      <th>confidence</th>\n",
              "      <th>lift</th>\n",
              "      <th>leverage</th>\n",
              "      <th>conviction</th>\n",
              "    </tr>\n",
              "  </thead>\n",
              "  <tbody>\n",
              "    <tr>\n",
              "      <th>5</th>\n",
              "      <td>(Very bad)</td>\n",
              "      <td>(Bad)</td>\n",
              "      <td>0.5</td>\n",
              "      <td>0.75</td>\n",
              "      <td>0.5</td>\n",
              "      <td>1.0</td>\n",
              "      <td>1.333333</td>\n",
              "      <td>0.125</td>\n",
              "      <td>inf</td>\n",
              "    </tr>\n",
              "    <tr>\n",
              "      <th>28</th>\n",
              "      <td>(Very bad, Good)</td>\n",
              "      <td>(Bad)</td>\n",
              "      <td>0.5</td>\n",
              "      <td>0.75</td>\n",
              "      <td>0.5</td>\n",
              "      <td>1.0</td>\n",
              "      <td>1.333333</td>\n",
              "      <td>0.125</td>\n",
              "      <td>inf</td>\n",
              "    </tr>\n",
              "    <tr>\n",
              "      <th>30</th>\n",
              "      <td>(Very bad)</td>\n",
              "      <td>(Bad, Good)</td>\n",
              "      <td>0.5</td>\n",
              "      <td>0.75</td>\n",
              "      <td>0.5</td>\n",
              "      <td>1.0</td>\n",
              "      <td>1.333333</td>\n",
              "      <td>0.125</td>\n",
              "      <td>inf</td>\n",
              "    </tr>\n",
              "    <tr>\n",
              "      <th>39</th>\n",
              "      <td>(Normal, Very bad)</td>\n",
              "      <td>(Bad)</td>\n",
              "      <td>0.5</td>\n",
              "      <td>0.75</td>\n",
              "      <td>0.5</td>\n",
              "      <td>1.0</td>\n",
              "      <td>1.333333</td>\n",
              "      <td>0.125</td>\n",
              "      <td>inf</td>\n",
              "    </tr>\n",
              "    <tr>\n",
              "      <th>43</th>\n",
              "      <td>(Very bad)</td>\n",
              "      <td>(Normal, Bad)</td>\n",
              "      <td>0.5</td>\n",
              "      <td>0.75</td>\n",
              "      <td>0.5</td>\n",
              "      <td>1.0</td>\n",
              "      <td>1.333333</td>\n",
              "      <td>0.125</td>\n",
              "      <td>inf</td>\n",
              "    </tr>\n",
              "  </tbody>\n",
              "</table>\n",
              "</div>"
            ],
            "text/plain": [
              "           antecedents    consequents  ...  leverage  conviction\n",
              "5           (Very bad)          (Bad)  ...     0.125         inf\n",
              "28    (Very bad, Good)          (Bad)  ...     0.125         inf\n",
              "30          (Very bad)    (Bad, Good)  ...     0.125         inf\n",
              "39  (Normal, Very bad)          (Bad)  ...     0.125         inf\n",
              "43          (Very bad)  (Normal, Bad)  ...     0.125         inf\n",
              "\n",
              "[5 rows x 9 columns]"
            ]
          },
          "metadata": {
            "tags": []
          },
          "execution_count": 145
        }
      ]
    },
    {
      "cell_type": "code",
      "metadata": {
        "id": "tpKDQ1dOraJ_",
        "colab": {
          "base_uri": "https://localhost:8080/"
        },
        "outputId": "080974a6-17a0-43e1-8d1a-861b24775367"
      },
      "source": [
        "rules.shape"
      ],
      "execution_count": 146,
      "outputs": [
        {
          "output_type": "execute_result",
          "data": {
            "text/plain": [
              "(180, 9)"
            ]
          },
          "metadata": {
            "tags": []
          },
          "execution_count": 146
        }
      ]
    },
    {
      "cell_type": "markdown",
      "metadata": {
        "id": "6aXY3C1-raJ_"
      },
      "source": [
        "***Making Recommendations***"
      ]
    },
    {
      "cell_type": "markdown",
      "metadata": {
        "id": "AMbhmImRraJ_"
      },
      "source": [
        "For the first row"
      ]
    },
    {
      "cell_type": "code",
      "metadata": {
        "id": "bZfpJiOZraJ_",
        "colab": {
          "base_uri": "https://localhost:8080/"
        },
        "outputId": "8d07d4bc-59d8-40f2-8b6b-407b44841785"
      },
      "source": [
        "basket_Yes['Very bad'].sum()"
      ],
      "execution_count": 147,
      "outputs": [
        {
          "output_type": "execute_result",
          "data": {
            "text/plain": [
              "2"
            ]
          },
          "metadata": {
            "tags": []
          },
          "execution_count": 147
        }
      ]
    },
    {
      "cell_type": "code",
      "metadata": {
        "id": "tA3elL8jraKA",
        "colab": {
          "base_uri": "https://localhost:8080/"
        },
        "outputId": "bbdaa724-03f7-4985-d37c-906ae545d673"
      },
      "source": [
        "basket_Yes['Bad'].sum()"
      ],
      "execution_count": 148,
      "outputs": [
        {
          "output_type": "execute_result",
          "data": {
            "text/plain": [
              "3"
            ]
          },
          "metadata": {
            "tags": []
          },
          "execution_count": 148
        }
      ]
    },
    {
      "cell_type": "code",
      "metadata": {
        "id": "glNdeuExraKA",
        "colab": {
          "base_uri": "https://localhost:8080/",
          "height": 204
        },
        "outputId": "e37d347e-882b-4275-c72c-13b01d73beb0"
      },
      "source": [
        "# Building the model \n",
        "frq_items = apriori(basket_Neutral, min_support = 0.05, use_colnames = True) \n",
        "  \n",
        "# Collecting the inferred rules in a dataframe \n",
        "rules = association_rules(frq_items, metric =\"lift\", min_threshold = 1) \n",
        "rules = rules.sort_values(['confidence', 'lift'], ascending =[False, False]) \n",
        "rules.head()"
      ],
      "execution_count": 149,
      "outputs": [
        {
          "output_type": "execute_result",
          "data": {
            "text/html": [
              "<div>\n",
              "<style scoped>\n",
              "    .dataframe tbody tr th:only-of-type {\n",
              "        vertical-align: middle;\n",
              "    }\n",
              "\n",
              "    .dataframe tbody tr th {\n",
              "        vertical-align: top;\n",
              "    }\n",
              "\n",
              "    .dataframe thead th {\n",
              "        text-align: right;\n",
              "    }\n",
              "</style>\n",
              "<table border=\"1\" class=\"dataframe\">\n",
              "  <thead>\n",
              "    <tr style=\"text-align: right;\">\n",
              "      <th></th>\n",
              "      <th>antecedents</th>\n",
              "      <th>consequents</th>\n",
              "      <th>antecedent support</th>\n",
              "      <th>consequent support</th>\n",
              "      <th>support</th>\n",
              "      <th>confidence</th>\n",
              "      <th>lift</th>\n",
              "      <th>leverage</th>\n",
              "      <th>conviction</th>\n",
              "    </tr>\n",
              "  </thead>\n",
              "  <tbody>\n",
              "    <tr>\n",
              "      <th>0</th>\n",
              "      <td>(Bad)</td>\n",
              "      <td>(Good)</td>\n",
              "      <td>1.0</td>\n",
              "      <td>1.0</td>\n",
              "      <td>1.0</td>\n",
              "      <td>1.0</td>\n",
              "      <td>1.0</td>\n",
              "      <td>0.0</td>\n",
              "      <td>inf</td>\n",
              "    </tr>\n",
              "    <tr>\n",
              "      <th>1</th>\n",
              "      <td>(Good)</td>\n",
              "      <td>(Bad)</td>\n",
              "      <td>1.0</td>\n",
              "      <td>1.0</td>\n",
              "      <td>1.0</td>\n",
              "      <td>1.0</td>\n",
              "      <td>1.0</td>\n",
              "      <td>0.0</td>\n",
              "      <td>inf</td>\n",
              "    </tr>\n",
              "    <tr>\n",
              "      <th>2</th>\n",
              "      <td>(Normal)</td>\n",
              "      <td>(Bad)</td>\n",
              "      <td>1.0</td>\n",
              "      <td>1.0</td>\n",
              "      <td>1.0</td>\n",
              "      <td>1.0</td>\n",
              "      <td>1.0</td>\n",
              "      <td>0.0</td>\n",
              "      <td>inf</td>\n",
              "    </tr>\n",
              "    <tr>\n",
              "      <th>3</th>\n",
              "      <td>(Bad)</td>\n",
              "      <td>(Normal)</td>\n",
              "      <td>1.0</td>\n",
              "      <td>1.0</td>\n",
              "      <td>1.0</td>\n",
              "      <td>1.0</td>\n",
              "      <td>1.0</td>\n",
              "      <td>0.0</td>\n",
              "      <td>inf</td>\n",
              "    </tr>\n",
              "    <tr>\n",
              "      <th>4</th>\n",
              "      <td>(Bad)</td>\n",
              "      <td>(Very bad)</td>\n",
              "      <td>1.0</td>\n",
              "      <td>1.0</td>\n",
              "      <td>1.0</td>\n",
              "      <td>1.0</td>\n",
              "      <td>1.0</td>\n",
              "      <td>0.0</td>\n",
              "      <td>inf</td>\n",
              "    </tr>\n",
              "  </tbody>\n",
              "</table>\n",
              "</div>"
            ],
            "text/plain": [
              "  antecedents consequents  antecedent support  ...  lift  leverage  conviction\n",
              "0       (Bad)      (Good)                 1.0  ...   1.0       0.0         inf\n",
              "1      (Good)       (Bad)                 1.0  ...   1.0       0.0         inf\n",
              "2    (Normal)       (Bad)                 1.0  ...   1.0       0.0         inf\n",
              "3       (Bad)    (Normal)                 1.0  ...   1.0       0.0         inf\n",
              "4       (Bad)  (Very bad)                 1.0  ...   1.0       0.0         inf\n",
              "\n",
              "[5 rows x 9 columns]"
            ]
          },
          "metadata": {
            "tags": []
          },
          "execution_count": 149
        }
      ]
    },
    {
      "cell_type": "code",
      "metadata": {
        "id": "x6yAgz2DraKA",
        "colab": {
          "base_uri": "https://localhost:8080/"
        },
        "outputId": "3c74fa85-b265-48b0-d93e-3ecd1de2776f"
      },
      "source": [
        "rules.shape"
      ],
      "execution_count": 150,
      "outputs": [
        {
          "output_type": "execute_result",
          "data": {
            "text/plain": [
              "(180, 9)"
            ]
          },
          "metadata": {
            "tags": []
          },
          "execution_count": 150
        }
      ]
    },
    {
      "cell_type": "markdown",
      "metadata": {
        "id": "En2EZcYlraKB"
      },
      "source": [
        "For the last row"
      ]
    },
    {
      "cell_type": "code",
      "metadata": {
        "id": "rU4SnfivraKB",
        "colab": {
          "base_uri": "https://localhost:8080/"
        },
        "outputId": "24bc5cf1-7ecd-4deb-9ccf-810fdc8d6013"
      },
      "source": [
        "basket_Neutral['Very good'].sum()"
      ],
      "execution_count": 151,
      "outputs": [
        {
          "output_type": "execute_result",
          "data": {
            "text/plain": [
              "3"
            ]
          },
          "metadata": {
            "tags": []
          },
          "execution_count": 151
        }
      ]
    },
    {
      "cell_type": "code",
      "metadata": {
        "id": "1a6OEZnuraKB",
        "colab": {
          "base_uri": "https://localhost:8080/"
        },
        "outputId": "eb29955a-98e8-4e53-cfb1-291c6432e430"
      },
      "source": [
        "basket_Neutral['Bad'].sum()"
      ],
      "execution_count": 152,
      "outputs": [
        {
          "output_type": "execute_result",
          "data": {
            "text/plain": [
              "4"
            ]
          },
          "metadata": {
            "tags": []
          },
          "execution_count": 152
        }
      ]
    },
    {
      "cell_type": "code",
      "metadata": {
        "id": "561sOJKTraKB",
        "colab": {
          "base_uri": "https://localhost:8080/",
          "height": 204
        },
        "outputId": "dabc0008-fabb-43c0-f473-8681e60b5318"
      },
      "source": [
        "# Building the model \n",
        "frq_items = apriori(basket_No, min_support = 0.05, use_colnames = True) \n",
        "  \n",
        "# Collecting the inferred rules in a dataframe \n",
        "rules = association_rules(frq_items, metric =\"lift\", min_threshold = 1) \n",
        "rules = rules.sort_values(['confidence', 'lift'], ascending =[False, False]) \n",
        "rules.head() "
      ],
      "execution_count": 153,
      "outputs": [
        {
          "output_type": "execute_result",
          "data": {
            "text/html": [
              "<div>\n",
              "<style scoped>\n",
              "    .dataframe tbody tr th:only-of-type {\n",
              "        vertical-align: middle;\n",
              "    }\n",
              "\n",
              "    .dataframe tbody tr th {\n",
              "        vertical-align: top;\n",
              "    }\n",
              "\n",
              "    .dataframe thead th {\n",
              "        text-align: right;\n",
              "    }\n",
              "</style>\n",
              "<table border=\"1\" class=\"dataframe\">\n",
              "  <thead>\n",
              "    <tr style=\"text-align: right;\">\n",
              "      <th></th>\n",
              "      <th>antecedents</th>\n",
              "      <th>consequents</th>\n",
              "      <th>antecedent support</th>\n",
              "      <th>consequent support</th>\n",
              "      <th>support</th>\n",
              "      <th>confidence</th>\n",
              "      <th>lift</th>\n",
              "      <th>leverage</th>\n",
              "      <th>conviction</th>\n",
              "    </tr>\n",
              "  </thead>\n",
              "  <tbody>\n",
              "    <tr>\n",
              "      <th>7</th>\n",
              "      <td>(Good)</td>\n",
              "      <td>(Normal)</td>\n",
              "      <td>0.5</td>\n",
              "      <td>0.75</td>\n",
              "      <td>0.5</td>\n",
              "      <td>1.0</td>\n",
              "      <td>1.333333</td>\n",
              "      <td>0.125</td>\n",
              "      <td>inf</td>\n",
              "    </tr>\n",
              "    <tr>\n",
              "      <th>14</th>\n",
              "      <td>(Bad, Good)</td>\n",
              "      <td>(Normal)</td>\n",
              "      <td>0.5</td>\n",
              "      <td>0.75</td>\n",
              "      <td>0.5</td>\n",
              "      <td>1.0</td>\n",
              "      <td>1.333333</td>\n",
              "      <td>0.125</td>\n",
              "      <td>inf</td>\n",
              "    </tr>\n",
              "    <tr>\n",
              "      <th>17</th>\n",
              "      <td>(Good)</td>\n",
              "      <td>(Normal, Bad)</td>\n",
              "      <td>0.5</td>\n",
              "      <td>0.75</td>\n",
              "      <td>0.5</td>\n",
              "      <td>1.0</td>\n",
              "      <td>1.333333</td>\n",
              "      <td>0.125</td>\n",
              "      <td>inf</td>\n",
              "    </tr>\n",
              "    <tr>\n",
              "      <th>32</th>\n",
              "      <td>(Very bad, Good)</td>\n",
              "      <td>(Normal)</td>\n",
              "      <td>0.5</td>\n",
              "      <td>0.75</td>\n",
              "      <td>0.5</td>\n",
              "      <td>1.0</td>\n",
              "      <td>1.333333</td>\n",
              "      <td>0.125</td>\n",
              "      <td>inf</td>\n",
              "    </tr>\n",
              "    <tr>\n",
              "      <th>35</th>\n",
              "      <td>(Good)</td>\n",
              "      <td>(Normal, Very bad)</td>\n",
              "      <td>0.5</td>\n",
              "      <td>0.75</td>\n",
              "      <td>0.5</td>\n",
              "      <td>1.0</td>\n",
              "      <td>1.333333</td>\n",
              "      <td>0.125</td>\n",
              "      <td>inf</td>\n",
              "    </tr>\n",
              "  </tbody>\n",
              "</table>\n",
              "</div>"
            ],
            "text/plain": [
              "         antecedents         consequents  ...  leverage  conviction\n",
              "7             (Good)            (Normal)  ...     0.125         inf\n",
              "14       (Bad, Good)            (Normal)  ...     0.125         inf\n",
              "17            (Good)       (Normal, Bad)  ...     0.125         inf\n",
              "32  (Very bad, Good)            (Normal)  ...     0.125         inf\n",
              "35            (Good)  (Normal, Very bad)  ...     0.125         inf\n",
              "\n",
              "[5 rows x 9 columns]"
            ]
          },
          "metadata": {
            "tags": []
          },
          "execution_count": 153
        }
      ]
    },
    {
      "cell_type": "markdown",
      "metadata": {
        "id": "NBIzOflhraKC"
      },
      "source": [
        "For the last row"
      ]
    },
    {
      "cell_type": "code",
      "metadata": {
        "id": "Fdr6x-FyraKC",
        "colab": {
          "base_uri": "https://localhost:8080/"
        },
        "outputId": "3bb0ab11-dce9-48da-d4aa-6a75ee00567c"
      },
      "source": [
        "basket_No[['Normal','Bad']].sum()"
      ],
      "execution_count": 154,
      "outputs": [
        {
          "output_type": "execute_result",
          "data": {
            "text/plain": [
              "Felling_right_now\n",
              "Normal    3\n",
              "Bad       4\n",
              "dtype: int64"
            ]
          },
          "metadata": {
            "tags": []
          },
          "execution_count": 154
        }
      ]
    },
    {
      "cell_type": "code",
      "metadata": {
        "id": "9f3B_rMAraKD",
        "colab": {
          "base_uri": "https://localhost:8080/"
        },
        "outputId": "65096af0-36ae-4e46-8909-b2cf434f95ae"
      },
      "source": [
        "basket_No['Very bad'].sum()"
      ],
      "execution_count": 155,
      "outputs": [
        {
          "output_type": "execute_result",
          "data": {
            "text/plain": [
              "4"
            ]
          },
          "metadata": {
            "tags": []
          },
          "execution_count": 155
        }
      ]
    },
    {
      "cell_type": "code",
      "metadata": {
        "id": "3fkTFcbGraKD"
      },
      "source": [
        "#df1.head()"
      ],
      "execution_count": 156,
      "outputs": []
    },
    {
      "cell_type": "markdown",
      "metadata": {
        "id": "c7gVNZnMraKD"
      },
      "source": [
        "**location**"
      ]
    },
    {
      "cell_type": "code",
      "metadata": {
        "id": "_znX_b6eraKD",
        "colab": {
          "base_uri": "https://localhost:8080/"
        },
        "outputId": "edd7964e-7295-4e74-d5b1-7506eb0cd412"
      },
      "source": [
        "df1.Location.unique()"
      ],
      "execution_count": 157,
      "outputs": [
        {
          "output_type": "execute_result",
          "data": {
            "text/plain": [
              "array(['Home', 'Hall-Mess', 'Department', 'On way to home', 'Playground'],\n",
              "      dtype=object)"
            ]
          },
          "metadata": {
            "tags": []
          },
          "execution_count": 157
        }
      ]
    },
    {
      "cell_type": "code",
      "metadata": {
        "id": "SKS_9q98raKE"
      },
      "source": [
        "basket_Home = (df1[df1['Location'] ==\"Home\"] \n",
        "          .groupby(['Year', 'Felling_right_now'])['Express_feeling'] \n",
        "          .sum().unstack().reset_index().fillna(0) \n",
        "          .set_index('Year'))\n",
        "basket_Department = (df1[df1['Location'] ==\"Department\"] \n",
        "          .groupby(['Year', 'Felling_right_now'])['Express_feeling'] \n",
        "          .sum().unstack().reset_index().fillna(0) \n",
        "          .set_index('Year'))\n",
        "basket_Playground = (df1[df1['Location'] ==\"Playground\"] \n",
        "          .groupby(['Year', 'Felling_right_now'])['Express_feeling'] \n",
        "          .sum().unstack().reset_index().fillna(0) \n",
        "          .set_index('Year'))"
      ],
      "execution_count": 158,
      "outputs": []
    },
    {
      "cell_type": "code",
      "metadata": {
        "id": "lTdx9tntraKF"
      },
      "source": [
        "def hot_encode(x): \n",
        "    if(x<= 0): \n",
        "        return 0\n",
        "    if(x>= 1): \n",
        "        return 1\n",
        "    \n",
        "# Encoding the datasets \n",
        "basket_encoded = basket_Home.applymap(hot_encode) \n",
        "basket_Home = basket_encoded \n",
        "  \n",
        "basket_encoded = basket_Department.applymap(hot_encode) \n",
        "basket_Department = basket_encoded \n",
        "  \n",
        "basket_encoded = basket_Playground.applymap(hot_encode) \n",
        "basket_Playground = basket_encoded "
      ],
      "execution_count": 159,
      "outputs": []
    },
    {
      "cell_type": "code",
      "metadata": {
        "id": "-SLeWUYCraKF",
        "colab": {
          "base_uri": "https://localhost:8080/",
          "height": 204
        },
        "outputId": "1ea0f2d6-62b1-4fdd-80fb-479c936d3248"
      },
      "source": [
        "# Building the model \n",
        "frq_items = apriori(basket_Home, min_support = 0.05, use_colnames = True) \n",
        "  \n",
        "# Collecting the inferred rules in a dataframe \n",
        "rules = association_rules(frq_items, metric =\"lift\", min_threshold = 1) \n",
        "rules = rules.sort_values(['confidence', 'lift'], ascending =[False, False]) \n",
        "rules.head() "
      ],
      "execution_count": 160,
      "outputs": [
        {
          "output_type": "execute_result",
          "data": {
            "text/html": [
              "<div>\n",
              "<style scoped>\n",
              "    .dataframe tbody tr th:only-of-type {\n",
              "        vertical-align: middle;\n",
              "    }\n",
              "\n",
              "    .dataframe tbody tr th {\n",
              "        vertical-align: top;\n",
              "    }\n",
              "\n",
              "    .dataframe thead th {\n",
              "        text-align: right;\n",
              "    }\n",
              "</style>\n",
              "<table border=\"1\" class=\"dataframe\">\n",
              "  <thead>\n",
              "    <tr style=\"text-align: right;\">\n",
              "      <th></th>\n",
              "      <th>antecedents</th>\n",
              "      <th>consequents</th>\n",
              "      <th>antecedent support</th>\n",
              "      <th>consequent support</th>\n",
              "      <th>support</th>\n",
              "      <th>confidence</th>\n",
              "      <th>lift</th>\n",
              "      <th>leverage</th>\n",
              "      <th>conviction</th>\n",
              "    </tr>\n",
              "  </thead>\n",
              "  <tbody>\n",
              "    <tr>\n",
              "      <th>0</th>\n",
              "      <td>(Bad)</td>\n",
              "      <td>(Good)</td>\n",
              "      <td>0.5</td>\n",
              "      <td>1.0</td>\n",
              "      <td>0.5</td>\n",
              "      <td>1.0</td>\n",
              "      <td>1.0</td>\n",
              "      <td>0.0</td>\n",
              "      <td>inf</td>\n",
              "    </tr>\n",
              "    <tr>\n",
              "      <th>3</th>\n",
              "      <td>(Bad)</td>\n",
              "      <td>(Normal)</td>\n",
              "      <td>0.5</td>\n",
              "      <td>1.0</td>\n",
              "      <td>0.5</td>\n",
              "      <td>1.0</td>\n",
              "      <td>1.0</td>\n",
              "      <td>0.0</td>\n",
              "      <td>inf</td>\n",
              "    </tr>\n",
              "    <tr>\n",
              "      <th>7</th>\n",
              "      <td>(Bad)</td>\n",
              "      <td>(Very good)</td>\n",
              "      <td>0.5</td>\n",
              "      <td>1.0</td>\n",
              "      <td>0.5</td>\n",
              "      <td>1.0</td>\n",
              "      <td>1.0</td>\n",
              "      <td>0.0</td>\n",
              "      <td>inf</td>\n",
              "    </tr>\n",
              "    <tr>\n",
              "      <th>8</th>\n",
              "      <td>(Normal)</td>\n",
              "      <td>(Good)</td>\n",
              "      <td>1.0</td>\n",
              "      <td>1.0</td>\n",
              "      <td>1.0</td>\n",
              "      <td>1.0</td>\n",
              "      <td>1.0</td>\n",
              "      <td>0.0</td>\n",
              "      <td>inf</td>\n",
              "    </tr>\n",
              "    <tr>\n",
              "      <th>9</th>\n",
              "      <td>(Good)</td>\n",
              "      <td>(Normal)</td>\n",
              "      <td>1.0</td>\n",
              "      <td>1.0</td>\n",
              "      <td>1.0</td>\n",
              "      <td>1.0</td>\n",
              "      <td>1.0</td>\n",
              "      <td>0.0</td>\n",
              "      <td>inf</td>\n",
              "    </tr>\n",
              "  </tbody>\n",
              "</table>\n",
              "</div>"
            ],
            "text/plain": [
              "  antecedents  consequents  antecedent support  ...  lift  leverage  conviction\n",
              "0       (Bad)       (Good)                 0.5  ...   1.0       0.0         inf\n",
              "3       (Bad)     (Normal)                 0.5  ...   1.0       0.0         inf\n",
              "7       (Bad)  (Very good)                 0.5  ...   1.0       0.0         inf\n",
              "8    (Normal)       (Good)                 1.0  ...   1.0       0.0         inf\n",
              "9      (Good)     (Normal)                 1.0  ...   1.0       0.0         inf\n",
              "\n",
              "[5 rows x 9 columns]"
            ]
          },
          "metadata": {
            "tags": []
          },
          "execution_count": 160
        }
      ]
    },
    {
      "cell_type": "code",
      "metadata": {
        "id": "b1cIAk3GraKG",
        "colab": {
          "base_uri": "https://localhost:8080/",
          "height": 204
        },
        "outputId": "639893b3-f933-43c8-fd02-4adb77afcd51"
      },
      "source": [
        "# Building the model \n",
        "frq_items = apriori(basket_Department, min_support = 0.05, use_colnames = True) \n",
        "  \n",
        "# Collecting the inferred rules in a dataframe \n",
        "rules = association_rules(frq_items, metric =\"lift\", min_threshold = 1) \n",
        "rules = rules.sort_values(['confidence', 'lift'], ascending =[False, False]) \n",
        "rules.head()"
      ],
      "execution_count": 161,
      "outputs": [
        {
          "output_type": "execute_result",
          "data": {
            "text/html": [
              "<div>\n",
              "<style scoped>\n",
              "    .dataframe tbody tr th:only-of-type {\n",
              "        vertical-align: middle;\n",
              "    }\n",
              "\n",
              "    .dataframe tbody tr th {\n",
              "        vertical-align: top;\n",
              "    }\n",
              "\n",
              "    .dataframe thead th {\n",
              "        text-align: right;\n",
              "    }\n",
              "</style>\n",
              "<table border=\"1\" class=\"dataframe\">\n",
              "  <thead>\n",
              "    <tr style=\"text-align: right;\">\n",
              "      <th></th>\n",
              "      <th>antecedents</th>\n",
              "      <th>consequents</th>\n",
              "      <th>antecedent support</th>\n",
              "      <th>consequent support</th>\n",
              "      <th>support</th>\n",
              "      <th>confidence</th>\n",
              "      <th>lift</th>\n",
              "      <th>leverage</th>\n",
              "      <th>conviction</th>\n",
              "    </tr>\n",
              "  </thead>\n",
              "  <tbody>\n",
              "    <tr>\n",
              "      <th>0</th>\n",
              "      <td>(Bad)</td>\n",
              "      <td>(Good)</td>\n",
              "      <td>1.0</td>\n",
              "      <td>1.0</td>\n",
              "      <td>1.0</td>\n",
              "      <td>1.0</td>\n",
              "      <td>1.0</td>\n",
              "      <td>0.0</td>\n",
              "      <td>inf</td>\n",
              "    </tr>\n",
              "    <tr>\n",
              "      <th>1</th>\n",
              "      <td>(Good)</td>\n",
              "      <td>(Bad)</td>\n",
              "      <td>1.0</td>\n",
              "      <td>1.0</td>\n",
              "      <td>1.0</td>\n",
              "      <td>1.0</td>\n",
              "      <td>1.0</td>\n",
              "      <td>0.0</td>\n",
              "      <td>inf</td>\n",
              "    </tr>\n",
              "    <tr>\n",
              "      <th>2</th>\n",
              "      <td>(Normal)</td>\n",
              "      <td>(Bad)</td>\n",
              "      <td>1.0</td>\n",
              "      <td>1.0</td>\n",
              "      <td>1.0</td>\n",
              "      <td>1.0</td>\n",
              "      <td>1.0</td>\n",
              "      <td>0.0</td>\n",
              "      <td>inf</td>\n",
              "    </tr>\n",
              "    <tr>\n",
              "      <th>3</th>\n",
              "      <td>(Bad)</td>\n",
              "      <td>(Normal)</td>\n",
              "      <td>1.0</td>\n",
              "      <td>1.0</td>\n",
              "      <td>1.0</td>\n",
              "      <td>1.0</td>\n",
              "      <td>1.0</td>\n",
              "      <td>0.0</td>\n",
              "      <td>inf</td>\n",
              "    </tr>\n",
              "    <tr>\n",
              "      <th>4</th>\n",
              "      <td>(Bad)</td>\n",
              "      <td>(Very bad)</td>\n",
              "      <td>1.0</td>\n",
              "      <td>1.0</td>\n",
              "      <td>1.0</td>\n",
              "      <td>1.0</td>\n",
              "      <td>1.0</td>\n",
              "      <td>0.0</td>\n",
              "      <td>inf</td>\n",
              "    </tr>\n",
              "  </tbody>\n",
              "</table>\n",
              "</div>"
            ],
            "text/plain": [
              "  antecedents consequents  antecedent support  ...  lift  leverage  conviction\n",
              "0       (Bad)      (Good)                 1.0  ...   1.0       0.0         inf\n",
              "1      (Good)       (Bad)                 1.0  ...   1.0       0.0         inf\n",
              "2    (Normal)       (Bad)                 1.0  ...   1.0       0.0         inf\n",
              "3       (Bad)    (Normal)                 1.0  ...   1.0       0.0         inf\n",
              "4       (Bad)  (Very bad)                 1.0  ...   1.0       0.0         inf\n",
              "\n",
              "[5 rows x 9 columns]"
            ]
          },
          "metadata": {
            "tags": []
          },
          "execution_count": 161
        }
      ]
    },
    {
      "cell_type": "code",
      "metadata": {
        "id": "-UJxfANRraKH",
        "colab": {
          "base_uri": "https://localhost:8080/",
          "height": 204
        },
        "outputId": "2a628314-343a-49b8-8d8c-e86d8ddfbe63"
      },
      "source": [
        "# Building the model \n",
        "frq_items = apriori(basket_Playground, min_support = 0.05, use_colnames = True) \n",
        "  \n",
        "# Collecting the inferred rules in a dataframe \n",
        "rules = association_rules(frq_items, metric =\"lift\", min_threshold = 1) \n",
        "rules = rules.sort_values(['confidence', 'lift'], ascending =[False, False]) \n",
        "rules.head()"
      ],
      "execution_count": 162,
      "outputs": [
        {
          "output_type": "execute_result",
          "data": {
            "text/html": [
              "<div>\n",
              "<style scoped>\n",
              "    .dataframe tbody tr th:only-of-type {\n",
              "        vertical-align: middle;\n",
              "    }\n",
              "\n",
              "    .dataframe tbody tr th {\n",
              "        vertical-align: top;\n",
              "    }\n",
              "\n",
              "    .dataframe thead th {\n",
              "        text-align: right;\n",
              "    }\n",
              "</style>\n",
              "<table border=\"1\" class=\"dataframe\">\n",
              "  <thead>\n",
              "    <tr style=\"text-align: right;\">\n",
              "      <th></th>\n",
              "      <th>antecedents</th>\n",
              "      <th>consequents</th>\n",
              "      <th>antecedent support</th>\n",
              "      <th>consequent support</th>\n",
              "      <th>support</th>\n",
              "      <th>confidence</th>\n",
              "      <th>lift</th>\n",
              "      <th>leverage</th>\n",
              "      <th>conviction</th>\n",
              "    </tr>\n",
              "  </thead>\n",
              "  <tbody>\n",
              "    <tr>\n",
              "      <th>4</th>\n",
              "      <td>(Normal, Very good)</td>\n",
              "      <td>(Good)</td>\n",
              "      <td>0.333333</td>\n",
              "      <td>0.333333</td>\n",
              "      <td>0.333333</td>\n",
              "      <td>1.0</td>\n",
              "      <td>3.0</td>\n",
              "      <td>0.222222</td>\n",
              "      <td>inf</td>\n",
              "    </tr>\n",
              "    <tr>\n",
              "      <th>9</th>\n",
              "      <td>(Good)</td>\n",
              "      <td>(Normal, Very good)</td>\n",
              "      <td>0.333333</td>\n",
              "      <td>0.333333</td>\n",
              "      <td>0.333333</td>\n",
              "      <td>1.0</td>\n",
              "      <td>3.0</td>\n",
              "      <td>0.222222</td>\n",
              "      <td>inf</td>\n",
              "    </tr>\n",
              "    <tr>\n",
              "      <th>1</th>\n",
              "      <td>(Good)</td>\n",
              "      <td>(Normal)</td>\n",
              "      <td>0.333333</td>\n",
              "      <td>0.666667</td>\n",
              "      <td>0.333333</td>\n",
              "      <td>1.0</td>\n",
              "      <td>1.5</td>\n",
              "      <td>0.111111</td>\n",
              "      <td>inf</td>\n",
              "    </tr>\n",
              "    <tr>\n",
              "      <th>3</th>\n",
              "      <td>(Good)</td>\n",
              "      <td>(Very good)</td>\n",
              "      <td>0.333333</td>\n",
              "      <td>0.666667</td>\n",
              "      <td>0.333333</td>\n",
              "      <td>1.0</td>\n",
              "      <td>1.5</td>\n",
              "      <td>0.111111</td>\n",
              "      <td>inf</td>\n",
              "    </tr>\n",
              "    <tr>\n",
              "      <th>5</th>\n",
              "      <td>(Normal, Good)</td>\n",
              "      <td>(Very good)</td>\n",
              "      <td>0.333333</td>\n",
              "      <td>0.666667</td>\n",
              "      <td>0.333333</td>\n",
              "      <td>1.0</td>\n",
              "      <td>1.5</td>\n",
              "      <td>0.111111</td>\n",
              "      <td>inf</td>\n",
              "    </tr>\n",
              "  </tbody>\n",
              "</table>\n",
              "</div>"
            ],
            "text/plain": [
              "           antecedents          consequents  ...  leverage  conviction\n",
              "4  (Normal, Very good)               (Good)  ...  0.222222         inf\n",
              "9               (Good)  (Normal, Very good)  ...  0.222222         inf\n",
              "1               (Good)             (Normal)  ...  0.111111         inf\n",
              "3               (Good)          (Very good)  ...  0.111111         inf\n",
              "5       (Normal, Good)          (Very good)  ...  0.111111         inf\n",
              "\n",
              "[5 rows x 9 columns]"
            ]
          },
          "metadata": {
            "tags": []
          },
          "execution_count": 162
        }
      ]
    },
    {
      "cell_type": "code",
      "metadata": {
        "id": "CfOXpjgNraKH"
      },
      "source": [
        "#df1.head()"
      ],
      "execution_count": 163,
      "outputs": []
    },
    {
      "cell_type": "markdown",
      "metadata": {
        "id": "pUN1kIw6raKI"
      },
      "source": [
        "***Are you feeling pressure in your study or work right now?***"
      ]
    },
    {
      "cell_type": "code",
      "metadata": {
        "id": "dwXjk2cyraKI",
        "colab": {
          "base_uri": "https://localhost:8080/"
        },
        "outputId": "bdd0079c-fc6f-4f94-a39a-a0958abcc5f9"
      },
      "source": [
        "df1.Study_pressure.unique()"
      ],
      "execution_count": 164,
      "outputs": [
        {
          "output_type": "execute_result",
          "data": {
            "text/plain": [
              "array(['Not applicable', 'Yes', 'No'], dtype=object)"
            ]
          },
          "metadata": {
            "tags": []
          },
          "execution_count": 164
        }
      ]
    },
    {
      "cell_type": "code",
      "metadata": {
        "id": "2v00o1IuraKJ"
      },
      "source": [
        "basket_Yes = (df1[df1['Study_pressure'] ==\"Yes\"] \n",
        "          .groupby(['Year', 'Felling_right_now'])['Express_feeling'] \n",
        "          .sum().unstack().reset_index().fillna(0) \n",
        "          .set_index('Year'))\n",
        "basket_No = (df1[df1['Study_pressure'] ==\"No\"] \n",
        "          .groupby(['Year', 'Felling_right_now'])['Express_feeling'] \n",
        "          .sum().unstack().reset_index().fillna(0) \n",
        "          .set_index('Year'))"
      ],
      "execution_count": 165,
      "outputs": []
    },
    {
      "cell_type": "code",
      "metadata": {
        "id": "qeikACOXraKK"
      },
      "source": [
        "def hot_encode(x): \n",
        "    if(x<= 0): \n",
        "        return 0\n",
        "    if(x>= 1): \n",
        "        return 1\n",
        "    \n",
        "# Encoding the datasets \n",
        "basket_encoded = basket_Yes.applymap(hot_encode) \n",
        "basket_Yes = basket_encoded \n",
        "  \n",
        "basket_encoded = basket_No.applymap(hot_encode) \n",
        "basket_No = basket_encoded "
      ],
      "execution_count": 166,
      "outputs": []
    },
    {
      "cell_type": "code",
      "metadata": {
        "id": "iogP7Cf7raKK",
        "colab": {
          "base_uri": "https://localhost:8080/",
          "height": 204
        },
        "outputId": "80abbc5f-73ef-49c8-e498-2ec8409e3174"
      },
      "source": [
        "# Building the model \n",
        "frq_items = apriori(basket_Yes, min_support = 0.05, use_colnames = True) \n",
        "  \n",
        "# Collecting the inferred rules in a dataframe \n",
        "rules = association_rules(frq_items, metric =\"lift\", min_threshold = 1) \n",
        "rules = rules.sort_values(['confidence', 'lift'], ascending =[False, False]) \n",
        "rules.head() "
      ],
      "execution_count": 167,
      "outputs": [
        {
          "output_type": "execute_result",
          "data": {
            "text/html": [
              "<div>\n",
              "<style scoped>\n",
              "    .dataframe tbody tr th:only-of-type {\n",
              "        vertical-align: middle;\n",
              "    }\n",
              "\n",
              "    .dataframe tbody tr th {\n",
              "        vertical-align: top;\n",
              "    }\n",
              "\n",
              "    .dataframe thead th {\n",
              "        text-align: right;\n",
              "    }\n",
              "</style>\n",
              "<table border=\"1\" class=\"dataframe\">\n",
              "  <thead>\n",
              "    <tr style=\"text-align: right;\">\n",
              "      <th></th>\n",
              "      <th>antecedents</th>\n",
              "      <th>consequents</th>\n",
              "      <th>antecedent support</th>\n",
              "      <th>consequent support</th>\n",
              "      <th>support</th>\n",
              "      <th>confidence</th>\n",
              "      <th>lift</th>\n",
              "      <th>leverage</th>\n",
              "      <th>conviction</th>\n",
              "    </tr>\n",
              "  </thead>\n",
              "  <tbody>\n",
              "    <tr>\n",
              "      <th>0</th>\n",
              "      <td>(Bad)</td>\n",
              "      <td>(Good)</td>\n",
              "      <td>1.0</td>\n",
              "      <td>1.0</td>\n",
              "      <td>1.0</td>\n",
              "      <td>1.0</td>\n",
              "      <td>1.0</td>\n",
              "      <td>0.0</td>\n",
              "      <td>inf</td>\n",
              "    </tr>\n",
              "    <tr>\n",
              "      <th>1</th>\n",
              "      <td>(Good)</td>\n",
              "      <td>(Bad)</td>\n",
              "      <td>1.0</td>\n",
              "      <td>1.0</td>\n",
              "      <td>1.0</td>\n",
              "      <td>1.0</td>\n",
              "      <td>1.0</td>\n",
              "      <td>0.0</td>\n",
              "      <td>inf</td>\n",
              "    </tr>\n",
              "    <tr>\n",
              "      <th>2</th>\n",
              "      <td>(Normal)</td>\n",
              "      <td>(Bad)</td>\n",
              "      <td>1.0</td>\n",
              "      <td>1.0</td>\n",
              "      <td>1.0</td>\n",
              "      <td>1.0</td>\n",
              "      <td>1.0</td>\n",
              "      <td>0.0</td>\n",
              "      <td>inf</td>\n",
              "    </tr>\n",
              "    <tr>\n",
              "      <th>3</th>\n",
              "      <td>(Bad)</td>\n",
              "      <td>(Normal)</td>\n",
              "      <td>1.0</td>\n",
              "      <td>1.0</td>\n",
              "      <td>1.0</td>\n",
              "      <td>1.0</td>\n",
              "      <td>1.0</td>\n",
              "      <td>0.0</td>\n",
              "      <td>inf</td>\n",
              "    </tr>\n",
              "    <tr>\n",
              "      <th>4</th>\n",
              "      <td>(Bad)</td>\n",
              "      <td>(Very bad)</td>\n",
              "      <td>1.0</td>\n",
              "      <td>1.0</td>\n",
              "      <td>1.0</td>\n",
              "      <td>1.0</td>\n",
              "      <td>1.0</td>\n",
              "      <td>0.0</td>\n",
              "      <td>inf</td>\n",
              "    </tr>\n",
              "  </tbody>\n",
              "</table>\n",
              "</div>"
            ],
            "text/plain": [
              "  antecedents consequents  antecedent support  ...  lift  leverage  conviction\n",
              "0       (Bad)      (Good)                 1.0  ...   1.0       0.0         inf\n",
              "1      (Good)       (Bad)                 1.0  ...   1.0       0.0         inf\n",
              "2    (Normal)       (Bad)                 1.0  ...   1.0       0.0         inf\n",
              "3       (Bad)    (Normal)                 1.0  ...   1.0       0.0         inf\n",
              "4       (Bad)  (Very bad)                 1.0  ...   1.0       0.0         inf\n",
              "\n",
              "[5 rows x 9 columns]"
            ]
          },
          "metadata": {
            "tags": []
          },
          "execution_count": 167
        }
      ]
    },
    {
      "cell_type": "code",
      "metadata": {
        "id": "Pr-ldJsgraKL",
        "colab": {
          "base_uri": "https://localhost:8080/",
          "height": 204
        },
        "outputId": "eb40d570-5b4a-44c3-caeb-5120e8d4233d"
      },
      "source": [
        "# Building the model \n",
        "frq_items = apriori(basket_No, min_support = 0.05, use_colnames = True) \n",
        "  \n",
        "# Collecting the inferred rules in a dataframe \n",
        "rules = association_rules(frq_items, metric =\"lift\", min_threshold = 1) \n",
        "rules = rules.sort_values(['confidence', 'lift'], ascending =[False, False]) \n",
        "rules.head() "
      ],
      "execution_count": 168,
      "outputs": [
        {
          "output_type": "execute_result",
          "data": {
            "text/html": [
              "<div>\n",
              "<style scoped>\n",
              "    .dataframe tbody tr th:only-of-type {\n",
              "        vertical-align: middle;\n",
              "    }\n",
              "\n",
              "    .dataframe tbody tr th {\n",
              "        vertical-align: top;\n",
              "    }\n",
              "\n",
              "    .dataframe thead th {\n",
              "        text-align: right;\n",
              "    }\n",
              "</style>\n",
              "<table border=\"1\" class=\"dataframe\">\n",
              "  <thead>\n",
              "    <tr style=\"text-align: right;\">\n",
              "      <th></th>\n",
              "      <th>antecedents</th>\n",
              "      <th>consequents</th>\n",
              "      <th>antecedent support</th>\n",
              "      <th>consequent support</th>\n",
              "      <th>support</th>\n",
              "      <th>confidence</th>\n",
              "      <th>lift</th>\n",
              "      <th>leverage</th>\n",
              "      <th>conviction</th>\n",
              "    </tr>\n",
              "  </thead>\n",
              "  <tbody>\n",
              "    <tr>\n",
              "      <th>4</th>\n",
              "      <td>(Bad)</td>\n",
              "      <td>(Very bad)</td>\n",
              "      <td>0.75</td>\n",
              "      <td>0.75</td>\n",
              "      <td>0.75</td>\n",
              "      <td>1.0</td>\n",
              "      <td>1.333333</td>\n",
              "      <td>0.1875</td>\n",
              "      <td>inf</td>\n",
              "    </tr>\n",
              "    <tr>\n",
              "      <th>5</th>\n",
              "      <td>(Very bad)</td>\n",
              "      <td>(Bad)</td>\n",
              "      <td>0.75</td>\n",
              "      <td>0.75</td>\n",
              "      <td>0.75</td>\n",
              "      <td>1.0</td>\n",
              "      <td>1.333333</td>\n",
              "      <td>0.1875</td>\n",
              "      <td>inf</td>\n",
              "    </tr>\n",
              "    <tr>\n",
              "      <th>27</th>\n",
              "      <td>(Bad, Good)</td>\n",
              "      <td>(Very bad)</td>\n",
              "      <td>0.75</td>\n",
              "      <td>0.75</td>\n",
              "      <td>0.75</td>\n",
              "      <td>1.0</td>\n",
              "      <td>1.333333</td>\n",
              "      <td>0.1875</td>\n",
              "      <td>inf</td>\n",
              "    </tr>\n",
              "    <tr>\n",
              "      <th>28</th>\n",
              "      <td>(Very bad, Good)</td>\n",
              "      <td>(Bad)</td>\n",
              "      <td>0.75</td>\n",
              "      <td>0.75</td>\n",
              "      <td>0.75</td>\n",
              "      <td>1.0</td>\n",
              "      <td>1.333333</td>\n",
              "      <td>0.1875</td>\n",
              "      <td>inf</td>\n",
              "    </tr>\n",
              "    <tr>\n",
              "      <th>29</th>\n",
              "      <td>(Bad)</td>\n",
              "      <td>(Very bad, Good)</td>\n",
              "      <td>0.75</td>\n",
              "      <td>0.75</td>\n",
              "      <td>0.75</td>\n",
              "      <td>1.0</td>\n",
              "      <td>1.333333</td>\n",
              "      <td>0.1875</td>\n",
              "      <td>inf</td>\n",
              "    </tr>\n",
              "  </tbody>\n",
              "</table>\n",
              "</div>"
            ],
            "text/plain": [
              "         antecedents       consequents  ...  leverage  conviction\n",
              "4              (Bad)        (Very bad)  ...    0.1875         inf\n",
              "5         (Very bad)             (Bad)  ...    0.1875         inf\n",
              "27       (Bad, Good)        (Very bad)  ...    0.1875         inf\n",
              "28  (Very bad, Good)             (Bad)  ...    0.1875         inf\n",
              "29             (Bad)  (Very bad, Good)  ...    0.1875         inf\n",
              "\n",
              "[5 rows x 9 columns]"
            ]
          },
          "metadata": {
            "tags": []
          },
          "execution_count": 168
        }
      ]
    },
    {
      "cell_type": "code",
      "metadata": {
        "id": "rROtjK3EraKM"
      },
      "source": [
        "#df1.head()"
      ],
      "execution_count": 169,
      "outputs": []
    },
    {
      "cell_type": "markdown",
      "metadata": {
        "id": "ieFHleU9raKM"
      },
      "source": [
        "**Who supports you when you are not succeeding in your academic life?**"
      ]
    },
    {
      "cell_type": "code",
      "metadata": {
        "id": "yNGYTFtGraKN",
        "colab": {
          "base_uri": "https://localhost:8080/"
        },
        "outputId": "38da1f34-a2cc-45f5-b273-8e4c6120596a"
      },
      "source": [
        "df1.Supports_in_academic_life.unique()"
      ],
      "execution_count": 170,
      "outputs": [
        {
          "output_type": "execute_result",
          "data": {
            "text/plain": [
              "array(['Family', 'Friends', 'Not applicable'], dtype=object)"
            ]
          },
          "metadata": {
            "tags": []
          },
          "execution_count": 170
        }
      ]
    },
    {
      "cell_type": "code",
      "metadata": {
        "id": "SGHrUzTXraKO"
      },
      "source": [
        "basket_Family = (df1[df1['Supports_in_academic_life'] ==\"Family\"] \n",
        "          .groupby(['Year', 'Felling_right_now'])['Express_feeling'] \n",
        "          .sum().unstack().reset_index().fillna(0) \n",
        "          .set_index('Year'))\n",
        "basket_Friends = (df1[df1['Supports_in_academic_life'] ==\"Friends\"] \n",
        "          .groupby(['Year', 'Felling_right_now'])['Express_feeling'] \n",
        "          .sum().unstack().reset_index().fillna(0) \n",
        "          .set_index('Year'))"
      ],
      "execution_count": 171,
      "outputs": []
    },
    {
      "cell_type": "code",
      "metadata": {
        "id": "43FHPRv6raKO"
      },
      "source": [
        "def hot_encode(x): \n",
        "    if(x<= 0): \n",
        "        return 0\n",
        "    if(x>= 1): \n",
        "        return 1\n",
        "    \n",
        "# Encoding the datasets \n",
        "basket_encoded = basket_Family.applymap(hot_encode) \n",
        "basket_Family = basket_encoded \n",
        "  \n",
        "basket_encoded = basket_Friends.applymap(hot_encode) \n",
        "basket_Friends = basket_encoded "
      ],
      "execution_count": 172,
      "outputs": []
    },
    {
      "cell_type": "code",
      "metadata": {
        "id": "D1PfRdvAraKO",
        "colab": {
          "base_uri": "https://localhost:8080/",
          "height": 204
        },
        "outputId": "f3a43a4b-a066-45d1-8a74-8e9ce732b6de"
      },
      "source": [
        "# Building the model \n",
        "frq_items = apriori(basket_Family, min_support = 0.05, use_colnames = True) \n",
        "  \n",
        "# Collecting the inferred rules in a dataframe \n",
        "rules = association_rules(frq_items, metric =\"lift\", min_threshold = 1) \n",
        "rules = rules.sort_values(['confidence', 'lift'], ascending =[False, False]) \n",
        "rules.head() "
      ],
      "execution_count": 173,
      "outputs": [
        {
          "output_type": "execute_result",
          "data": {
            "text/html": [
              "<div>\n",
              "<style scoped>\n",
              "    .dataframe tbody tr th:only-of-type {\n",
              "        vertical-align: middle;\n",
              "    }\n",
              "\n",
              "    .dataframe tbody tr th {\n",
              "        vertical-align: top;\n",
              "    }\n",
              "\n",
              "    .dataframe thead th {\n",
              "        text-align: right;\n",
              "    }\n",
              "</style>\n",
              "<table border=\"1\" class=\"dataframe\">\n",
              "  <thead>\n",
              "    <tr style=\"text-align: right;\">\n",
              "      <th></th>\n",
              "      <th>antecedents</th>\n",
              "      <th>consequents</th>\n",
              "      <th>antecedent support</th>\n",
              "      <th>consequent support</th>\n",
              "      <th>support</th>\n",
              "      <th>confidence</th>\n",
              "      <th>lift</th>\n",
              "      <th>leverage</th>\n",
              "      <th>conviction</th>\n",
              "    </tr>\n",
              "  </thead>\n",
              "  <tbody>\n",
              "    <tr>\n",
              "      <th>0</th>\n",
              "      <td>(Bad)</td>\n",
              "      <td>(Good)</td>\n",
              "      <td>1.0</td>\n",
              "      <td>1.0</td>\n",
              "      <td>1.0</td>\n",
              "      <td>1.0</td>\n",
              "      <td>1.0</td>\n",
              "      <td>0.0</td>\n",
              "      <td>inf</td>\n",
              "    </tr>\n",
              "    <tr>\n",
              "      <th>1</th>\n",
              "      <td>(Good)</td>\n",
              "      <td>(Bad)</td>\n",
              "      <td>1.0</td>\n",
              "      <td>1.0</td>\n",
              "      <td>1.0</td>\n",
              "      <td>1.0</td>\n",
              "      <td>1.0</td>\n",
              "      <td>0.0</td>\n",
              "      <td>inf</td>\n",
              "    </tr>\n",
              "    <tr>\n",
              "      <th>2</th>\n",
              "      <td>(Normal)</td>\n",
              "      <td>(Bad)</td>\n",
              "      <td>1.0</td>\n",
              "      <td>1.0</td>\n",
              "      <td>1.0</td>\n",
              "      <td>1.0</td>\n",
              "      <td>1.0</td>\n",
              "      <td>0.0</td>\n",
              "      <td>inf</td>\n",
              "    </tr>\n",
              "    <tr>\n",
              "      <th>3</th>\n",
              "      <td>(Bad)</td>\n",
              "      <td>(Normal)</td>\n",
              "      <td>1.0</td>\n",
              "      <td>1.0</td>\n",
              "      <td>1.0</td>\n",
              "      <td>1.0</td>\n",
              "      <td>1.0</td>\n",
              "      <td>0.0</td>\n",
              "      <td>inf</td>\n",
              "    </tr>\n",
              "    <tr>\n",
              "      <th>4</th>\n",
              "      <td>(Bad)</td>\n",
              "      <td>(Very bad)</td>\n",
              "      <td>1.0</td>\n",
              "      <td>1.0</td>\n",
              "      <td>1.0</td>\n",
              "      <td>1.0</td>\n",
              "      <td>1.0</td>\n",
              "      <td>0.0</td>\n",
              "      <td>inf</td>\n",
              "    </tr>\n",
              "  </tbody>\n",
              "</table>\n",
              "</div>"
            ],
            "text/plain": [
              "  antecedents consequents  antecedent support  ...  lift  leverage  conviction\n",
              "0       (Bad)      (Good)                 1.0  ...   1.0       0.0         inf\n",
              "1      (Good)       (Bad)                 1.0  ...   1.0       0.0         inf\n",
              "2    (Normal)       (Bad)                 1.0  ...   1.0       0.0         inf\n",
              "3       (Bad)    (Normal)                 1.0  ...   1.0       0.0         inf\n",
              "4       (Bad)  (Very bad)                 1.0  ...   1.0       0.0         inf\n",
              "\n",
              "[5 rows x 9 columns]"
            ]
          },
          "metadata": {
            "tags": []
          },
          "execution_count": 173
        }
      ]
    },
    {
      "cell_type": "code",
      "metadata": {
        "id": "LeELsAegraKP",
        "colab": {
          "base_uri": "https://localhost:8080/",
          "height": 204
        },
        "outputId": "3f9874b0-6f6a-43e3-c2ab-3c577e55889c"
      },
      "source": [
        "# Building the model \n",
        "frq_items = apriori(basket_Friends, min_support = 0.05, use_colnames = True) \n",
        "  \n",
        "# Collecting the inferred rules in a dataframe \n",
        "rules = association_rules(frq_items, metric =\"lift\", min_threshold = 1) \n",
        "rules = rules.sort_values(['confidence', 'lift'], ascending =[False, False]) \n",
        "rules.head() "
      ],
      "execution_count": 174,
      "outputs": [
        {
          "output_type": "execute_result",
          "data": {
            "text/html": [
              "<div>\n",
              "<style scoped>\n",
              "    .dataframe tbody tr th:only-of-type {\n",
              "        vertical-align: middle;\n",
              "    }\n",
              "\n",
              "    .dataframe tbody tr th {\n",
              "        vertical-align: top;\n",
              "    }\n",
              "\n",
              "    .dataframe thead th {\n",
              "        text-align: right;\n",
              "    }\n",
              "</style>\n",
              "<table border=\"1\" class=\"dataframe\">\n",
              "  <thead>\n",
              "    <tr style=\"text-align: right;\">\n",
              "      <th></th>\n",
              "      <th>antecedents</th>\n",
              "      <th>consequents</th>\n",
              "      <th>antecedent support</th>\n",
              "      <th>consequent support</th>\n",
              "      <th>support</th>\n",
              "      <th>confidence</th>\n",
              "      <th>lift</th>\n",
              "      <th>leverage</th>\n",
              "      <th>conviction</th>\n",
              "    </tr>\n",
              "  </thead>\n",
              "  <tbody>\n",
              "    <tr>\n",
              "      <th>0</th>\n",
              "      <td>(Bad)</td>\n",
              "      <td>(Good)</td>\n",
              "      <td>1.0</td>\n",
              "      <td>1.0</td>\n",
              "      <td>1.0</td>\n",
              "      <td>1.0</td>\n",
              "      <td>1.0</td>\n",
              "      <td>0.0</td>\n",
              "      <td>inf</td>\n",
              "    </tr>\n",
              "    <tr>\n",
              "      <th>1</th>\n",
              "      <td>(Good)</td>\n",
              "      <td>(Bad)</td>\n",
              "      <td>1.0</td>\n",
              "      <td>1.0</td>\n",
              "      <td>1.0</td>\n",
              "      <td>1.0</td>\n",
              "      <td>1.0</td>\n",
              "      <td>0.0</td>\n",
              "      <td>inf</td>\n",
              "    </tr>\n",
              "    <tr>\n",
              "      <th>2</th>\n",
              "      <td>(Normal)</td>\n",
              "      <td>(Bad)</td>\n",
              "      <td>1.0</td>\n",
              "      <td>1.0</td>\n",
              "      <td>1.0</td>\n",
              "      <td>1.0</td>\n",
              "      <td>1.0</td>\n",
              "      <td>0.0</td>\n",
              "      <td>inf</td>\n",
              "    </tr>\n",
              "    <tr>\n",
              "      <th>3</th>\n",
              "      <td>(Bad)</td>\n",
              "      <td>(Normal)</td>\n",
              "      <td>1.0</td>\n",
              "      <td>1.0</td>\n",
              "      <td>1.0</td>\n",
              "      <td>1.0</td>\n",
              "      <td>1.0</td>\n",
              "      <td>0.0</td>\n",
              "      <td>inf</td>\n",
              "    </tr>\n",
              "    <tr>\n",
              "      <th>4</th>\n",
              "      <td>(Bad)</td>\n",
              "      <td>(Very bad)</td>\n",
              "      <td>1.0</td>\n",
              "      <td>1.0</td>\n",
              "      <td>1.0</td>\n",
              "      <td>1.0</td>\n",
              "      <td>1.0</td>\n",
              "      <td>0.0</td>\n",
              "      <td>inf</td>\n",
              "    </tr>\n",
              "  </tbody>\n",
              "</table>\n",
              "</div>"
            ],
            "text/plain": [
              "  antecedents consequents  antecedent support  ...  lift  leverage  conviction\n",
              "0       (Bad)      (Good)                 1.0  ...   1.0       0.0         inf\n",
              "1      (Good)       (Bad)                 1.0  ...   1.0       0.0         inf\n",
              "2    (Normal)       (Bad)                 1.0  ...   1.0       0.0         inf\n",
              "3       (Bad)    (Normal)                 1.0  ...   1.0       0.0         inf\n",
              "4       (Bad)  (Very bad)                 1.0  ...   1.0       0.0         inf\n",
              "\n",
              "[5 rows x 9 columns]"
            ]
          },
          "metadata": {
            "tags": []
          },
          "execution_count": 174
        }
      ]
    },
    {
      "cell_type": "code",
      "metadata": {
        "id": "jZ2noP6_raKQ"
      },
      "source": [
        "#df1.head()"
      ],
      "execution_count": 175,
      "outputs": []
    },
    {
      "cell_type": "markdown",
      "metadata": {
        "id": "9Rnd0tK4raKQ"
      },
      "source": [
        "**Have you done any recreational activity (sports, gaming, hobby etc.) today?**"
      ]
    },
    {
      "cell_type": "code",
      "metadata": {
        "id": "Wq7X4M_WraKR",
        "colab": {
          "base_uri": "https://localhost:8080/"
        },
        "outputId": "c7ae715f-9270-450b-e2e9-e8d170c110bd"
      },
      "source": [
        "df1.Recreational_activity.unique()"
      ],
      "execution_count": 176,
      "outputs": [
        {
          "output_type": "execute_result",
          "data": {
            "text/plain": [
              "array(['No', 'Yes'], dtype=object)"
            ]
          },
          "metadata": {
            "tags": []
          },
          "execution_count": 176
        }
      ]
    },
    {
      "cell_type": "code",
      "metadata": {
        "id": "M2KHDaGgraKR"
      },
      "source": [
        "basket_Yes = (df1[df1['Recreational_activity'] ==\"Yes\"] \n",
        "          .groupby(['Year', 'Felling_right_now'])['Express_feeling'] \n",
        "          .sum().unstack().reset_index().fillna(0) \n",
        "          .set_index('Year'))\n",
        "basket_No = (df1[df1['Recreational_activity'] ==\"No\"] \n",
        "          .groupby(['Year', 'Felling_right_now'])['Express_feeling'] \n",
        "          .sum().unstack().reset_index().fillna(0) \n",
        "          .set_index('Year'))"
      ],
      "execution_count": 177,
      "outputs": []
    },
    {
      "cell_type": "code",
      "metadata": {
        "id": "5HEp-lvgraKS"
      },
      "source": [
        "def hot_encode(x): \n",
        "    if(x<= 0): \n",
        "        return 0\n",
        "    if(x>= 1): \n",
        "        return 1\n",
        "    \n",
        "# Encoding the datasets \n",
        "basket_encoded = basket_Yes.applymap(hot_encode) \n",
        "basket_Yes = basket_encoded \n",
        "  \n",
        "basket_encoded = basket_No.applymap(hot_encode) \n",
        "basket_No = basket_encoded "
      ],
      "execution_count": 178,
      "outputs": []
    },
    {
      "cell_type": "code",
      "metadata": {
        "id": "hasspOkAraKS",
        "colab": {
          "base_uri": "https://localhost:8080/",
          "height": 204
        },
        "outputId": "aa262752-5806-4328-bcdd-3e2af62d30a1"
      },
      "source": [
        "# Building the model \n",
        "frq_items = apriori(basket_Yes, min_support = 0.05, use_colnames = True) \n",
        "  \n",
        "# Collecting the inferred rules in a dataframe \n",
        "rules = association_rules(frq_items, metric =\"lift\", min_threshold = 1) \n",
        "rules = rules.sort_values(['confidence', 'lift'], ascending =[False, False]) \n",
        "rules.head() "
      ],
      "execution_count": 179,
      "outputs": [
        {
          "output_type": "execute_result",
          "data": {
            "text/html": [
              "<div>\n",
              "<style scoped>\n",
              "    .dataframe tbody tr th:only-of-type {\n",
              "        vertical-align: middle;\n",
              "    }\n",
              "\n",
              "    .dataframe tbody tr th {\n",
              "        vertical-align: top;\n",
              "    }\n",
              "\n",
              "    .dataframe thead th {\n",
              "        text-align: right;\n",
              "    }\n",
              "</style>\n",
              "<table border=\"1\" class=\"dataframe\">\n",
              "  <thead>\n",
              "    <tr style=\"text-align: right;\">\n",
              "      <th></th>\n",
              "      <th>antecedents</th>\n",
              "      <th>consequents</th>\n",
              "      <th>antecedent support</th>\n",
              "      <th>consequent support</th>\n",
              "      <th>support</th>\n",
              "      <th>confidence</th>\n",
              "      <th>lift</th>\n",
              "      <th>leverage</th>\n",
              "      <th>conviction</th>\n",
              "    </tr>\n",
              "  </thead>\n",
              "  <tbody>\n",
              "    <tr>\n",
              "      <th>0</th>\n",
              "      <td>(Bad)</td>\n",
              "      <td>(Good)</td>\n",
              "      <td>1.0</td>\n",
              "      <td>1.0</td>\n",
              "      <td>1.0</td>\n",
              "      <td>1.0</td>\n",
              "      <td>1.0</td>\n",
              "      <td>0.0</td>\n",
              "      <td>inf</td>\n",
              "    </tr>\n",
              "    <tr>\n",
              "      <th>1</th>\n",
              "      <td>(Good)</td>\n",
              "      <td>(Bad)</td>\n",
              "      <td>1.0</td>\n",
              "      <td>1.0</td>\n",
              "      <td>1.0</td>\n",
              "      <td>1.0</td>\n",
              "      <td>1.0</td>\n",
              "      <td>0.0</td>\n",
              "      <td>inf</td>\n",
              "    </tr>\n",
              "    <tr>\n",
              "      <th>2</th>\n",
              "      <td>(Normal)</td>\n",
              "      <td>(Bad)</td>\n",
              "      <td>1.0</td>\n",
              "      <td>1.0</td>\n",
              "      <td>1.0</td>\n",
              "      <td>1.0</td>\n",
              "      <td>1.0</td>\n",
              "      <td>0.0</td>\n",
              "      <td>inf</td>\n",
              "    </tr>\n",
              "    <tr>\n",
              "      <th>3</th>\n",
              "      <td>(Bad)</td>\n",
              "      <td>(Normal)</td>\n",
              "      <td>1.0</td>\n",
              "      <td>1.0</td>\n",
              "      <td>1.0</td>\n",
              "      <td>1.0</td>\n",
              "      <td>1.0</td>\n",
              "      <td>0.0</td>\n",
              "      <td>inf</td>\n",
              "    </tr>\n",
              "    <tr>\n",
              "      <th>4</th>\n",
              "      <td>(Bad)</td>\n",
              "      <td>(Very bad)</td>\n",
              "      <td>1.0</td>\n",
              "      <td>1.0</td>\n",
              "      <td>1.0</td>\n",
              "      <td>1.0</td>\n",
              "      <td>1.0</td>\n",
              "      <td>0.0</td>\n",
              "      <td>inf</td>\n",
              "    </tr>\n",
              "  </tbody>\n",
              "</table>\n",
              "</div>"
            ],
            "text/plain": [
              "  antecedents consequents  antecedent support  ...  lift  leverage  conviction\n",
              "0       (Bad)      (Good)                 1.0  ...   1.0       0.0         inf\n",
              "1      (Good)       (Bad)                 1.0  ...   1.0       0.0         inf\n",
              "2    (Normal)       (Bad)                 1.0  ...   1.0       0.0         inf\n",
              "3       (Bad)    (Normal)                 1.0  ...   1.0       0.0         inf\n",
              "4       (Bad)  (Very bad)                 1.0  ...   1.0       0.0         inf\n",
              "\n",
              "[5 rows x 9 columns]"
            ]
          },
          "metadata": {
            "tags": []
          },
          "execution_count": 179
        }
      ]
    },
    {
      "cell_type": "code",
      "metadata": {
        "id": "dkFVuPlUraKT",
        "colab": {
          "base_uri": "https://localhost:8080/",
          "height": 204
        },
        "outputId": "8d1b611e-e4e2-4675-fb0c-3c8ef1aef0a8"
      },
      "source": [
        "# Building the model \n",
        "frq_items = apriori(basket_No, min_support = 0.05, use_colnames = True) \n",
        "  \n",
        "# Collecting the inferred rules in a dataframe \n",
        "rules = association_rules(frq_items, metric =\"lift\", min_threshold = 1) \n",
        "rules = rules.sort_values(['confidence', 'lift'], ascending =[False, False]) \n",
        "rules.head()"
      ],
      "execution_count": 180,
      "outputs": [
        {
          "output_type": "execute_result",
          "data": {
            "text/html": [
              "<div>\n",
              "<style scoped>\n",
              "    .dataframe tbody tr th:only-of-type {\n",
              "        vertical-align: middle;\n",
              "    }\n",
              "\n",
              "    .dataframe tbody tr th {\n",
              "        vertical-align: top;\n",
              "    }\n",
              "\n",
              "    .dataframe thead th {\n",
              "        text-align: right;\n",
              "    }\n",
              "</style>\n",
              "<table border=\"1\" class=\"dataframe\">\n",
              "  <thead>\n",
              "    <tr style=\"text-align: right;\">\n",
              "      <th></th>\n",
              "      <th>antecedents</th>\n",
              "      <th>consequents</th>\n",
              "      <th>antecedent support</th>\n",
              "      <th>consequent support</th>\n",
              "      <th>support</th>\n",
              "      <th>confidence</th>\n",
              "      <th>lift</th>\n",
              "      <th>leverage</th>\n",
              "      <th>conviction</th>\n",
              "    </tr>\n",
              "  </thead>\n",
              "  <tbody>\n",
              "    <tr>\n",
              "      <th>0</th>\n",
              "      <td>(Bad)</td>\n",
              "      <td>(Good)</td>\n",
              "      <td>1.0</td>\n",
              "      <td>1.0</td>\n",
              "      <td>1.0</td>\n",
              "      <td>1.0</td>\n",
              "      <td>1.0</td>\n",
              "      <td>0.0</td>\n",
              "      <td>inf</td>\n",
              "    </tr>\n",
              "    <tr>\n",
              "      <th>1</th>\n",
              "      <td>(Good)</td>\n",
              "      <td>(Bad)</td>\n",
              "      <td>1.0</td>\n",
              "      <td>1.0</td>\n",
              "      <td>1.0</td>\n",
              "      <td>1.0</td>\n",
              "      <td>1.0</td>\n",
              "      <td>0.0</td>\n",
              "      <td>inf</td>\n",
              "    </tr>\n",
              "    <tr>\n",
              "      <th>2</th>\n",
              "      <td>(Normal)</td>\n",
              "      <td>(Bad)</td>\n",
              "      <td>1.0</td>\n",
              "      <td>1.0</td>\n",
              "      <td>1.0</td>\n",
              "      <td>1.0</td>\n",
              "      <td>1.0</td>\n",
              "      <td>0.0</td>\n",
              "      <td>inf</td>\n",
              "    </tr>\n",
              "    <tr>\n",
              "      <th>3</th>\n",
              "      <td>(Bad)</td>\n",
              "      <td>(Normal)</td>\n",
              "      <td>1.0</td>\n",
              "      <td>1.0</td>\n",
              "      <td>1.0</td>\n",
              "      <td>1.0</td>\n",
              "      <td>1.0</td>\n",
              "      <td>0.0</td>\n",
              "      <td>inf</td>\n",
              "    </tr>\n",
              "    <tr>\n",
              "      <th>4</th>\n",
              "      <td>(Bad)</td>\n",
              "      <td>(Very bad)</td>\n",
              "      <td>1.0</td>\n",
              "      <td>1.0</td>\n",
              "      <td>1.0</td>\n",
              "      <td>1.0</td>\n",
              "      <td>1.0</td>\n",
              "      <td>0.0</td>\n",
              "      <td>inf</td>\n",
              "    </tr>\n",
              "  </tbody>\n",
              "</table>\n",
              "</div>"
            ],
            "text/plain": [
              "  antecedents consequents  antecedent support  ...  lift  leverage  conviction\n",
              "0       (Bad)      (Good)                 1.0  ...   1.0       0.0         inf\n",
              "1      (Good)       (Bad)                 1.0  ...   1.0       0.0         inf\n",
              "2    (Normal)       (Bad)                 1.0  ...   1.0       0.0         inf\n",
              "3       (Bad)    (Normal)                 1.0  ...   1.0       0.0         inf\n",
              "4       (Bad)  (Very bad)                 1.0  ...   1.0       0.0         inf\n",
              "\n",
              "[5 rows x 9 columns]"
            ]
          },
          "metadata": {
            "tags": []
          },
          "execution_count": 180
        }
      ]
    },
    {
      "cell_type": "code",
      "metadata": {
        "id": "dOYWD_c8raKT"
      },
      "source": [
        "#df1.head()"
      ],
      "execution_count": 181,
      "outputs": []
    },
    {
      "cell_type": "markdown",
      "metadata": {
        "id": "9_JU2LPvraKX"
      },
      "source": [
        "**Are you happy with your financial state?**"
      ]
    },
    {
      "cell_type": "code",
      "metadata": {
        "id": "eOFqj897raKY",
        "colab": {
          "base_uri": "https://localhost:8080/"
        },
        "outputId": "a8c9cd18-ecb4-49c3-ffe8-fe428eec713d"
      },
      "source": [
        "df1.Happy_with_financial.unique()"
      ],
      "execution_count": 182,
      "outputs": [
        {
          "output_type": "execute_result",
          "data": {
            "text/plain": [
              "array(['Yes'], dtype=object)"
            ]
          },
          "metadata": {
            "tags": []
          },
          "execution_count": 182
        }
      ]
    },
    {
      "cell_type": "code",
      "metadata": {
        "id": "5vlwEKjkraKY"
      },
      "source": [
        "basket_Yes = (df1[df1['Happy_with_financial'] ==\"Yes\"] \n",
        "          .groupby(['Year', 'Felling_right_now'])['Express_feeling'] \n",
        "          .sum().unstack().reset_index().fillna(0) \n",
        "          .set_index('Year'))"
      ],
      "execution_count": 183,
      "outputs": []
    },
    {
      "cell_type": "code",
      "metadata": {
        "id": "Tn0j_zesraKZ"
      },
      "source": [
        "def hot_encode(x): \n",
        "    if(x<= 0): \n",
        "        return 0\n",
        "    if(x>= 1): \n",
        "        return 1\n",
        "    \n",
        "# Encoding the datasets \n",
        "basket_encoded = basket_Yes.applymap(hot_encode) \n",
        "basket_Yes = basket_encoded "
      ],
      "execution_count": 184,
      "outputs": []
    },
    {
      "cell_type": "code",
      "metadata": {
        "id": "ekuk91P6raKZ",
        "colab": {
          "base_uri": "https://localhost:8080/",
          "height": 204
        },
        "outputId": "da9bde5b-5e15-4046-e2a1-8bc5ace09303"
      },
      "source": [
        "# Building the model \n",
        "frq_items = apriori(basket_Yes, min_support = 0.05, use_colnames = True) \n",
        "  \n",
        "# Collecting the inferred rules in a dataframe \n",
        "rules = association_rules(frq_items, metric =\"lift\", min_threshold = 1) \n",
        "rules = rules.sort_values(['confidence', 'lift'], ascending =[False, False]) \n",
        "rules.head()"
      ],
      "execution_count": 185,
      "outputs": [
        {
          "output_type": "execute_result",
          "data": {
            "text/html": [
              "<div>\n",
              "<style scoped>\n",
              "    .dataframe tbody tr th:only-of-type {\n",
              "        vertical-align: middle;\n",
              "    }\n",
              "\n",
              "    .dataframe tbody tr th {\n",
              "        vertical-align: top;\n",
              "    }\n",
              "\n",
              "    .dataframe thead th {\n",
              "        text-align: right;\n",
              "    }\n",
              "</style>\n",
              "<table border=\"1\" class=\"dataframe\">\n",
              "  <thead>\n",
              "    <tr style=\"text-align: right;\">\n",
              "      <th></th>\n",
              "      <th>antecedents</th>\n",
              "      <th>consequents</th>\n",
              "      <th>antecedent support</th>\n",
              "      <th>consequent support</th>\n",
              "      <th>support</th>\n",
              "      <th>confidence</th>\n",
              "      <th>lift</th>\n",
              "      <th>leverage</th>\n",
              "      <th>conviction</th>\n",
              "    </tr>\n",
              "  </thead>\n",
              "  <tbody>\n",
              "    <tr>\n",
              "      <th>0</th>\n",
              "      <td>(Bad)</td>\n",
              "      <td>(Good)</td>\n",
              "      <td>1.0</td>\n",
              "      <td>1.0</td>\n",
              "      <td>1.0</td>\n",
              "      <td>1.0</td>\n",
              "      <td>1.0</td>\n",
              "      <td>0.0</td>\n",
              "      <td>inf</td>\n",
              "    </tr>\n",
              "    <tr>\n",
              "      <th>1</th>\n",
              "      <td>(Good)</td>\n",
              "      <td>(Bad)</td>\n",
              "      <td>1.0</td>\n",
              "      <td>1.0</td>\n",
              "      <td>1.0</td>\n",
              "      <td>1.0</td>\n",
              "      <td>1.0</td>\n",
              "      <td>0.0</td>\n",
              "      <td>inf</td>\n",
              "    </tr>\n",
              "    <tr>\n",
              "      <th>2</th>\n",
              "      <td>(Normal)</td>\n",
              "      <td>(Bad)</td>\n",
              "      <td>1.0</td>\n",
              "      <td>1.0</td>\n",
              "      <td>1.0</td>\n",
              "      <td>1.0</td>\n",
              "      <td>1.0</td>\n",
              "      <td>0.0</td>\n",
              "      <td>inf</td>\n",
              "    </tr>\n",
              "    <tr>\n",
              "      <th>3</th>\n",
              "      <td>(Bad)</td>\n",
              "      <td>(Normal)</td>\n",
              "      <td>1.0</td>\n",
              "      <td>1.0</td>\n",
              "      <td>1.0</td>\n",
              "      <td>1.0</td>\n",
              "      <td>1.0</td>\n",
              "      <td>0.0</td>\n",
              "      <td>inf</td>\n",
              "    </tr>\n",
              "    <tr>\n",
              "      <th>4</th>\n",
              "      <td>(Bad)</td>\n",
              "      <td>(Very bad)</td>\n",
              "      <td>1.0</td>\n",
              "      <td>1.0</td>\n",
              "      <td>1.0</td>\n",
              "      <td>1.0</td>\n",
              "      <td>1.0</td>\n",
              "      <td>0.0</td>\n",
              "      <td>inf</td>\n",
              "    </tr>\n",
              "  </tbody>\n",
              "</table>\n",
              "</div>"
            ],
            "text/plain": [
              "  antecedents consequents  antecedent support  ...  lift  leverage  conviction\n",
              "0       (Bad)      (Good)                 1.0  ...   1.0       0.0         inf\n",
              "1      (Good)       (Bad)                 1.0  ...   1.0       0.0         inf\n",
              "2    (Normal)       (Bad)                 1.0  ...   1.0       0.0         inf\n",
              "3       (Bad)    (Normal)                 1.0  ...   1.0       0.0         inf\n",
              "4       (Bad)  (Very bad)                 1.0  ...   1.0       0.0         inf\n",
              "\n",
              "[5 rows x 9 columns]"
            ]
          },
          "metadata": {
            "tags": []
          },
          "execution_count": 185
        }
      ]
    },
    {
      "cell_type": "code",
      "metadata": {
        "id": "1I0CpXAIraKZ"
      },
      "source": [
        "#df1.head()"
      ],
      "execution_count": 186,
      "outputs": []
    },
    {
      "cell_type": "markdown",
      "metadata": {
        "id": "PvDmyiSMraKb"
      },
      "source": [
        "**Understanding with your family members?**"
      ]
    },
    {
      "cell_type": "code",
      "metadata": {
        "id": "uSBpdCkEraKc",
        "colab": {
          "base_uri": "https://localhost:8080/"
        },
        "outputId": "371b4c57-0339-4846-997e-30f7796dbc60"
      },
      "source": [
        "df1.Understanding_with_family.unique()"
      ],
      "execution_count": 187,
      "outputs": [
        {
          "output_type": "execute_result",
          "data": {
            "text/plain": [
              "array(['Good'], dtype=object)"
            ]
          },
          "metadata": {
            "tags": []
          },
          "execution_count": 187
        }
      ]
    },
    {
      "cell_type": "code",
      "metadata": {
        "id": "RWPQGtV2raKc"
      },
      "source": [
        "basket_Good = (df1[df1['Understanding_with_family'] ==\"Good\"] \n",
        "          .groupby(['Year', 'Felling_right_now'])['Express_feeling'] \n",
        "          .sum().unstack().reset_index().fillna(0) \n",
        "          .set_index('Year'))"
      ],
      "execution_count": 188,
      "outputs": []
    },
    {
      "cell_type": "code",
      "metadata": {
        "id": "h-W-HUToraKc"
      },
      "source": [
        "def hot_encode(x): \n",
        "    if(x<= 0): \n",
        "        return 0\n",
        "    if(x>= 1): \n",
        "        return 1\n",
        "    \n",
        "# Encoding the datasets \n",
        "basket_encoded = basket_Good.applymap(hot_encode) \n",
        "basket_Good = basket_encoded "
      ],
      "execution_count": 189,
      "outputs": []
    },
    {
      "cell_type": "code",
      "metadata": {
        "id": "ElEPt-3TraKc",
        "colab": {
          "base_uri": "https://localhost:8080/",
          "height": 204
        },
        "outputId": "2c8814d8-c180-4884-f132-2f882afe2d65"
      },
      "source": [
        "# Building the model \n",
        "frq_items = apriori(basket_Good, min_support = 0.05, use_colnames = True) \n",
        "  \n",
        "# Collecting the inferred rules in a dataframe \n",
        "rules = association_rules(frq_items, metric =\"lift\", min_threshold = 1) \n",
        "rules = rules.sort_values(['confidence', 'lift'], ascending =[False, False]) \n",
        "rules.head()"
      ],
      "execution_count": 190,
      "outputs": [
        {
          "output_type": "execute_result",
          "data": {
            "text/html": [
              "<div>\n",
              "<style scoped>\n",
              "    .dataframe tbody tr th:only-of-type {\n",
              "        vertical-align: middle;\n",
              "    }\n",
              "\n",
              "    .dataframe tbody tr th {\n",
              "        vertical-align: top;\n",
              "    }\n",
              "\n",
              "    .dataframe thead th {\n",
              "        text-align: right;\n",
              "    }\n",
              "</style>\n",
              "<table border=\"1\" class=\"dataframe\">\n",
              "  <thead>\n",
              "    <tr style=\"text-align: right;\">\n",
              "      <th></th>\n",
              "      <th>antecedents</th>\n",
              "      <th>consequents</th>\n",
              "      <th>antecedent support</th>\n",
              "      <th>consequent support</th>\n",
              "      <th>support</th>\n",
              "      <th>confidence</th>\n",
              "      <th>lift</th>\n",
              "      <th>leverage</th>\n",
              "      <th>conviction</th>\n",
              "    </tr>\n",
              "  </thead>\n",
              "  <tbody>\n",
              "    <tr>\n",
              "      <th>0</th>\n",
              "      <td>(Bad)</td>\n",
              "      <td>(Good)</td>\n",
              "      <td>1.0</td>\n",
              "      <td>1.0</td>\n",
              "      <td>1.0</td>\n",
              "      <td>1.0</td>\n",
              "      <td>1.0</td>\n",
              "      <td>0.0</td>\n",
              "      <td>inf</td>\n",
              "    </tr>\n",
              "    <tr>\n",
              "      <th>1</th>\n",
              "      <td>(Good)</td>\n",
              "      <td>(Bad)</td>\n",
              "      <td>1.0</td>\n",
              "      <td>1.0</td>\n",
              "      <td>1.0</td>\n",
              "      <td>1.0</td>\n",
              "      <td>1.0</td>\n",
              "      <td>0.0</td>\n",
              "      <td>inf</td>\n",
              "    </tr>\n",
              "    <tr>\n",
              "      <th>2</th>\n",
              "      <td>(Normal)</td>\n",
              "      <td>(Bad)</td>\n",
              "      <td>1.0</td>\n",
              "      <td>1.0</td>\n",
              "      <td>1.0</td>\n",
              "      <td>1.0</td>\n",
              "      <td>1.0</td>\n",
              "      <td>0.0</td>\n",
              "      <td>inf</td>\n",
              "    </tr>\n",
              "    <tr>\n",
              "      <th>3</th>\n",
              "      <td>(Bad)</td>\n",
              "      <td>(Normal)</td>\n",
              "      <td>1.0</td>\n",
              "      <td>1.0</td>\n",
              "      <td>1.0</td>\n",
              "      <td>1.0</td>\n",
              "      <td>1.0</td>\n",
              "      <td>0.0</td>\n",
              "      <td>inf</td>\n",
              "    </tr>\n",
              "    <tr>\n",
              "      <th>4</th>\n",
              "      <td>(Bad)</td>\n",
              "      <td>(Very bad)</td>\n",
              "      <td>1.0</td>\n",
              "      <td>1.0</td>\n",
              "      <td>1.0</td>\n",
              "      <td>1.0</td>\n",
              "      <td>1.0</td>\n",
              "      <td>0.0</td>\n",
              "      <td>inf</td>\n",
              "    </tr>\n",
              "  </tbody>\n",
              "</table>\n",
              "</div>"
            ],
            "text/plain": [
              "  antecedents consequents  antecedent support  ...  lift  leverage  conviction\n",
              "0       (Bad)      (Good)                 1.0  ...   1.0       0.0         inf\n",
              "1      (Good)       (Bad)                 1.0  ...   1.0       0.0         inf\n",
              "2    (Normal)       (Bad)                 1.0  ...   1.0       0.0         inf\n",
              "3       (Bad)    (Normal)                 1.0  ...   1.0       0.0         inf\n",
              "4       (Bad)  (Very bad)                 1.0  ...   1.0       0.0         inf\n",
              "\n",
              "[5 rows x 9 columns]"
            ]
          },
          "metadata": {
            "tags": []
          },
          "execution_count": 190
        }
      ]
    },
    {
      "cell_type": "code",
      "metadata": {
        "id": "UMMwtGA0raKd"
      },
      "source": [
        "#df1.head()"
      ],
      "execution_count": 191,
      "outputs": []
    },
    {
      "cell_type": "markdown",
      "metadata": {
        "id": "q2niROm0raKd"
      },
      "source": [
        "**Are you happy with your living place?**"
      ]
    },
    {
      "cell_type": "code",
      "metadata": {
        "id": "Yfk251eoraKd",
        "colab": {
          "base_uri": "https://localhost:8080/"
        },
        "outputId": "31303c10-ee5e-4155-843a-4255868fdb79"
      },
      "source": [
        "df1.Living_place_happiness.unique()"
      ],
      "execution_count": 192,
      "outputs": [
        {
          "output_type": "execute_result",
          "data": {
            "text/plain": [
              "array(['Yes', 'No', 'Not applicable'], dtype=object)"
            ]
          },
          "metadata": {
            "tags": []
          },
          "execution_count": 192
        }
      ]
    },
    {
      "cell_type": "code",
      "metadata": {
        "id": "rqIVp3dFraKe"
      },
      "source": [
        "basket_Yes = (df1[df1['Living_place_happiness'] ==\"Yes\"] \n",
        "          .groupby(['Year', 'Felling_right_now'])['Express_feeling'] \n",
        "          .sum().unstack().reset_index().fillna(0) \n",
        "          .set_index('Year'))\n",
        "basket_No = (df1[df1['Living_place_happiness'] ==\"No\"] \n",
        "          .groupby(['Year', 'Felling_right_now'])['Express_feeling'] \n",
        "          .sum().unstack().reset_index().fillna(0) \n",
        "          .set_index('Year'))"
      ],
      "execution_count": 193,
      "outputs": []
    },
    {
      "cell_type": "code",
      "metadata": {
        "id": "8AiHkqlzraKe"
      },
      "source": [
        "def hot_encode(x): \n",
        "    if(x<= 0): \n",
        "        return 0\n",
        "    if(x>= 1): \n",
        "        return 1\n",
        "    \n",
        "# Encoding the datasets \n",
        "basket_encoded = basket_Yes.applymap(hot_encode) \n",
        "basket_Yes = basket_encoded \n",
        "  \n",
        "basket_encoded = basket_No.applymap(hot_encode) \n",
        "basket_No = basket_encoded "
      ],
      "execution_count": 194,
      "outputs": []
    },
    {
      "cell_type": "code",
      "metadata": {
        "id": "l8MgloX2raKe",
        "colab": {
          "base_uri": "https://localhost:8080/",
          "height": 204
        },
        "outputId": "4115f9d6-6147-44e2-925d-3ebb7eb73a52"
      },
      "source": [
        "# Building the model \n",
        "frq_items = apriori(basket_Yes, min_support = 0.05, use_colnames = True) \n",
        "  \n",
        "# Collecting the inferred rules in a dataframe \n",
        "rules = association_rules(frq_items, metric =\"lift\", min_threshold = 1) \n",
        "rules = rules.sort_values(['confidence', 'lift'], ascending =[False, False]) \n",
        "rules.head()"
      ],
      "execution_count": 195,
      "outputs": [
        {
          "output_type": "execute_result",
          "data": {
            "text/html": [
              "<div>\n",
              "<style scoped>\n",
              "    .dataframe tbody tr th:only-of-type {\n",
              "        vertical-align: middle;\n",
              "    }\n",
              "\n",
              "    .dataframe tbody tr th {\n",
              "        vertical-align: top;\n",
              "    }\n",
              "\n",
              "    .dataframe thead th {\n",
              "        text-align: right;\n",
              "    }\n",
              "</style>\n",
              "<table border=\"1\" class=\"dataframe\">\n",
              "  <thead>\n",
              "    <tr style=\"text-align: right;\">\n",
              "      <th></th>\n",
              "      <th>antecedents</th>\n",
              "      <th>consequents</th>\n",
              "      <th>antecedent support</th>\n",
              "      <th>consequent support</th>\n",
              "      <th>support</th>\n",
              "      <th>confidence</th>\n",
              "      <th>lift</th>\n",
              "      <th>leverage</th>\n",
              "      <th>conviction</th>\n",
              "    </tr>\n",
              "  </thead>\n",
              "  <tbody>\n",
              "    <tr>\n",
              "      <th>0</th>\n",
              "      <td>(Bad)</td>\n",
              "      <td>(Good)</td>\n",
              "      <td>0.75</td>\n",
              "      <td>1.0</td>\n",
              "      <td>0.75</td>\n",
              "      <td>1.0</td>\n",
              "      <td>1.0</td>\n",
              "      <td>0.0</td>\n",
              "      <td>inf</td>\n",
              "    </tr>\n",
              "    <tr>\n",
              "      <th>3</th>\n",
              "      <td>(Bad)</td>\n",
              "      <td>(Normal)</td>\n",
              "      <td>0.75</td>\n",
              "      <td>1.0</td>\n",
              "      <td>0.75</td>\n",
              "      <td>1.0</td>\n",
              "      <td>1.0</td>\n",
              "      <td>0.0</td>\n",
              "      <td>inf</td>\n",
              "    </tr>\n",
              "    <tr>\n",
              "      <th>4</th>\n",
              "      <td>(Bad)</td>\n",
              "      <td>(Very bad)</td>\n",
              "      <td>0.75</td>\n",
              "      <td>1.0</td>\n",
              "      <td>0.75</td>\n",
              "      <td>1.0</td>\n",
              "      <td>1.0</td>\n",
              "      <td>0.0</td>\n",
              "      <td>inf</td>\n",
              "    </tr>\n",
              "    <tr>\n",
              "      <th>7</th>\n",
              "      <td>(Bad)</td>\n",
              "      <td>(Very good)</td>\n",
              "      <td>0.75</td>\n",
              "      <td>1.0</td>\n",
              "      <td>0.75</td>\n",
              "      <td>1.0</td>\n",
              "      <td>1.0</td>\n",
              "      <td>0.0</td>\n",
              "      <td>inf</td>\n",
              "    </tr>\n",
              "    <tr>\n",
              "      <th>8</th>\n",
              "      <td>(Normal)</td>\n",
              "      <td>(Good)</td>\n",
              "      <td>1.00</td>\n",
              "      <td>1.0</td>\n",
              "      <td>1.00</td>\n",
              "      <td>1.0</td>\n",
              "      <td>1.0</td>\n",
              "      <td>0.0</td>\n",
              "      <td>inf</td>\n",
              "    </tr>\n",
              "  </tbody>\n",
              "</table>\n",
              "</div>"
            ],
            "text/plain": [
              "  antecedents  consequents  antecedent support  ...  lift  leverage  conviction\n",
              "0       (Bad)       (Good)                0.75  ...   1.0       0.0         inf\n",
              "3       (Bad)     (Normal)                0.75  ...   1.0       0.0         inf\n",
              "4       (Bad)   (Very bad)                0.75  ...   1.0       0.0         inf\n",
              "7       (Bad)  (Very good)                0.75  ...   1.0       0.0         inf\n",
              "8    (Normal)       (Good)                1.00  ...   1.0       0.0         inf\n",
              "\n",
              "[5 rows x 9 columns]"
            ]
          },
          "metadata": {
            "tags": []
          },
          "execution_count": 195
        }
      ]
    },
    {
      "cell_type": "code",
      "metadata": {
        "id": "0aPrRRGbraKe",
        "colab": {
          "base_uri": "https://localhost:8080/",
          "height": 204
        },
        "outputId": "ff8c430e-fefd-41bb-f77f-8acf98893905"
      },
      "source": [
        "# Building the model \n",
        "frq_items = apriori(basket_No, min_support = 0.05, use_colnames = True) \n",
        "  \n",
        "# Collecting the inferred rules in a dataframe \n",
        "rules = association_rules(frq_items, metric =\"lift\", min_threshold = 1) \n",
        "rules = rules.sort_values(['confidence', 'lift'], ascending =[False, False]) \n",
        "rules.head() "
      ],
      "execution_count": 196,
      "outputs": [
        {
          "output_type": "execute_result",
          "data": {
            "text/html": [
              "<div>\n",
              "<style scoped>\n",
              "    .dataframe tbody tr th:only-of-type {\n",
              "        vertical-align: middle;\n",
              "    }\n",
              "\n",
              "    .dataframe tbody tr th {\n",
              "        vertical-align: top;\n",
              "    }\n",
              "\n",
              "    .dataframe thead th {\n",
              "        text-align: right;\n",
              "    }\n",
              "</style>\n",
              "<table border=\"1\" class=\"dataframe\">\n",
              "  <thead>\n",
              "    <tr style=\"text-align: right;\">\n",
              "      <th></th>\n",
              "      <th>antecedents</th>\n",
              "      <th>consequents</th>\n",
              "      <th>antecedent support</th>\n",
              "      <th>consequent support</th>\n",
              "      <th>support</th>\n",
              "      <th>confidence</th>\n",
              "      <th>lift</th>\n",
              "      <th>leverage</th>\n",
              "      <th>conviction</th>\n",
              "    </tr>\n",
              "  </thead>\n",
              "  <tbody>\n",
              "    <tr>\n",
              "      <th>2</th>\n",
              "      <td>(Normal)</td>\n",
              "      <td>(Bad)</td>\n",
              "      <td>0.75</td>\n",
              "      <td>0.75</td>\n",
              "      <td>0.75</td>\n",
              "      <td>1.0</td>\n",
              "      <td>1.333333</td>\n",
              "      <td>0.1875</td>\n",
              "      <td>inf</td>\n",
              "    </tr>\n",
              "    <tr>\n",
              "      <th>3</th>\n",
              "      <td>(Bad)</td>\n",
              "      <td>(Normal)</td>\n",
              "      <td>0.75</td>\n",
              "      <td>0.75</td>\n",
              "      <td>0.75</td>\n",
              "      <td>1.0</td>\n",
              "      <td>1.333333</td>\n",
              "      <td>0.1875</td>\n",
              "      <td>inf</td>\n",
              "    </tr>\n",
              "    <tr>\n",
              "      <th>4</th>\n",
              "      <td>(Bad)</td>\n",
              "      <td>(Very bad)</td>\n",
              "      <td>0.75</td>\n",
              "      <td>0.75</td>\n",
              "      <td>0.75</td>\n",
              "      <td>1.0</td>\n",
              "      <td>1.333333</td>\n",
              "      <td>0.1875</td>\n",
              "      <td>inf</td>\n",
              "    </tr>\n",
              "    <tr>\n",
              "      <th>5</th>\n",
              "      <td>(Very bad)</td>\n",
              "      <td>(Bad)</td>\n",
              "      <td>0.75</td>\n",
              "      <td>0.75</td>\n",
              "      <td>0.75</td>\n",
              "      <td>1.0</td>\n",
              "      <td>1.333333</td>\n",
              "      <td>0.1875</td>\n",
              "      <td>inf</td>\n",
              "    </tr>\n",
              "    <tr>\n",
              "      <th>6</th>\n",
              "      <td>(Very good)</td>\n",
              "      <td>(Bad)</td>\n",
              "      <td>0.50</td>\n",
              "      <td>0.75</td>\n",
              "      <td>0.50</td>\n",
              "      <td>1.0</td>\n",
              "      <td>1.333333</td>\n",
              "      <td>0.1250</td>\n",
              "      <td>inf</td>\n",
              "    </tr>\n",
              "  </tbody>\n",
              "</table>\n",
              "</div>"
            ],
            "text/plain": [
              "   antecedents consequents  antecedent support  ...      lift  leverage  conviction\n",
              "2     (Normal)       (Bad)                0.75  ...  1.333333    0.1875         inf\n",
              "3        (Bad)    (Normal)                0.75  ...  1.333333    0.1875         inf\n",
              "4        (Bad)  (Very bad)                0.75  ...  1.333333    0.1875         inf\n",
              "5   (Very bad)       (Bad)                0.75  ...  1.333333    0.1875         inf\n",
              "6  (Very good)       (Bad)                0.50  ...  1.333333    0.1250         inf\n",
              "\n",
              "[5 rows x 9 columns]"
            ]
          },
          "metadata": {
            "tags": []
          },
          "execution_count": 196
        }
      ]
    },
    {
      "cell_type": "code",
      "metadata": {
        "id": "3gjCkA6YraKf"
      },
      "source": [
        "#df1.head()"
      ],
      "execution_count": 197,
      "outputs": []
    },
    {
      "cell_type": "markdown",
      "metadata": {
        "id": "-XM9xBARraKf"
      },
      "source": [
        "**Are you satisfied with your academic result?**"
      ]
    },
    {
      "cell_type": "code",
      "metadata": {
        "id": "PSqzK-_HraKf",
        "colab": {
          "base_uri": "https://localhost:8080/"
        },
        "outputId": "6f8ad874-fca7-484d-fc83-e4a4b111cb13"
      },
      "source": [
        "df1.Satisfaction_academic_result.unique()"
      ],
      "execution_count": 198,
      "outputs": [
        {
          "output_type": "execute_result",
          "data": {
            "text/plain": [
              "array(['No', 'Not applicable', 'Yes'], dtype=object)"
            ]
          },
          "metadata": {
            "tags": []
          },
          "execution_count": 198
        }
      ]
    },
    {
      "cell_type": "code",
      "metadata": {
        "id": "rCvmUMhWraKg"
      },
      "source": [
        "basket_No = (df1[df1['Satisfaction_academic_result'] ==\"No\"] \n",
        "          .groupby(['Year', 'Felling_right_now'])['Express_feeling'] \n",
        "          .sum().unstack().reset_index().fillna(0) \n",
        "          .set_index('Year'))"
      ],
      "execution_count": 199,
      "outputs": []
    },
    {
      "cell_type": "code",
      "metadata": {
        "id": "dNgKPlV9raKg"
      },
      "source": [
        "def hot_encode(x): \n",
        "    if(x<= 0): \n",
        "        return 0\n",
        "    if(x>= 1): \n",
        "        return 1\n",
        "    \n",
        "# Encoding the datasets \n",
        "basket_encoded = basket_No.applymap(hot_encode) \n",
        "basket_No = basket_encoded "
      ],
      "execution_count": 200,
      "outputs": []
    },
    {
      "cell_type": "code",
      "metadata": {
        "id": "M6xIHplxraKh",
        "colab": {
          "base_uri": "https://localhost:8080/",
          "height": 204
        },
        "outputId": "8565fea0-0b5d-4c5a-bba4-6db35afc7ace"
      },
      "source": [
        "# Building the model \n",
        "frq_items = apriori(basket_No, min_support = 0.05, use_colnames = True) \n",
        "  \n",
        "# Collecting the inferred rules in a dataframe \n",
        "rules = association_rules(frq_items, metric =\"lift\", min_threshold = 1) \n",
        "rules = rules.sort_values(['confidence', 'lift'], ascending =[False, False]) \n",
        "rules.head() "
      ],
      "execution_count": 201,
      "outputs": [
        {
          "output_type": "execute_result",
          "data": {
            "text/html": [
              "<div>\n",
              "<style scoped>\n",
              "    .dataframe tbody tr th:only-of-type {\n",
              "        vertical-align: middle;\n",
              "    }\n",
              "\n",
              "    .dataframe tbody tr th {\n",
              "        vertical-align: top;\n",
              "    }\n",
              "\n",
              "    .dataframe thead th {\n",
              "        text-align: right;\n",
              "    }\n",
              "</style>\n",
              "<table border=\"1\" class=\"dataframe\">\n",
              "  <thead>\n",
              "    <tr style=\"text-align: right;\">\n",
              "      <th></th>\n",
              "      <th>antecedents</th>\n",
              "      <th>consequents</th>\n",
              "      <th>antecedent support</th>\n",
              "      <th>consequent support</th>\n",
              "      <th>support</th>\n",
              "      <th>confidence</th>\n",
              "      <th>lift</th>\n",
              "      <th>leverage</th>\n",
              "      <th>conviction</th>\n",
              "    </tr>\n",
              "  </thead>\n",
              "  <tbody>\n",
              "    <tr>\n",
              "      <th>0</th>\n",
              "      <td>(Bad)</td>\n",
              "      <td>(Good)</td>\n",
              "      <td>1.0</td>\n",
              "      <td>1.0</td>\n",
              "      <td>1.0</td>\n",
              "      <td>1.0</td>\n",
              "      <td>1.0</td>\n",
              "      <td>0.0</td>\n",
              "      <td>inf</td>\n",
              "    </tr>\n",
              "    <tr>\n",
              "      <th>1</th>\n",
              "      <td>(Good)</td>\n",
              "      <td>(Bad)</td>\n",
              "      <td>1.0</td>\n",
              "      <td>1.0</td>\n",
              "      <td>1.0</td>\n",
              "      <td>1.0</td>\n",
              "      <td>1.0</td>\n",
              "      <td>0.0</td>\n",
              "      <td>inf</td>\n",
              "    </tr>\n",
              "    <tr>\n",
              "      <th>2</th>\n",
              "      <td>(Normal)</td>\n",
              "      <td>(Bad)</td>\n",
              "      <td>1.0</td>\n",
              "      <td>1.0</td>\n",
              "      <td>1.0</td>\n",
              "      <td>1.0</td>\n",
              "      <td>1.0</td>\n",
              "      <td>0.0</td>\n",
              "      <td>inf</td>\n",
              "    </tr>\n",
              "    <tr>\n",
              "      <th>3</th>\n",
              "      <td>(Bad)</td>\n",
              "      <td>(Normal)</td>\n",
              "      <td>1.0</td>\n",
              "      <td>1.0</td>\n",
              "      <td>1.0</td>\n",
              "      <td>1.0</td>\n",
              "      <td>1.0</td>\n",
              "      <td>0.0</td>\n",
              "      <td>inf</td>\n",
              "    </tr>\n",
              "    <tr>\n",
              "      <th>4</th>\n",
              "      <td>(Bad)</td>\n",
              "      <td>(Very bad)</td>\n",
              "      <td>1.0</td>\n",
              "      <td>1.0</td>\n",
              "      <td>1.0</td>\n",
              "      <td>1.0</td>\n",
              "      <td>1.0</td>\n",
              "      <td>0.0</td>\n",
              "      <td>inf</td>\n",
              "    </tr>\n",
              "  </tbody>\n",
              "</table>\n",
              "</div>"
            ],
            "text/plain": [
              "  antecedents consequents  antecedent support  ...  lift  leverage  conviction\n",
              "0       (Bad)      (Good)                 1.0  ...   1.0       0.0         inf\n",
              "1      (Good)       (Bad)                 1.0  ...   1.0       0.0         inf\n",
              "2    (Normal)       (Bad)                 1.0  ...   1.0       0.0         inf\n",
              "3       (Bad)    (Normal)                 1.0  ...   1.0       0.0         inf\n",
              "4       (Bad)  (Very bad)                 1.0  ...   1.0       0.0         inf\n",
              "\n",
              "[5 rows x 9 columns]"
            ]
          },
          "metadata": {
            "tags": []
          },
          "execution_count": 201
        }
      ]
    },
    {
      "cell_type": "code",
      "metadata": {
        "id": "lL6ZOWQ1raKh"
      },
      "source": [
        "#df1.head()"
      ],
      "execution_count": 202,
      "outputs": []
    },
    {
      "cell_type": "markdown",
      "metadata": {
        "id": "qCHSRmFVraKi"
      },
      "source": [
        "**Have you used any social media within the last 6 hours?**"
      ]
    },
    {
      "cell_type": "code",
      "metadata": {
        "id": "HrZ3mqCSraKi",
        "colab": {
          "base_uri": "https://localhost:8080/"
        },
        "outputId": "004219d6-9bc7-4fe8-8b72-648ada85bb9d"
      },
      "source": [
        "df1.Using_social_media.unique()"
      ],
      "execution_count": 203,
      "outputs": [
        {
          "output_type": "execute_result",
          "data": {
            "text/plain": [
              "array(['Yes', 'No'], dtype=object)"
            ]
          },
          "metadata": {
            "tags": []
          },
          "execution_count": 203
        }
      ]
    },
    {
      "cell_type": "code",
      "metadata": {
        "id": "rMaaIJj4raKj"
      },
      "source": [
        "basket_Yes = (df1[df1['Using_social_media'] ==\"Yes\"] \n",
        "          .groupby(['Year', 'Felling_right_now'])['Express_feeling'] \n",
        "          .sum().unstack().reset_index().fillna(0) \n",
        "          .set_index('Year'))\n",
        "basket_No = (df1[df1['Using_social_media'] ==\"No\"] \n",
        "          .groupby(['Year', 'Felling_right_now'])['Express_feeling'] \n",
        "          .sum().unstack().reset_index().fillna(0) \n",
        "          .set_index('Year'))"
      ],
      "execution_count": 204,
      "outputs": []
    },
    {
      "cell_type": "code",
      "metadata": {
        "id": "ldRailxoraKj"
      },
      "source": [
        "def hot_encode(x): \n",
        "    if(x<= 0): \n",
        "        return 0\n",
        "    if(x>= 1): \n",
        "        return 1\n",
        "    \n",
        "# Encoding the datasets \n",
        "basket_encoded = basket_Yes.applymap(hot_encode) \n",
        "basket_Yes = basket_encoded \n",
        "  \n",
        "basket_encoded = basket_No.applymap(hot_encode) \n",
        "basket_No = basket_encoded "
      ],
      "execution_count": 205,
      "outputs": []
    },
    {
      "cell_type": "code",
      "metadata": {
        "id": "br2OqvZoraKk",
        "colab": {
          "base_uri": "https://localhost:8080/",
          "height": 204
        },
        "outputId": "5a6e8446-5446-4109-a0cc-1c2710e77d6c"
      },
      "source": [
        "# Building the model \n",
        "frq_items = apriori(basket_Yes, min_support = 0.05, use_colnames = True) \n",
        "  \n",
        "# Collecting the inferred rules in a dataframe \n",
        "rules = association_rules(frq_items, metric =\"lift\", min_threshold = 1) \n",
        "rules = rules.sort_values(['confidence', 'lift'], ascending =[False, False]) \n",
        "rules.head() "
      ],
      "execution_count": 206,
      "outputs": [
        {
          "output_type": "execute_result",
          "data": {
            "text/html": [
              "<div>\n",
              "<style scoped>\n",
              "    .dataframe tbody tr th:only-of-type {\n",
              "        vertical-align: middle;\n",
              "    }\n",
              "\n",
              "    .dataframe tbody tr th {\n",
              "        vertical-align: top;\n",
              "    }\n",
              "\n",
              "    .dataframe thead th {\n",
              "        text-align: right;\n",
              "    }\n",
              "</style>\n",
              "<table border=\"1\" class=\"dataframe\">\n",
              "  <thead>\n",
              "    <tr style=\"text-align: right;\">\n",
              "      <th></th>\n",
              "      <th>antecedents</th>\n",
              "      <th>consequents</th>\n",
              "      <th>antecedent support</th>\n",
              "      <th>consequent support</th>\n",
              "      <th>support</th>\n",
              "      <th>confidence</th>\n",
              "      <th>lift</th>\n",
              "      <th>leverage</th>\n",
              "      <th>conviction</th>\n",
              "    </tr>\n",
              "  </thead>\n",
              "  <tbody>\n",
              "    <tr>\n",
              "      <th>0</th>\n",
              "      <td>(Bad)</td>\n",
              "      <td>(Good)</td>\n",
              "      <td>1.0</td>\n",
              "      <td>1.0</td>\n",
              "      <td>1.0</td>\n",
              "      <td>1.0</td>\n",
              "      <td>1.0</td>\n",
              "      <td>0.0</td>\n",
              "      <td>inf</td>\n",
              "    </tr>\n",
              "    <tr>\n",
              "      <th>1</th>\n",
              "      <td>(Good)</td>\n",
              "      <td>(Bad)</td>\n",
              "      <td>1.0</td>\n",
              "      <td>1.0</td>\n",
              "      <td>1.0</td>\n",
              "      <td>1.0</td>\n",
              "      <td>1.0</td>\n",
              "      <td>0.0</td>\n",
              "      <td>inf</td>\n",
              "    </tr>\n",
              "    <tr>\n",
              "      <th>2</th>\n",
              "      <td>(Normal)</td>\n",
              "      <td>(Bad)</td>\n",
              "      <td>1.0</td>\n",
              "      <td>1.0</td>\n",
              "      <td>1.0</td>\n",
              "      <td>1.0</td>\n",
              "      <td>1.0</td>\n",
              "      <td>0.0</td>\n",
              "      <td>inf</td>\n",
              "    </tr>\n",
              "    <tr>\n",
              "      <th>3</th>\n",
              "      <td>(Bad)</td>\n",
              "      <td>(Normal)</td>\n",
              "      <td>1.0</td>\n",
              "      <td>1.0</td>\n",
              "      <td>1.0</td>\n",
              "      <td>1.0</td>\n",
              "      <td>1.0</td>\n",
              "      <td>0.0</td>\n",
              "      <td>inf</td>\n",
              "    </tr>\n",
              "    <tr>\n",
              "      <th>4</th>\n",
              "      <td>(Bad)</td>\n",
              "      <td>(Very bad)</td>\n",
              "      <td>1.0</td>\n",
              "      <td>1.0</td>\n",
              "      <td>1.0</td>\n",
              "      <td>1.0</td>\n",
              "      <td>1.0</td>\n",
              "      <td>0.0</td>\n",
              "      <td>inf</td>\n",
              "    </tr>\n",
              "  </tbody>\n",
              "</table>\n",
              "</div>"
            ],
            "text/plain": [
              "  antecedents consequents  antecedent support  ...  lift  leverage  conviction\n",
              "0       (Bad)      (Good)                 1.0  ...   1.0       0.0         inf\n",
              "1      (Good)       (Bad)                 1.0  ...   1.0       0.0         inf\n",
              "2    (Normal)       (Bad)                 1.0  ...   1.0       0.0         inf\n",
              "3       (Bad)    (Normal)                 1.0  ...   1.0       0.0         inf\n",
              "4       (Bad)  (Very bad)                 1.0  ...   1.0       0.0         inf\n",
              "\n",
              "[5 rows x 9 columns]"
            ]
          },
          "metadata": {
            "tags": []
          },
          "execution_count": 206
        }
      ]
    },
    {
      "cell_type": "code",
      "metadata": {
        "id": "BiHyiJY-raKk",
        "colab": {
          "base_uri": "https://localhost:8080/",
          "height": 204
        },
        "outputId": "be59cff3-119f-41a3-9c3a-12deeec02dea"
      },
      "source": [
        "# Building the model \n",
        "frq_items = apriori(basket_No, min_support = 0.05, use_colnames = True) \n",
        "  \n",
        "# Collecting the inferred rules in a dataframe \n",
        "rules = association_rules(frq_items, metric =\"lift\", min_threshold = 1) \n",
        "rules = rules.sort_values(['confidence', 'lift'], ascending =[False, False]) \n",
        "rules.head() "
      ],
      "execution_count": 207,
      "outputs": [
        {
          "output_type": "execute_result",
          "data": {
            "text/html": [
              "<div>\n",
              "<style scoped>\n",
              "    .dataframe tbody tr th:only-of-type {\n",
              "        vertical-align: middle;\n",
              "    }\n",
              "\n",
              "    .dataframe tbody tr th {\n",
              "        vertical-align: top;\n",
              "    }\n",
              "\n",
              "    .dataframe thead th {\n",
              "        text-align: right;\n",
              "    }\n",
              "</style>\n",
              "<table border=\"1\" class=\"dataframe\">\n",
              "  <thead>\n",
              "    <tr style=\"text-align: right;\">\n",
              "      <th></th>\n",
              "      <th>antecedents</th>\n",
              "      <th>consequents</th>\n",
              "      <th>antecedent support</th>\n",
              "      <th>consequent support</th>\n",
              "      <th>support</th>\n",
              "      <th>confidence</th>\n",
              "      <th>lift</th>\n",
              "      <th>leverage</th>\n",
              "      <th>conviction</th>\n",
              "    </tr>\n",
              "  </thead>\n",
              "  <tbody>\n",
              "    <tr>\n",
              "      <th>0</th>\n",
              "      <td>(Bad)</td>\n",
              "      <td>(Good)</td>\n",
              "      <td>1.0</td>\n",
              "      <td>1.0</td>\n",
              "      <td>1.0</td>\n",
              "      <td>1.0</td>\n",
              "      <td>1.0</td>\n",
              "      <td>0.0</td>\n",
              "      <td>inf</td>\n",
              "    </tr>\n",
              "    <tr>\n",
              "      <th>1</th>\n",
              "      <td>(Good)</td>\n",
              "      <td>(Bad)</td>\n",
              "      <td>1.0</td>\n",
              "      <td>1.0</td>\n",
              "      <td>1.0</td>\n",
              "      <td>1.0</td>\n",
              "      <td>1.0</td>\n",
              "      <td>0.0</td>\n",
              "      <td>inf</td>\n",
              "    </tr>\n",
              "    <tr>\n",
              "      <th>2</th>\n",
              "      <td>(Normal)</td>\n",
              "      <td>(Bad)</td>\n",
              "      <td>1.0</td>\n",
              "      <td>1.0</td>\n",
              "      <td>1.0</td>\n",
              "      <td>1.0</td>\n",
              "      <td>1.0</td>\n",
              "      <td>0.0</td>\n",
              "      <td>inf</td>\n",
              "    </tr>\n",
              "    <tr>\n",
              "      <th>3</th>\n",
              "      <td>(Bad)</td>\n",
              "      <td>(Normal)</td>\n",
              "      <td>1.0</td>\n",
              "      <td>1.0</td>\n",
              "      <td>1.0</td>\n",
              "      <td>1.0</td>\n",
              "      <td>1.0</td>\n",
              "      <td>0.0</td>\n",
              "      <td>inf</td>\n",
              "    </tr>\n",
              "    <tr>\n",
              "      <th>4</th>\n",
              "      <td>(Bad)</td>\n",
              "      <td>(Very bad)</td>\n",
              "      <td>1.0</td>\n",
              "      <td>1.0</td>\n",
              "      <td>1.0</td>\n",
              "      <td>1.0</td>\n",
              "      <td>1.0</td>\n",
              "      <td>0.0</td>\n",
              "      <td>inf</td>\n",
              "    </tr>\n",
              "  </tbody>\n",
              "</table>\n",
              "</div>"
            ],
            "text/plain": [
              "  antecedents consequents  antecedent support  ...  lift  leverage  conviction\n",
              "0       (Bad)      (Good)                 1.0  ...   1.0       0.0         inf\n",
              "1      (Good)       (Bad)                 1.0  ...   1.0       0.0         inf\n",
              "2    (Normal)       (Bad)                 1.0  ...   1.0       0.0         inf\n",
              "3       (Bad)    (Normal)                 1.0  ...   1.0       0.0         inf\n",
              "4       (Bad)  (Very bad)                 1.0  ...   1.0       0.0         inf\n",
              "\n",
              "[5 rows x 9 columns]"
            ]
          },
          "metadata": {
            "tags": []
          },
          "execution_count": 207
        }
      ]
    },
    {
      "cell_type": "markdown",
      "metadata": {
        "id": "xWUo7ym__Pt4"
      },
      "source": [
        "***The End***"
      ]
    }
  ]
}