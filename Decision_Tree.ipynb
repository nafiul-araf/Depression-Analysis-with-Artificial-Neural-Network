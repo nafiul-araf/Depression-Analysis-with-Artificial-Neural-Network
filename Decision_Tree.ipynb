{
  "nbformat": 4,
  "nbformat_minor": 0,
  "metadata": {
    "colab": {
      "name": "Decision_Tree.ipynb",
      "provenance": [],
      "authorship_tag": "ABX9TyPD9miy27xeqUhQkP6POyAV",
      "include_colab_link": true
    },
    "kernelspec": {
      "name": "python3",
      "display_name": "Python 3"
    }
  },
  "cells": [
    {
      "cell_type": "markdown",
      "metadata": {
        "id": "view-in-github",
        "colab_type": "text"
      },
      "source": [
        "<a href=\"https://colab.research.google.com/github/nafiul-araf/Lab-work/blob/main/Decision_Tree.ipynb\" target=\"_parent\"><img src=\"https://colab.research.google.com/assets/colab-badge.svg\" alt=\"Open In Colab\"/></a>"
      ]
    },
    {
      "cell_type": "markdown",
      "metadata": {
        "id": "IMWGkbVDFcpW"
      },
      "source": [
        "### ***Loading The Data***"
      ]
    },
    {
      "cell_type": "code",
      "metadata": {
        "colab": {
          "base_uri": "https://localhost:8080/"
        },
        "id": "B_289EgMFP2I",
        "outputId": "38cc4bd4-667a-4834-e394-a69804401da3"
      },
      "source": [
        "import pandas as pd\r\n",
        "import numpy as np\r\n",
        "\r\n",
        "from google.colab import drive\r\n",
        "drive.mount('/content/gdrive')"
      ],
      "execution_count": 1,
      "outputs": [
        {
          "output_type": "stream",
          "text": [
            "Mounted at /content/gdrive\n"
          ],
          "name": "stdout"
        }
      ]
    },
    {
      "cell_type": "code",
      "metadata": {
        "id": "GM7Sai3EFjUg"
      },
      "source": [
        "df=pd.read_csv('/content/gdrive/MyDrive/CSE-464(Project)/Copy of Depression and Happiness Factor Analysis.csv')"
      ],
      "execution_count": 2,
      "outputs": []
    },
    {
      "cell_type": "code",
      "metadata": {
        "colab": {
          "base_uri": "https://localhost:8080/"
        },
        "id": "WxQKLB0FF3a_",
        "outputId": "47fa4b26-4412-4e72-ef78-8de7dbdd3965"
      },
      "source": [
        "df.shape"
      ],
      "execution_count": 3,
      "outputs": [
        {
          "output_type": "execute_result",
          "data": {
            "text/plain": [
              "(920, 21)"
            ]
          },
          "metadata": {
            "tags": []
          },
          "execution_count": 3
        }
      ]
    },
    {
      "cell_type": "markdown",
      "metadata": {
        "id": "2HYT4PwpF8v8"
      },
      "source": [
        "### ***Data Preparation***"
      ]
    },
    {
      "cell_type": "code",
      "metadata": {
        "colab": {
          "base_uri": "https://localhost:8080/"
        },
        "id": "2QHBb6FXF5_u",
        "outputId": "2a1fb490-651f-4f39-b501-3f8a81d28957"
      },
      "source": [
        "df=df.drop(['Timestamp','Unnamed: 20'],axis=1)\r\n",
        "df.shape"
      ],
      "execution_count": 4,
      "outputs": [
        {
          "output_type": "execute_result",
          "data": {
            "text/plain": [
              "(920, 19)"
            ]
          },
          "metadata": {
            "tags": []
          },
          "execution_count": 4
        }
      ]
    },
    {
      "cell_type": "code",
      "metadata": {
        "id": "mcrkUVKlGJBX"
      },
      "source": [
        "df=df.set_index('Which year are you in?')\r\n",
        "#df.head()"
      ],
      "execution_count": 5,
      "outputs": []
    },
    {
      "cell_type": "code",
      "metadata": {
        "id": "OE6cUwWRGNTm"
      },
      "source": [
        "df_numeric=df.drop(df.iloc[:, [0,2,4,5,6,8,9,10,11,12,13,14,15,16]],axis=1)\r\n",
        "#df_numeric.head(1)"
      ],
      "execution_count": 6,
      "outputs": []
    },
    {
      "cell_type": "code",
      "metadata": {
        "id": "DPPXYW_CGS82"
      },
      "source": [
        "df_non_numeric=df.drop(df.iloc[:, [1,3,7,17]],axis=1)\r\n",
        "#df_non_numeric.head(1)"
      ],
      "execution_count": 7,
      "outputs": []
    },
    {
      "cell_type": "code",
      "metadata": {
        "id": "yod3tr0gGVGO"
      },
      "source": [
        "from sklearn.preprocessing import LabelEncoder\r\n",
        "le=LabelEncoder()"
      ],
      "execution_count": 8,
      "outputs": []
    },
    {
      "cell_type": "code",
      "metadata": {
        "id": "eBr2JJ7DGYjk"
      },
      "source": [
        "encode=df_non_numeric.apply(le.fit_transform)\r\n",
        "#encode.head()"
      ],
      "execution_count": 9,
      "outputs": []
    },
    {
      "cell_type": "code",
      "metadata": {
        "id": "ce_yUIkPGa8j"
      },
      "source": [
        "df_final=pd.concat([encode,df_numeric],axis=1)\r\n",
        "#df_final.head(3)"
      ],
      "execution_count": 10,
      "outputs": []
    },
    {
      "cell_type": "code",
      "metadata": {
        "colab": {
          "base_uri": "https://localhost:8080/"
        },
        "id": "SSJdpFDAGemG",
        "outputId": "6f9ac2ad-0ed9-4a90-f61f-9ea9dbe6cd0d"
      },
      "source": [
        "df_final.shape"
      ],
      "execution_count": 11,
      "outputs": [
        {
          "output_type": "execute_result",
          "data": {
            "text/plain": [
              "(920, 18)"
            ]
          },
          "metadata": {
            "tags": []
          },
          "execution_count": 11
        }
      ]
    },
    {
      "cell_type": "markdown",
      "metadata": {
        "id": "quKSt-uYGjOy"
      },
      "source": [
        "### ***Feature Selection***"
      ]
    },
    {
      "cell_type": "code",
      "metadata": {
        "id": "ScwgAwfIGgTf"
      },
      "source": [
        "X=df_final.drop('How are you feeling right now?',axis=1)\r\n",
        "y=df_final['How are you feeling right now?']"
      ],
      "execution_count": 12,
      "outputs": []
    },
    {
      "cell_type": "code",
      "metadata": {
        "id": "bQ1qJ9gkGswt"
      },
      "source": [
        "from sklearn.feature_selection import mutual_info_classif"
      ],
      "execution_count": 14,
      "outputs": []
    },
    {
      "cell_type": "code",
      "metadata": {
        "id": "wDlrKRjwGvBJ"
      },
      "source": [
        "imp=mutual_info_classif(X,y)"
      ],
      "execution_count": 15,
      "outputs": []
    },
    {
      "cell_type": "code",
      "metadata": {
        "id": "noN-bCpfG6Il"
      },
      "source": [
        "feat_imp=pd.Series(imp,df_final.columns[0:len(df_final.columns)-1])"
      ],
      "execution_count": 16,
      "outputs": []
    },
    {
      "cell_type": "code",
      "metadata": {
        "colab": {
          "base_uri": "https://localhost:8080/",
          "height": 458
        },
        "id": "sQpEYKvJHAPV",
        "outputId": "4867712b-6352-4f39-f364-e8210f3eacbd"
      },
      "source": [
        "from matplotlib import pyplot as plt\r\n",
        "%matplotlib inline\r\n",
        "\r\n",
        "feat_imp.sort_values(ascending=False).plot(kind='barh',color='teal',figsize=(20,10))\r\n",
        "plt.show()"
      ],
      "execution_count": 17,
      "outputs": [
        {
          "output_type": "display_data",
          "data": {
            "image/png": "[encoded data removed]",
            "text/plain": [
              "<Figure size 1440x720 with 1 Axes>"
            ]
          },
          "metadata": {
            "tags": [],
            "needs_background": "light"
          }
        }
      ]
    },
    {
      "cell_type": "code",
      "metadata": {
        "id": "sROxipu3HI0h"
      },
      "source": [
        "from sklearn.feature_selection import SelectPercentile"
      ],
      "execution_count": 18,
      "outputs": []
    },
    {
      "cell_type": "code",
      "metadata": {
        "id": "rqYDDq_OHRS4"
      },
      "source": [
        "select=SelectPercentile(mutual_info_classif,percentile=30)"
      ],
      "execution_count": 19,
      "outputs": []
    },
    {
      "cell_type": "code",
      "metadata": {
        "colab": {
          "base_uri": "https://localhost:8080/"
        },
        "id": "0CdRt6gyHXX1",
        "outputId": "fa63dc4c-4bcb-4b1c-e01e-be1edb847989"
      },
      "source": [
        "select.fit(X,y)"
      ],
      "execution_count": 20,
      "outputs": [
        {
          "output_type": "execute_result",
          "data": {
            "text/plain": [
              "SelectPercentile(percentile=30,\n",
              "                 score_func=<function mutual_info_classif at 0x7f5ab3605d90>)"
            ]
          },
          "metadata": {
            "tags": []
          },
          "execution_count": 20
        }
      ]
    },
    {
      "cell_type": "code",
      "metadata": {
        "colab": {
          "base_uri": "https://localhost:8080/"
        },
        "id": "SY1psuUdHcOJ",
        "outputId": "8c54f36f-a467-4285-f475-424067cd48d0"
      },
      "source": [
        "X.columns[select.get_support()]"
      ],
      "execution_count": 21,
      "outputs": [
        {
          "output_type": "execute_result",
          "data": {
            "text/plain": [
              "Index(['Your location ?',\n",
              "       'Are you feeling pressure in your study or work right now?',\n",
              "       'Are you satisfied with your meal today?',\n",
              "       'On a scale of 1-100, how would you express this feeling?',\n",
              "       'How long did you sleep last night?(in hours)'],\n",
              "      dtype='object')"
            ]
          },
          "metadata": {
            "tags": []
          },
          "execution_count": 21
        }
      ]
    },
    {
      "cell_type": "markdown",
      "metadata": {
        "id": "Ukrr5K1VHnpK"
      },
      "source": [
        "### ***Models***"
      ]
    },
    {
      "cell_type": "markdown",
      "metadata": {
        "id": "flyBeTcdYJ8y"
      },
      "source": [
        "Here I have used:\r\n",
        "*   Decision Tree Classifier with both 'Gini' (Default) and 'Entropy', respectively.\r\n",
        "*   Tuning The Best Parameter with both Grid Search CV and Randomized Search CV, respectively.\r\n",
        "\r\n"
      ]
    },
    {
      "cell_type": "code",
      "metadata": {
        "id": "vsVkyauoHiBa"
      },
      "source": [
        "X_new=df_final[['Your location ?','Are you feeling pressure in your study or work right now?','Are you satisfied with your meal today?','On a scale of 1-100, how would you express this feeling?','How long did you sleep last night?(in hours)']]\r\n",
        "y_new=df_final[['How are you feeling right now?']]"
      ],
      "execution_count": 22,
      "outputs": []
    },
    {
      "cell_type": "code",
      "metadata": {
        "id": "qWGKe8b6Hwk4"
      },
      "source": [
        "from sklearn.model_selection import train_test_split,cross_val_score,KFold"
      ],
      "execution_count": 23,
      "outputs": []
    },
    {
      "cell_type": "markdown",
      "metadata": {
        "id": "ftbEtglYH15U"
      },
      "source": [
        "***Decision Tree Classifier with Gini***"
      ]
    },
    {
      "cell_type": "code",
      "metadata": {
        "id": "OTSQYONSHyme"
      },
      "source": [
        "from sklearn.tree import DecisionTreeClassifier"
      ],
      "execution_count": 24,
      "outputs": []
    },
    {
      "cell_type": "code",
      "metadata": {
        "id": "l82EiOjTILGx"
      },
      "source": [
        "dt=DecisionTreeClassifier()"
      ],
      "execution_count": 25,
      "outputs": []
    },
    {
      "cell_type": "code",
      "metadata": {
        "id": "3BBtFuVgIQ9J"
      },
      "source": [
        "X_train,X_test,y_train,y_test=train_test_split(X_new,y_new,test_size=0.20,stratify=y_new,random_state=21)"
      ],
      "execution_count": 27,
      "outputs": []
    },
    {
      "cell_type": "code",
      "metadata": {
        "colab": {
          "base_uri": "https://localhost:8080/"
        },
        "id": "YCFgj_V-IXoY",
        "outputId": "4001468c-53a2-4b20-bb0b-7723f12a8c51"
      },
      "source": [
        "dt.fit(X_train,y_train)"
      ],
      "execution_count": 28,
      "outputs": [
        {
          "output_type": "execute_result",
          "data": {
            "text/plain": [
              "DecisionTreeClassifier(ccp_alpha=0.0, class_weight=None, criterion='gini',\n",
              "                       max_depth=None, max_features=None, max_leaf_nodes=None,\n",
              "                       min_impurity_decrease=0.0, min_impurity_split=None,\n",
              "                       min_samples_leaf=1, min_samples_split=2,\n",
              "                       min_weight_fraction_leaf=0.0, presort='deprecated',\n",
              "                       random_state=None, splitter='best')"
            ]
          },
          "metadata": {
            "tags": []
          },
          "execution_count": 28
        }
      ]
    },
    {
      "cell_type": "code",
      "metadata": {
        "id": "T6IkQxwlI-jD"
      },
      "source": [
        "y_pred_dt_train=dt.predict(X_train)"
      ],
      "execution_count": 29,
      "outputs": []
    },
    {
      "cell_type": "code",
      "metadata": {
        "id": "avBTXiv8JOBX"
      },
      "source": [
        "from sklearn.metrics import accuracy_score,confusion_matrix,classification_report"
      ],
      "execution_count": 30,
      "outputs": []
    },
    {
      "cell_type": "code",
      "metadata": {
        "colab": {
          "base_uri": "https://localhost:8080/"
        },
        "id": "GXghycmOJXrf",
        "outputId": "b6f8eeee-edf1-44f4-fe2e-ab5cd9836780"
      },
      "source": [
        "accuracy_score(y_train,y_pred_dt_train)"
      ],
      "execution_count": 31,
      "outputs": [
        {
          "output_type": "execute_result",
          "data": {
            "text/plain": [
              "0.9836956521739131"
            ]
          },
          "metadata": {
            "tags": []
          },
          "execution_count": 31
        }
      ]
    },
    {
      "cell_type": "code",
      "metadata": {
        "id": "L9yjyDwpJbVk"
      },
      "source": [
        "y_pred_dt_test=dt.predict(X_test)"
      ],
      "execution_count": 32,
      "outputs": []
    },
    {
      "cell_type": "code",
      "metadata": {
        "colab": {
          "base_uri": "https://localhost:8080/"
        },
        "id": "Lf6tH1dPJhE1",
        "outputId": "a5e229d6-1219-4830-e785-535ee3c45a0d"
      },
      "source": [
        "accuracy_score(y_test,y_pred_dt_test)"
      ],
      "execution_count": 33,
      "outputs": [
        {
          "output_type": "execute_result",
          "data": {
            "text/plain": [
              "0.9728260869565217"
            ]
          },
          "metadata": {
            "tags": []
          },
          "execution_count": 33
        }
      ]
    },
    {
      "cell_type": "code",
      "metadata": {
        "colab": {
          "base_uri": "https://localhost:8080/"
        },
        "id": "LPXdguZaJkui",
        "outputId": "fc6f7b46-5d69-42b7-8ced-ca718587e237"
      },
      "source": [
        "print(confusion_matrix(y_test,y_pred_dt_test))"
      ],
      "execution_count": 34,
      "outputs": [
        {
          "output_type": "stream",
          "text": [
            "[[33  0  0  0  0]\n",
            " [ 0 38  1  0  0]\n",
            " [ 0  3 33  0  0]\n",
            " [ 0  0  0 33  0]\n",
            " [ 0  1  0  0 42]]\n"
          ],
          "name": "stdout"
        }
      ]
    },
    {
      "cell_type": "code",
      "metadata": {
        "colab": {
          "base_uri": "https://localhost:8080/"
        },
        "id": "xEQzDcvgJuNj",
        "outputId": "6e23c99b-e496-4c2f-934c-6d07d31131ef"
      },
      "source": [
        "print(classification_report(y_test,y_pred_dt_test))"
      ],
      "execution_count": 35,
      "outputs": [
        {
          "output_type": "stream",
          "text": [
            "              precision    recall  f1-score   support\n",
            "\n",
            "           0       1.00      1.00      1.00        33\n",
            "           1       0.90      0.97      0.94        39\n",
            "           2       0.97      0.92      0.94        36\n",
            "           3       1.00      1.00      1.00        33\n",
            "           4       1.00      0.98      0.99        43\n",
            "\n",
            "    accuracy                           0.97       184\n",
            "   macro avg       0.98      0.97      0.97       184\n",
            "weighted avg       0.97      0.97      0.97       184\n",
            "\n"
          ],
          "name": "stdout"
        }
      ]
    },
    {
      "cell_type": "markdown",
      "metadata": {
        "id": "sZAfcqHmJ3oP"
      },
      "source": [
        "***Decision Tree Classifier with Entropy***"
      ]
    },
    {
      "cell_type": "code",
      "metadata": {
        "id": "yVuUsPb_J1W6"
      },
      "source": [
        "dt_en=DecisionTreeClassifier(criterion='entropy')"
      ],
      "execution_count": 36,
      "outputs": []
    },
    {
      "cell_type": "code",
      "metadata": {
        "colab": {
          "base_uri": "https://localhost:8080/"
        },
        "id": "oBv_hGbzKJsa",
        "outputId": "8b0cd0db-5f90-4d8c-9db6-edffee791e74"
      },
      "source": [
        "dt_en.fit(X_train,y_train)"
      ],
      "execution_count": 37,
      "outputs": [
        {
          "output_type": "execute_result",
          "data": {
            "text/plain": [
              "DecisionTreeClassifier(ccp_alpha=0.0, class_weight=None, criterion='entropy',\n",
              "                       max_depth=None, max_features=None, max_leaf_nodes=None,\n",
              "                       min_impurity_decrease=0.0, min_impurity_split=None,\n",
              "                       min_samples_leaf=1, min_samples_split=2,\n",
              "                       min_weight_fraction_leaf=0.0, presort='deprecated',\n",
              "                       random_state=None, splitter='best')"
            ]
          },
          "metadata": {
            "tags": []
          },
          "execution_count": 37
        }
      ]
    },
    {
      "cell_type": "code",
      "metadata": {
        "id": "cw6JO1GVKR7e"
      },
      "source": [
        "y_pred_dt_en_train=dt_en.predict(X_train)"
      ],
      "execution_count": 38,
      "outputs": []
    },
    {
      "cell_type": "code",
      "metadata": {
        "colab": {
          "base_uri": "https://localhost:8080/"
        },
        "id": "yN5CFlm_KZmc",
        "outputId": "4701c3d9-81c3-40ae-e7b0-6a411b0f7f55"
      },
      "source": [
        "accuracy_score(y_train,y_pred_dt_en_train)"
      ],
      "execution_count": 39,
      "outputs": [
        {
          "output_type": "execute_result",
          "data": {
            "text/plain": [
              "0.9836956521739131"
            ]
          },
          "metadata": {
            "tags": []
          },
          "execution_count": 39
        }
      ]
    },
    {
      "cell_type": "code",
      "metadata": {
        "id": "n40oIX4HKc2W"
      },
      "source": [
        "y_pred_dt_en_test=dt_en.predict(X_test)"
      ],
      "execution_count": 40,
      "outputs": []
    },
    {
      "cell_type": "code",
      "metadata": {
        "colab": {
          "base_uri": "https://localhost:8080/"
        },
        "id": "eypyROotKi5T",
        "outputId": "d5a66162-613c-456c-8b79-3986247caa59"
      },
      "source": [
        "accuracy_score(y_test,y_pred_dt_en_test)"
      ],
      "execution_count": 41,
      "outputs": [
        {
          "output_type": "execute_result",
          "data": {
            "text/plain": [
              "0.9782608695652174"
            ]
          },
          "metadata": {
            "tags": []
          },
          "execution_count": 41
        }
      ]
    },
    {
      "cell_type": "code",
      "metadata": {
        "colab": {
          "base_uri": "https://localhost:8080/"
        },
        "id": "V2s2X1xKKo4O",
        "outputId": "c3ada01b-856f-4710-8756-526ab78bd17b"
      },
      "source": [
        "print(confusion_matrix(y_test,y_pred_dt_en_test))"
      ],
      "execution_count": 42,
      "outputs": [
        {
          "output_type": "stream",
          "text": [
            "[[33  0  0  0  0]\n",
            " [ 0 39  0  0  0]\n",
            " [ 0  3 33  0  0]\n",
            " [ 0  0  0 33  0]\n",
            " [ 0  1  0  0 42]]\n"
          ],
          "name": "stdout"
        }
      ]
    },
    {
      "cell_type": "code",
      "metadata": {
        "colab": {
          "base_uri": "https://localhost:8080/"
        },
        "id": "e8780YVlKvPi",
        "outputId": "a57d6c7e-61ff-46c3-cf2f-4b2388b18316"
      },
      "source": [
        "print(classification_report(y_test,y_pred_dt_en_test))"
      ],
      "execution_count": 43,
      "outputs": [
        {
          "output_type": "stream",
          "text": [
            "              precision    recall  f1-score   support\n",
            "\n",
            "           0       1.00      1.00      1.00        33\n",
            "           1       0.91      1.00      0.95        39\n",
            "           2       1.00      0.92      0.96        36\n",
            "           3       1.00      1.00      1.00        33\n",
            "           4       1.00      0.98      0.99        43\n",
            "\n",
            "    accuracy                           0.98       184\n",
            "   macro avg       0.98      0.98      0.98       184\n",
            "weighted avg       0.98      0.98      0.98       184\n",
            "\n"
          ],
          "name": "stdout"
        }
      ]
    },
    {
      "cell_type": "markdown",
      "metadata": {
        "id": "xNxyx-MyK5qu"
      },
      "source": [
        "### ***Hyperparameter Tuning***"
      ]
    },
    {
      "cell_type": "markdown",
      "metadata": {
        "id": "EP0gSG-lNEAt"
      },
      "source": [
        "***Gridsearch CV***"
      ]
    },
    {
      "cell_type": "code",
      "metadata": {
        "id": "QVRTjel9K14Q"
      },
      "source": [
        "from sklearn.model_selection import GridSearchCV"
      ],
      "execution_count": 44,
      "outputs": []
    },
    {
      "cell_type": "code",
      "metadata": {
        "id": "MBgSqH3iNd-X"
      },
      "source": [
        "params={\r\n",
        "    'max_depth':[5,1],\r\n",
        "    'min_samples_leaf':[1,2],\r\n",
        "    'criterion':['gini','entropy']\r\n",
        "}"
      ],
      "execution_count": 59,
      "outputs": []
    },
    {
      "cell_type": "code",
      "metadata": {
        "id": "dPnjl7W4OAwz"
      },
      "source": [
        "tree_grid=DecisionTreeClassifier()"
      ],
      "execution_count": 60,
      "outputs": []
    },
    {
      "cell_type": "code",
      "metadata": {
        "id": "e_add5GZONEG"
      },
      "source": [
        "grid_cv=GridSearchCV(tree_grid,params,cv=KFold(n_splits=10,shuffle=True))"
      ],
      "execution_count": 61,
      "outputs": []
    },
    {
      "cell_type": "code",
      "metadata": {
        "colab": {
          "base_uri": "https://localhost:8080/"
        },
        "id": "Vty10zk4OhfF",
        "outputId": "f9be00a8-fd4b-4842-b4d8-164e837f5ac9"
      },
      "source": [
        "grid_cv.fit(X_new,y_new)"
      ],
      "execution_count": 62,
      "outputs": [
        {
          "output_type": "execute_result",
          "data": {
            "text/plain": [
              "GridSearchCV(cv=KFold(n_splits=10, random_state=None, shuffle=True),\n",
              "             error_score=nan,\n",
              "             estimator=DecisionTreeClassifier(ccp_alpha=0.0, class_weight=None,\n",
              "                                              criterion='gini', max_depth=None,\n",
              "                                              max_features=None,\n",
              "                                              max_leaf_nodes=None,\n",
              "                                              min_impurity_decrease=0.0,\n",
              "                                              min_impurity_split=None,\n",
              "                                              min_samples_leaf=1,\n",
              "                                              min_samples_split=2,\n",
              "                                              min_weight_fraction_leaf=0.0,\n",
              "                                              presort='deprecated',\n",
              "                                              random_state=None,\n",
              "                                              splitter='best'),\n",
              "             iid='deprecated', n_jobs=None,\n",
              "             param_grid={'criterion': ['gini', 'entropy'], 'max_depth': [5, 1],\n",
              "                         'min_samples_leaf': [1, 2]},\n",
              "             pre_dispatch='2*n_jobs', refit=True, return_train_score=False,\n",
              "             scoring=None, verbose=0)"
            ]
          },
          "metadata": {
            "tags": []
          },
          "execution_count": 62
        }
      ]
    },
    {
      "cell_type": "code",
      "metadata": {
        "colab": {
          "base_uri": "https://localhost:8080/"
        },
        "id": "GAGhKFpiPIhc",
        "outputId": "6c9fe98a-7c27-46da-9888-c0fff13d2b36"
      },
      "source": [
        "print(\"Tuned Decision Tree Parameters: {}\".format(grid_cv.best_params_))"
      ],
      "execution_count": 63,
      "outputs": [
        {
          "output_type": "stream",
          "text": [
            "Tuned Decision Tree Parameters: {'criterion': 'gini', 'max_depth': 5, 'min_samples_leaf': 2}\n"
          ],
          "name": "stdout"
        }
      ]
    },
    {
      "cell_type": "code",
      "metadata": {
        "colab": {
          "base_uri": "https://localhost:8080/"
        },
        "id": "m4ANj2xwPh3p",
        "outputId": "bd687cb3-c5bb-47dc-8cdd-a60d897ecd93"
      },
      "source": [
        "print(\"Best score is {}\".format(grid_cv.best_score_))"
      ],
      "execution_count": 64,
      "outputs": [
        {
          "output_type": "stream",
          "text": [
            "Best score is 0.9695652173913043\n"
          ],
          "name": "stdout"
        }
      ]
    },
    {
      "cell_type": "markdown",
      "metadata": {
        "id": "beoKHv1bPrAa"
      },
      "source": [
        "***Randomizedsearch CV***"
      ]
    },
    {
      "cell_type": "code",
      "metadata": {
        "id": "fKwaeVbYPnz8"
      },
      "source": [
        "from sklearn.model_selection import RandomizedSearchCV"
      ],
      "execution_count": 65,
      "outputs": []
    },
    {
      "cell_type": "code",
      "metadata": {
        "id": "1TEszWXVP7L0"
      },
      "source": [
        "params_random={\r\n",
        "    'max_depth':[5,1],\r\n",
        "    'min_samples_leaf':[1,2],\r\n",
        "    'criterion':['gini','entropy']\r\n",
        "}"
      ],
      "execution_count": 66,
      "outputs": []
    },
    {
      "cell_type": "code",
      "metadata": {
        "id": "onm-6AkcP2QH"
      },
      "source": [
        "tree_random=DecisionTreeClassifier()"
      ],
      "execution_count": 67,
      "outputs": []
    },
    {
      "cell_type": "code",
      "metadata": {
        "id": "Fe5I7eT0QDsp"
      },
      "source": [
        "random_cv=RandomizedSearchCV(tree_random,params_random,cv=KFold(n_splits=10,shuffle=True))"
      ],
      "execution_count": 68,
      "outputs": []
    },
    {
      "cell_type": "code",
      "metadata": {
        "colab": {
          "base_uri": "https://localhost:8080/"
        },
        "id": "k4FxswqTQQlB",
        "outputId": "859d2521-9115-46f2-84e4-3815739be21e"
      },
      "source": [
        "random_cv.fit(X_new,y_new)"
      ],
      "execution_count": 69,
      "outputs": [
        {
          "output_type": "stream",
          "text": [
            "/usr/local/lib/python3.6/dist-packages/sklearn/model_selection/_search.py:281: UserWarning: The total space of parameters 8 is smaller than n_iter=10. Running 8 iterations. For exhaustive searches, use GridSearchCV.\n",
            "  % (grid_size, self.n_iter, grid_size), UserWarning)\n"
          ],
          "name": "stderr"
        },
        {
          "output_type": "execute_result",
          "data": {
            "text/plain": [
              "RandomizedSearchCV(cv=KFold(n_splits=10, random_state=None, shuffle=True),\n",
              "                   error_score=nan,\n",
              "                   estimator=DecisionTreeClassifier(ccp_alpha=0.0,\n",
              "                                                    class_weight=None,\n",
              "                                                    criterion='gini',\n",
              "                                                    max_depth=None,\n",
              "                                                    max_features=None,\n",
              "                                                    max_leaf_nodes=None,\n",
              "                                                    min_impurity_decrease=0.0,\n",
              "                                                    min_impurity_split=None,\n",
              "                                                    min_samples_leaf=1,\n",
              "                                                    min_samples_split=2,\n",
              "                                                    min_weight_fraction_leaf=0.0,\n",
              "                                                    presort='deprecated',\n",
              "                                                    random_state=None,\n",
              "                                                    splitter='best'),\n",
              "                   iid='deprecated', n_iter=10, n_jobs=None,\n",
              "                   param_distributions={'criterion': ['gini', 'entropy'],\n",
              "                                        'max_depth': [5, 1],\n",
              "                                        'min_samples_leaf': [1, 2]},\n",
              "                   pre_dispatch='2*n_jobs', random_state=None, refit=True,\n",
              "                   return_train_score=False, scoring=None, verbose=0)"
            ]
          },
          "metadata": {
            "tags": []
          },
          "execution_count": 69
        }
      ]
    },
    {
      "cell_type": "code",
      "metadata": {
        "colab": {
          "base_uri": "https://localhost:8080/"
        },
        "id": "iZtzJ5r_QUEE",
        "outputId": "5def23cc-5705-4f1a-f2cd-65346c336633"
      },
      "source": [
        "print(\"Tuned Decision Tree Parameters: {}\".format(random_cv.best_params_))"
      ],
      "execution_count": 70,
      "outputs": [
        {
          "output_type": "stream",
          "text": [
            "Tuned Decision Tree Parameters: {'min_samples_leaf': 2, 'max_depth': 5, 'criterion': 'gini'}\n"
          ],
          "name": "stdout"
        }
      ]
    },
    {
      "cell_type": "code",
      "metadata": {
        "colab": {
          "base_uri": "https://localhost:8080/"
        },
        "id": "23sCMEK1Qaea",
        "outputId": "139e01d0-2370-45f9-8d9e-133de9a7f948"
      },
      "source": [
        "print(\"Best score is {}\".format(random_cv.best_score_))"
      ],
      "execution_count": 71,
      "outputs": [
        {
          "output_type": "stream",
          "text": [
            "Best score is 0.9695652173913045\n"
          ],
          "name": "stdout"
        }
      ]
    },
    {
      "cell_type": "markdown",
      "metadata": {
        "id": "cZ0r7dFAZxDU"
      },
      "source": [
        "### ***Summary***"
      ]
    },
    {
      "cell_type": "code",
      "metadata": {
        "colab": {
          "base_uri": "https://localhost:8080/"
        },
        "id": "NUmKIXFHQgQP",
        "outputId": "9ca762f6-7ca4-4761-9d27-58cff9984019"
      },
      "source": [
        "print(\"\\n All are looks almost same, no variation.\\n\")"
      ],
      "execution_count": 72,
      "outputs": [
        {
          "output_type": "stream",
          "text": [
            "\n",
            " All are looks almost same, no variation.\n",
            "\n"
          ],
          "name": "stdout"
        }
      ]
    }
  ]
}