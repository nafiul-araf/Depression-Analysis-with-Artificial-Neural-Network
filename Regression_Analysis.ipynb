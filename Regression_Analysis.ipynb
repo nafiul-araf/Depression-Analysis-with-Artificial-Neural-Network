{
  "nbformat": 4,
  "nbformat_minor": 0,
  "metadata": {
    "colab": {
      "name": "Regression_Analysis.ipynb",
      "provenance": [],
      "include_colab_link": true
    },
    "kernelspec": {
      "display_name": "Python 3",
      "language": "python",
      "name": "python3"
    },
    "language_info": {
      "codemirror_mode": {
        "name": "ipython",
        "version": 3
      },
      "file_extension": ".py",
      "mimetype": "text/x-python",
      "name": "python",
      "nbconvert_exporter": "python",
      "pygments_lexer": "ipython3",
      "version": "3.8.3"
    }
  },
  "cells": [
    {
      "cell_type": "markdown",
      "metadata": {
        "id": "view-in-github",
        "colab_type": "text"
      },
      "source": [
        "<a href=\"https://colab.research.google.com/github/nafiul-araf/Lab-work/blob/main/Regression_Analysis.ipynb\" target=\"_parent\"><img src=\"https://colab.research.google.com/assets/colab-badge.svg\" alt=\"Open In Colab\"/></a>"
      ]
    },
    {
      "cell_type": "markdown",
      "metadata": {
        "id": "mRSwP7kdh7no"
      },
      "source": [
        "### ***Loading The Data***"
      ]
    },
    {
      "cell_type": "code",
      "metadata": {
        "colab": {
          "base_uri": "https://localhost:8080/"
        },
        "id": "86qcznauh5Qg",
        "outputId": "b01633c8-6ed0-4296-a626-9043690a2ac6"
      },
      "source": [
        "import pandas as pd\n",
        "import numpy as np\n",
        "\n",
        "from google.colab import drive\n",
        "drive.mount('/content/gdrive')"
      ],
      "execution_count": null,
      "outputs": [
        {
          "output_type": "stream",
          "text": [
            "Drive already mounted at /content/gdrive; to attempt to forcibly remount, call drive.mount(\"/content/gdrive\", force_remount=True).\n"
          ],
          "name": "stdout"
        }
      ]
    },
    {
      "cell_type": "code",
      "metadata": {
        "id": "Xc8K0Q1t-TWR"
      },
      "source": [
        "df=pd.read_csv('/content/gdrive/MyDrive/Copy of Depression and Happiness Factor Analysis.csv')"
      ],
      "execution_count": null,
      "outputs": []
    },
    {
      "cell_type": "code",
      "metadata": {
        "colab": {
          "base_uri": "https://localhost:8080/",
          "height": 632
        },
        "id": "MuC_SoSV-lY5",
        "outputId": "4a50050c-51bf-4067-e702-2246cb3213e1"
      },
      "source": [
        "df.head()"
      ],
      "execution_count": null,
      "outputs": [
        {
          "output_type": "execute_result",
          "data": {
            "text/html": [
              "<div>\n",
              "<style scoped>\n",
              "    .dataframe tbody tr th:only-of-type {\n",
              "        vertical-align: middle;\n",
              "    }\n",
              "\n",
              "    .dataframe tbody tr th {\n",
              "        vertical-align: top;\n",
              "    }\n",
              "\n",
              "    .dataframe thead th {\n",
              "        text-align: right;\n",
              "    }\n",
              "</style>\n",
              "<table border=\"1\" class=\"dataframe\">\n",
              "  <thead>\n",
              "    <tr style=\"text-align: right;\">\n",
              "      <th></th>\n",
              "      <th>Timestamp</th>\n",
              "      <th>Which year are you in?</th>\n",
              "      <th>How are you feeling right now?</th>\n",
              "      <th>On a scale of 1-100, how would you express this feeling?</th>\n",
              "      <th>Gender</th>\n",
              "      <th>Age</th>\n",
              "      <th>Your location ?</th>\n",
              "      <th>Relationship status</th>\n",
              "      <th>Are you happy with your financial state?</th>\n",
              "      <th>How much have you succeeded to cope up with the environment of your educational institution?</th>\n",
              "      <th>Understanding with your family members?</th>\n",
              "      <th>Are you feeling pressure in your study or work right now?</th>\n",
              "      <th>Are you satisfied with your academic result?</th>\n",
              "      <th>Are you happy with your living place?</th>\n",
              "      <th>Who supports you when you are not succeeding in your academic life?</th>\n",
              "      <th>Have you used any social media within the last 6 hours?</th>\n",
              "      <th>Are you satisfied with your meal today?</th>\n",
              "      <th>Are you feeling sick/health issues today?</th>\n",
              "      <th>Have you done any recreational activity (sports, gaming, hobby etc.) today?</th>\n",
              "      <th>How long did you sleep last night?(in hours)</th>\n",
              "      <th>Unnamed: 20</th>\n",
              "    </tr>\n",
              "  </thead>\n",
              "  <tbody>\n",
              "    <tr>\n",
              "      <th>0</th>\n",
              "      <td>2020/11/23 4:38:26 PM GMT+6</td>\n",
              "      <td>4th year</td>\n",
              "      <td>Very good</td>\n",
              "      <td>100</td>\n",
              "      <td>Male</td>\n",
              "      <td>23</td>\n",
              "      <td>Home</td>\n",
              "      <td>Single</td>\n",
              "      <td>Yes</td>\n",
              "      <td>3</td>\n",
              "      <td>Good</td>\n",
              "      <td>Not applicable</td>\n",
              "      <td>No</td>\n",
              "      <td>Yes</td>\n",
              "      <td>Family</td>\n",
              "      <td>Yes</td>\n",
              "      <td>Yes</td>\n",
              "      <td>No</td>\n",
              "      <td>No</td>\n",
              "      <td>8</td>\n",
              "      <td>No</td>\n",
              "    </tr>\n",
              "    <tr>\n",
              "      <th>1</th>\n",
              "      <td>2020/11/23 4:44:04 PM GMT+6</td>\n",
              "      <td>4th year</td>\n",
              "      <td>Very good</td>\n",
              "      <td>95</td>\n",
              "      <td>Male</td>\n",
              "      <td>23</td>\n",
              "      <td>Home</td>\n",
              "      <td>Single</td>\n",
              "      <td>Yes</td>\n",
              "      <td>3</td>\n",
              "      <td>Good</td>\n",
              "      <td>Not applicable</td>\n",
              "      <td>No</td>\n",
              "      <td>Yes</td>\n",
              "      <td>Family</td>\n",
              "      <td>Yes</td>\n",
              "      <td>Yes</td>\n",
              "      <td>No</td>\n",
              "      <td>No</td>\n",
              "      <td>8</td>\n",
              "      <td>No</td>\n",
              "    </tr>\n",
              "    <tr>\n",
              "      <th>2</th>\n",
              "      <td>2020/11/23 5:08:44 PM GMT+6</td>\n",
              "      <td>4th year</td>\n",
              "      <td>Very good</td>\n",
              "      <td>98</td>\n",
              "      <td>Male</td>\n",
              "      <td>23</td>\n",
              "      <td>Home</td>\n",
              "      <td>Single</td>\n",
              "      <td>Yes</td>\n",
              "      <td>3</td>\n",
              "      <td>Good</td>\n",
              "      <td>Not applicable</td>\n",
              "      <td>No</td>\n",
              "      <td>Yes</td>\n",
              "      <td>Family</td>\n",
              "      <td>Yes</td>\n",
              "      <td>Yes</td>\n",
              "      <td>No</td>\n",
              "      <td>No</td>\n",
              "      <td>8</td>\n",
              "      <td>No</td>\n",
              "    </tr>\n",
              "    <tr>\n",
              "      <th>3</th>\n",
              "      <td>2020/11/23 5:24:54 PM GMT+6</td>\n",
              "      <td>4th year</td>\n",
              "      <td>Very good</td>\n",
              "      <td>100</td>\n",
              "      <td>Male</td>\n",
              "      <td>23</td>\n",
              "      <td>Home</td>\n",
              "      <td>Single</td>\n",
              "      <td>Yes</td>\n",
              "      <td>3</td>\n",
              "      <td>Good</td>\n",
              "      <td>Not applicable</td>\n",
              "      <td>No</td>\n",
              "      <td>Yes</td>\n",
              "      <td>Friends</td>\n",
              "      <td>Yes</td>\n",
              "      <td>Yes</td>\n",
              "      <td>No</td>\n",
              "      <td>No</td>\n",
              "      <td>8</td>\n",
              "      <td>No</td>\n",
              "    </tr>\n",
              "    <tr>\n",
              "      <th>4</th>\n",
              "      <td>2020/11/23 5:26:10 PM GMT+6</td>\n",
              "      <td>4th year</td>\n",
              "      <td>Very good</td>\n",
              "      <td>100</td>\n",
              "      <td>Male</td>\n",
              "      <td>23</td>\n",
              "      <td>Home</td>\n",
              "      <td>Single</td>\n",
              "      <td>Yes</td>\n",
              "      <td>3</td>\n",
              "      <td>Good</td>\n",
              "      <td>Not applicable</td>\n",
              "      <td>No</td>\n",
              "      <td>Yes</td>\n",
              "      <td>Friends</td>\n",
              "      <td>Yes</td>\n",
              "      <td>Yes</td>\n",
              "      <td>No</td>\n",
              "      <td>No</td>\n",
              "      <td>8</td>\n",
              "      <td>No</td>\n",
              "    </tr>\n",
              "  </tbody>\n",
              "</table>\n",
              "</div>"
            ],
            "text/plain": [
              "                     Timestamp  ... Unnamed: 20\n",
              "0  2020/11/23 4:38:26 PM GMT+6  ...          No\n",
              "1  2020/11/23 4:44:04 PM GMT+6  ...          No\n",
              "2  2020/11/23 5:08:44 PM GMT+6  ...          No\n",
              "3  2020/11/23 5:24:54 PM GMT+6  ...          No\n",
              "4  2020/11/23 5:26:10 PM GMT+6  ...          No\n",
              "\n",
              "[5 rows x 21 columns]"
            ]
          },
          "metadata": {
            "tags": []
          },
          "execution_count": 421
        }
      ]
    },
    {
      "cell_type": "code",
      "metadata": {
        "colab": {
          "base_uri": "https://localhost:8080/"
        },
        "id": "pD9HLmyK-nUr",
        "outputId": "b743f448-e2a2-4709-ede9-47370eb96a8f"
      },
      "source": [
        "df.shape"
      ],
      "execution_count": null,
      "outputs": [
        {
          "output_type": "execute_result",
          "data": {
            "text/plain": [
              "(920, 21)"
            ]
          },
          "metadata": {
            "tags": []
          },
          "execution_count": 422
        }
      ]
    },
    {
      "cell_type": "markdown",
      "metadata": {
        "id": "FQWqjUaEiRW5"
      },
      "source": [
        "### ***Feature Extraction for Preparing The Data***"
      ]
    },
    {
      "cell_type": "code",
      "metadata": {
        "colab": {
          "base_uri": "https://localhost:8080/"
        },
        "id": "PTntdYBE-o0k",
        "outputId": "2f8f96cb-e398-4a4a-c6df-75c16798abff"
      },
      "source": [
        "df=df.drop(['Timestamp','Unnamed: 20'],axis=1)\n",
        "df.shape"
      ],
      "execution_count": null,
      "outputs": [
        {
          "output_type": "execute_result",
          "data": {
            "text/plain": [
              "(920, 19)"
            ]
          },
          "metadata": {
            "tags": []
          },
          "execution_count": 423
        }
      ]
    },
    {
      "cell_type": "code",
      "metadata": {
        "colab": {
          "base_uri": "https://localhost:8080/",
          "height": 561
        },
        "id": "r1gELdoc-81z",
        "outputId": "a74d4b41-ce08-4c53-d2a1-6bb109cc042a"
      },
      "source": [
        "df=df.set_index('Which year are you in?')\n",
        "df.head()"
      ],
      "execution_count": null,
      "outputs": [
        {
          "output_type": "execute_result",
          "data": {
            "text/html": [
              "<div>\n",
              "<style scoped>\n",
              "    .dataframe tbody tr th:only-of-type {\n",
              "        vertical-align: middle;\n",
              "    }\n",
              "\n",
              "    .dataframe tbody tr th {\n",
              "        vertical-align: top;\n",
              "    }\n",
              "\n",
              "    .dataframe thead th {\n",
              "        text-align: right;\n",
              "    }\n",
              "</style>\n",
              "<table border=\"1\" class=\"dataframe\">\n",
              "  <thead>\n",
              "    <tr style=\"text-align: right;\">\n",
              "      <th></th>\n",
              "      <th>How are you feeling right now?</th>\n",
              "      <th>On a scale of 1-100, how would you express this feeling?</th>\n",
              "      <th>Gender</th>\n",
              "      <th>Age</th>\n",
              "      <th>Your location ?</th>\n",
              "      <th>Relationship status</th>\n",
              "      <th>Are you happy with your financial state?</th>\n",
              "      <th>How much have you succeeded to cope up with the environment of your educational institution?</th>\n",
              "      <th>Understanding with your family members?</th>\n",
              "      <th>Are you feeling pressure in your study or work right now?</th>\n",
              "      <th>Are you satisfied with your academic result?</th>\n",
              "      <th>Are you happy with your living place?</th>\n",
              "      <th>Who supports you when you are not succeeding in your academic life?</th>\n",
              "      <th>Have you used any social media within the last 6 hours?</th>\n",
              "      <th>Are you satisfied with your meal today?</th>\n",
              "      <th>Are you feeling sick/health issues today?</th>\n",
              "      <th>Have you done any recreational activity (sports, gaming, hobby etc.) today?</th>\n",
              "      <th>How long did you sleep last night?(in hours)</th>\n",
              "    </tr>\n",
              "    <tr>\n",
              "      <th>Which year are you in?</th>\n",
              "      <th></th>\n",
              "      <th></th>\n",
              "      <th></th>\n",
              "      <th></th>\n",
              "      <th></th>\n",
              "      <th></th>\n",
              "      <th></th>\n",
              "      <th></th>\n",
              "      <th></th>\n",
              "      <th></th>\n",
              "      <th></th>\n",
              "      <th></th>\n",
              "      <th></th>\n",
              "      <th></th>\n",
              "      <th></th>\n",
              "      <th></th>\n",
              "      <th></th>\n",
              "      <th></th>\n",
              "    </tr>\n",
              "  </thead>\n",
              "  <tbody>\n",
              "    <tr>\n",
              "      <th>4th year</th>\n",
              "      <td>Very good</td>\n",
              "      <td>100</td>\n",
              "      <td>Male</td>\n",
              "      <td>23</td>\n",
              "      <td>Home</td>\n",
              "      <td>Single</td>\n",
              "      <td>Yes</td>\n",
              "      <td>3</td>\n",
              "      <td>Good</td>\n",
              "      <td>Not applicable</td>\n",
              "      <td>No</td>\n",
              "      <td>Yes</td>\n",
              "      <td>Family</td>\n",
              "      <td>Yes</td>\n",
              "      <td>Yes</td>\n",
              "      <td>No</td>\n",
              "      <td>No</td>\n",
              "      <td>8</td>\n",
              "    </tr>\n",
              "    <tr>\n",
              "      <th>4th year</th>\n",
              "      <td>Very good</td>\n",
              "      <td>95</td>\n",
              "      <td>Male</td>\n",
              "      <td>23</td>\n",
              "      <td>Home</td>\n",
              "      <td>Single</td>\n",
              "      <td>Yes</td>\n",
              "      <td>3</td>\n",
              "      <td>Good</td>\n",
              "      <td>Not applicable</td>\n",
              "      <td>No</td>\n",
              "      <td>Yes</td>\n",
              "      <td>Family</td>\n",
              "      <td>Yes</td>\n",
              "      <td>Yes</td>\n",
              "      <td>No</td>\n",
              "      <td>No</td>\n",
              "      <td>8</td>\n",
              "    </tr>\n",
              "    <tr>\n",
              "      <th>4th year</th>\n",
              "      <td>Very good</td>\n",
              "      <td>98</td>\n",
              "      <td>Male</td>\n",
              "      <td>23</td>\n",
              "      <td>Home</td>\n",
              "      <td>Single</td>\n",
              "      <td>Yes</td>\n",
              "      <td>3</td>\n",
              "      <td>Good</td>\n",
              "      <td>Not applicable</td>\n",
              "      <td>No</td>\n",
              "      <td>Yes</td>\n",
              "      <td>Family</td>\n",
              "      <td>Yes</td>\n",
              "      <td>Yes</td>\n",
              "      <td>No</td>\n",
              "      <td>No</td>\n",
              "      <td>8</td>\n",
              "    </tr>\n",
              "    <tr>\n",
              "      <th>4th year</th>\n",
              "      <td>Very good</td>\n",
              "      <td>100</td>\n",
              "      <td>Male</td>\n",
              "      <td>23</td>\n",
              "      <td>Home</td>\n",
              "      <td>Single</td>\n",
              "      <td>Yes</td>\n",
              "      <td>3</td>\n",
              "      <td>Good</td>\n",
              "      <td>Not applicable</td>\n",
              "      <td>No</td>\n",
              "      <td>Yes</td>\n",
              "      <td>Friends</td>\n",
              "      <td>Yes</td>\n",
              "      <td>Yes</td>\n",
              "      <td>No</td>\n",
              "      <td>No</td>\n",
              "      <td>8</td>\n",
              "    </tr>\n",
              "    <tr>\n",
              "      <th>4th year</th>\n",
              "      <td>Very good</td>\n",
              "      <td>100</td>\n",
              "      <td>Male</td>\n",
              "      <td>23</td>\n",
              "      <td>Home</td>\n",
              "      <td>Single</td>\n",
              "      <td>Yes</td>\n",
              "      <td>3</td>\n",
              "      <td>Good</td>\n",
              "      <td>Not applicable</td>\n",
              "      <td>No</td>\n",
              "      <td>Yes</td>\n",
              "      <td>Friends</td>\n",
              "      <td>Yes</td>\n",
              "      <td>Yes</td>\n",
              "      <td>No</td>\n",
              "      <td>No</td>\n",
              "      <td>8</td>\n",
              "    </tr>\n",
              "  </tbody>\n",
              "</table>\n",
              "</div>"
            ],
            "text/plain": [
              "                       How are you feeling right now?  ...  How long did you sleep last night?(in hours)\n",
              "Which year are you in?                                 ...                                              \n",
              "4th year                                    Very good  ...                                             8\n",
              "4th year                                    Very good  ...                                             8\n",
              "4th year                                    Very good  ...                                             8\n",
              "4th year                                    Very good  ...                                             8\n",
              "4th year                                    Very good  ...                                             8\n",
              "\n",
              "[5 rows x 18 columns]"
            ]
          },
          "metadata": {
            "tags": []
          },
          "execution_count": 424
        }
      ]
    },
    {
      "cell_type": "code",
      "metadata": {
        "colab": {
          "base_uri": "https://localhost:8080/"
        },
        "id": "UO8Ig1rt_Gmm",
        "outputId": "43b9e9d4-c68e-4bef-d3ff-a26611f7b23b"
      },
      "source": [
        "df.isnull().sum()"
      ],
      "execution_count": null,
      "outputs": [
        {
          "output_type": "execute_result",
          "data": {
            "text/plain": [
              "How are you feeling right now?                                                                  0\n",
              "On a scale of 1-100, how would you express this feeling?                                        0\n",
              "Gender                                                                                          0\n",
              "Age                                                                                             0\n",
              "Your location ?                                                                                 0\n",
              "Relationship status                                                                             0\n",
              "Are you happy with your financial state?                                                        0\n",
              "How much have you succeeded to cope up with the environment of your educational institution?    0\n",
              "Understanding with your family members?                                                         0\n",
              "Are you feeling pressure in your study or work right now?                                       0\n",
              "Are you satisfied with your academic result?                                                    0\n",
              "Are you happy with your living place?                                                           0\n",
              "Who supports you when you are not succeeding in your academic life?                             0\n",
              "Have you used any social media within the last 6 hours?                                         0\n",
              "Are you satisfied with your meal today?                                                         0\n",
              "Are you feeling sick/health issues today?                                                       0\n",
              "Have you done any recreational activity (sports, gaming, hobby etc.) today?                     0\n",
              "How long did you sleep last night?(in hours)                                                    0\n",
              "dtype: int64"
            ]
          },
          "metadata": {
            "tags": []
          },
          "execution_count": 425
        }
      ]
    },
    {
      "cell_type": "code",
      "metadata": {
        "colab": {
          "base_uri": "https://localhost:8080/",
          "height": 369
        },
        "id": "SERtC3WV_iUb",
        "outputId": "f58a767c-c997-46d0-8d1e-10e3ca5f097a"
      },
      "source": [
        "df.head(1)"
      ],
      "execution_count": null,
      "outputs": [
        {
          "output_type": "execute_result",
          "data": {
            "text/html": [
              "<div>\n",
              "<style scoped>\n",
              "    .dataframe tbody tr th:only-of-type {\n",
              "        vertical-align: middle;\n",
              "    }\n",
              "\n",
              "    .dataframe tbody tr th {\n",
              "        vertical-align: top;\n",
              "    }\n",
              "\n",
              "    .dataframe thead th {\n",
              "        text-align: right;\n",
              "    }\n",
              "</style>\n",
              "<table border=\"1\" class=\"dataframe\">\n",
              "  <thead>\n",
              "    <tr style=\"text-align: right;\">\n",
              "      <th></th>\n",
              "      <th>How are you feeling right now?</th>\n",
              "      <th>On a scale of 1-100, how would you express this feeling?</th>\n",
              "      <th>Gender</th>\n",
              "      <th>Age</th>\n",
              "      <th>Your location ?</th>\n",
              "      <th>Relationship status</th>\n",
              "      <th>Are you happy with your financial state?</th>\n",
              "      <th>How much have you succeeded to cope up with the environment of your educational institution?</th>\n",
              "      <th>Understanding with your family members?</th>\n",
              "      <th>Are you feeling pressure in your study or work right now?</th>\n",
              "      <th>Are you satisfied with your academic result?</th>\n",
              "      <th>Are you happy with your living place?</th>\n",
              "      <th>Who supports you when you are not succeeding in your academic life?</th>\n",
              "      <th>Have you used any social media within the last 6 hours?</th>\n",
              "      <th>Are you satisfied with your meal today?</th>\n",
              "      <th>Are you feeling sick/health issues today?</th>\n",
              "      <th>Have you done any recreational activity (sports, gaming, hobby etc.) today?</th>\n",
              "      <th>How long did you sleep last night?(in hours)</th>\n",
              "    </tr>\n",
              "    <tr>\n",
              "      <th>Which year are you in?</th>\n",
              "      <th></th>\n",
              "      <th></th>\n",
              "      <th></th>\n",
              "      <th></th>\n",
              "      <th></th>\n",
              "      <th></th>\n",
              "      <th></th>\n",
              "      <th></th>\n",
              "      <th></th>\n",
              "      <th></th>\n",
              "      <th></th>\n",
              "      <th></th>\n",
              "      <th></th>\n",
              "      <th></th>\n",
              "      <th></th>\n",
              "      <th></th>\n",
              "      <th></th>\n",
              "      <th></th>\n",
              "    </tr>\n",
              "  </thead>\n",
              "  <tbody>\n",
              "    <tr>\n",
              "      <th>4th year</th>\n",
              "      <td>Very good</td>\n",
              "      <td>100</td>\n",
              "      <td>Male</td>\n",
              "      <td>23</td>\n",
              "      <td>Home</td>\n",
              "      <td>Single</td>\n",
              "      <td>Yes</td>\n",
              "      <td>3</td>\n",
              "      <td>Good</td>\n",
              "      <td>Not applicable</td>\n",
              "      <td>No</td>\n",
              "      <td>Yes</td>\n",
              "      <td>Family</td>\n",
              "      <td>Yes</td>\n",
              "      <td>Yes</td>\n",
              "      <td>No</td>\n",
              "      <td>No</td>\n",
              "      <td>8</td>\n",
              "    </tr>\n",
              "  </tbody>\n",
              "</table>\n",
              "</div>"
            ],
            "text/plain": [
              "                       How are you feeling right now?  ...  How long did you sleep last night?(in hours)\n",
              "Which year are you in?                                 ...                                              \n",
              "4th year                                    Very good  ...                                             8\n",
              "\n",
              "[1 rows x 18 columns]"
            ]
          },
          "metadata": {
            "tags": []
          },
          "execution_count": 426
        }
      ]
    },
    {
      "cell_type": "code",
      "metadata": {
        "colab": {
          "base_uri": "https://localhost:8080/"
        },
        "id": "X5Skrp6O_sWw",
        "outputId": "c74e93bf-ce58-4865-e235-5dff39ba74ed"
      },
      "source": [
        "df.shape"
      ],
      "execution_count": null,
      "outputs": [
        {
          "output_type": "execute_result",
          "data": {
            "text/plain": [
              "(920, 18)"
            ]
          },
          "metadata": {
            "tags": []
          },
          "execution_count": 427
        }
      ]
    },
    {
      "cell_type": "code",
      "metadata": {
        "colab": {
          "base_uri": "https://localhost:8080/",
          "height": 145
        },
        "id": "Vw3-N7xN_vfy",
        "outputId": "24a0ad0e-656b-4b4d-d267-b795990502ec"
      },
      "source": [
        "df_numeric=df.drop(df.iloc[:, [0,2,4,5,6,8,9,10,11,12,13,14,15,16]],axis=1)\n",
        "df_numeric.head(1)"
      ],
      "execution_count": null,
      "outputs": [
        {
          "output_type": "execute_result",
          "data": {
            "text/html": [
              "<div>\n",
              "<style scoped>\n",
              "    .dataframe tbody tr th:only-of-type {\n",
              "        vertical-align: middle;\n",
              "    }\n",
              "\n",
              "    .dataframe tbody tr th {\n",
              "        vertical-align: top;\n",
              "    }\n",
              "\n",
              "    .dataframe thead th {\n",
              "        text-align: right;\n",
              "    }\n",
              "</style>\n",
              "<table border=\"1\" class=\"dataframe\">\n",
              "  <thead>\n",
              "    <tr style=\"text-align: right;\">\n",
              "      <th></th>\n",
              "      <th>On a scale of 1-100, how would you express this feeling?</th>\n",
              "      <th>Age</th>\n",
              "      <th>How much have you succeeded to cope up with the environment of your educational institution?</th>\n",
              "      <th>How long did you sleep last night?(in hours)</th>\n",
              "    </tr>\n",
              "    <tr>\n",
              "      <th>Which year are you in?</th>\n",
              "      <th></th>\n",
              "      <th></th>\n",
              "      <th></th>\n",
              "      <th></th>\n",
              "    </tr>\n",
              "  </thead>\n",
              "  <tbody>\n",
              "    <tr>\n",
              "      <th>4th year</th>\n",
              "      <td>100</td>\n",
              "      <td>23</td>\n",
              "      <td>3</td>\n",
              "      <td>8</td>\n",
              "    </tr>\n",
              "  </tbody>\n",
              "</table>\n",
              "</div>"
            ],
            "text/plain": [
              "                        On a scale of 1-100, how would you express this feeling?  ...  How long did you sleep last night?(in hours)\n",
              "Which year are you in?                                                            ...                                              \n",
              "4th year                                                              100         ...                                             8\n",
              "\n",
              "[1 rows x 4 columns]"
            ]
          },
          "metadata": {
            "tags": []
          },
          "execution_count": 428
        }
      ]
    },
    {
      "cell_type": "code",
      "metadata": {
        "colab": {
          "base_uri": "https://localhost:8080/",
          "height": 349
        },
        "id": "2TD1VcjnBKz3",
        "outputId": "bf6da9fc-9370-4c58-8e26-051cffcffbbe"
      },
      "source": [
        "df_non_numeric=df.drop(df.iloc[:, [1,3,7,17]],axis=1)\n",
        "df_non_numeric.head(1)"
      ],
      "execution_count": null,
      "outputs": [
        {
          "output_type": "execute_result",
          "data": {
            "text/html": [
              "<div>\n",
              "<style scoped>\n",
              "    .dataframe tbody tr th:only-of-type {\n",
              "        vertical-align: middle;\n",
              "    }\n",
              "\n",
              "    .dataframe tbody tr th {\n",
              "        vertical-align: top;\n",
              "    }\n",
              "\n",
              "    .dataframe thead th {\n",
              "        text-align: right;\n",
              "    }\n",
              "</style>\n",
              "<table border=\"1\" class=\"dataframe\">\n",
              "  <thead>\n",
              "    <tr style=\"text-align: right;\">\n",
              "      <th></th>\n",
              "      <th>How are you feeling right now?</th>\n",
              "      <th>Gender</th>\n",
              "      <th>Your location ?</th>\n",
              "      <th>Relationship status</th>\n",
              "      <th>Are you happy with your financial state?</th>\n",
              "      <th>Understanding with your family members?</th>\n",
              "      <th>Are you feeling pressure in your study or work right now?</th>\n",
              "      <th>Are you satisfied with your academic result?</th>\n",
              "      <th>Are you happy with your living place?</th>\n",
              "      <th>Who supports you when you are not succeeding in your academic life?</th>\n",
              "      <th>Have you used any social media within the last 6 hours?</th>\n",
              "      <th>Are you satisfied with your meal today?</th>\n",
              "      <th>Are you feeling sick/health issues today?</th>\n",
              "      <th>Have you done any recreational activity (sports, gaming, hobby etc.) today?</th>\n",
              "    </tr>\n",
              "    <tr>\n",
              "      <th>Which year are you in?</th>\n",
              "      <th></th>\n",
              "      <th></th>\n",
              "      <th></th>\n",
              "      <th></th>\n",
              "      <th></th>\n",
              "      <th></th>\n",
              "      <th></th>\n",
              "      <th></th>\n",
              "      <th></th>\n",
              "      <th></th>\n",
              "      <th></th>\n",
              "      <th></th>\n",
              "      <th></th>\n",
              "      <th></th>\n",
              "    </tr>\n",
              "  </thead>\n",
              "  <tbody>\n",
              "    <tr>\n",
              "      <th>4th year</th>\n",
              "      <td>Very good</td>\n",
              "      <td>Male</td>\n",
              "      <td>Home</td>\n",
              "      <td>Single</td>\n",
              "      <td>Yes</td>\n",
              "      <td>Good</td>\n",
              "      <td>Not applicable</td>\n",
              "      <td>No</td>\n",
              "      <td>Yes</td>\n",
              "      <td>Family</td>\n",
              "      <td>Yes</td>\n",
              "      <td>Yes</td>\n",
              "      <td>No</td>\n",
              "      <td>No</td>\n",
              "    </tr>\n",
              "  </tbody>\n",
              "</table>\n",
              "</div>"
            ],
            "text/plain": [
              "                       How are you feeling right now?  ... Have you done any recreational activity (sports, gaming, hobby etc.) today?\n",
              "Which year are you in?                                 ...                                                                            \n",
              "4th year                                    Very good  ...                                                 No                         \n",
              "\n",
              "[1 rows x 14 columns]"
            ]
          },
          "metadata": {
            "tags": []
          },
          "execution_count": 429
        }
      ]
    },
    {
      "cell_type": "code",
      "metadata": {
        "id": "xx1s1jKyBaWG"
      },
      "source": [
        "from sklearn.preprocessing import LabelEncoder\n",
        "le=LabelEncoder()"
      ],
      "execution_count": null,
      "outputs": []
    },
    {
      "cell_type": "code",
      "metadata": {
        "colab": {
          "base_uri": "https://localhost:8080/",
          "height": 541
        },
        "id": "-1BM6_yoBlxa",
        "outputId": "02e7d81a-6ae1-4f7d-c724-b6d2b1dee15e"
      },
      "source": [
        "encode=df_non_numeric.apply(le.fit_transform)\n",
        "encode.head()"
      ],
      "execution_count": null,
      "outputs": [
        {
          "output_type": "execute_result",
          "data": {
            "text/html": [
              "<div>\n",
              "<style scoped>\n",
              "    .dataframe tbody tr th:only-of-type {\n",
              "        vertical-align: middle;\n",
              "    }\n",
              "\n",
              "    .dataframe tbody tr th {\n",
              "        vertical-align: top;\n",
              "    }\n",
              "\n",
              "    .dataframe thead th {\n",
              "        text-align: right;\n",
              "    }\n",
              "</style>\n",
              "<table border=\"1\" class=\"dataframe\">\n",
              "  <thead>\n",
              "    <tr style=\"text-align: right;\">\n",
              "      <th></th>\n",
              "      <th>How are you feeling right now?</th>\n",
              "      <th>Gender</th>\n",
              "      <th>Your location ?</th>\n",
              "      <th>Relationship status</th>\n",
              "      <th>Are you happy with your financial state?</th>\n",
              "      <th>Understanding with your family members?</th>\n",
              "      <th>Are you feeling pressure in your study or work right now?</th>\n",
              "      <th>Are you satisfied with your academic result?</th>\n",
              "      <th>Are you happy with your living place?</th>\n",
              "      <th>Who supports you when you are not succeeding in your academic life?</th>\n",
              "      <th>Have you used any social media within the last 6 hours?</th>\n",
              "      <th>Are you satisfied with your meal today?</th>\n",
              "      <th>Are you feeling sick/health issues today?</th>\n",
              "      <th>Have you done any recreational activity (sports, gaming, hobby etc.) today?</th>\n",
              "    </tr>\n",
              "    <tr>\n",
              "      <th>Which year are you in?</th>\n",
              "      <th></th>\n",
              "      <th></th>\n",
              "      <th></th>\n",
              "      <th></th>\n",
              "      <th></th>\n",
              "      <th></th>\n",
              "      <th></th>\n",
              "      <th></th>\n",
              "      <th></th>\n",
              "      <th></th>\n",
              "      <th></th>\n",
              "      <th></th>\n",
              "      <th></th>\n",
              "      <th></th>\n",
              "    </tr>\n",
              "  </thead>\n",
              "  <tbody>\n",
              "    <tr>\n",
              "      <th>4th year</th>\n",
              "      <td>4</td>\n",
              "      <td>0</td>\n",
              "      <td>2</td>\n",
              "      <td>0</td>\n",
              "      <td>0</td>\n",
              "      <td>0</td>\n",
              "      <td>1</td>\n",
              "      <td>0</td>\n",
              "      <td>2</td>\n",
              "      <td>0</td>\n",
              "      <td>1</td>\n",
              "      <td>2</td>\n",
              "      <td>0</td>\n",
              "      <td>0</td>\n",
              "    </tr>\n",
              "    <tr>\n",
              "      <th>4th year</th>\n",
              "      <td>4</td>\n",
              "      <td>0</td>\n",
              "      <td>2</td>\n",
              "      <td>0</td>\n",
              "      <td>0</td>\n",
              "      <td>0</td>\n",
              "      <td>1</td>\n",
              "      <td>0</td>\n",
              "      <td>2</td>\n",
              "      <td>0</td>\n",
              "      <td>1</td>\n",
              "      <td>2</td>\n",
              "      <td>0</td>\n",
              "      <td>0</td>\n",
              "    </tr>\n",
              "    <tr>\n",
              "      <th>4th year</th>\n",
              "      <td>4</td>\n",
              "      <td>0</td>\n",
              "      <td>2</td>\n",
              "      <td>0</td>\n",
              "      <td>0</td>\n",
              "      <td>0</td>\n",
              "      <td>1</td>\n",
              "      <td>0</td>\n",
              "      <td>2</td>\n",
              "      <td>0</td>\n",
              "      <td>1</td>\n",
              "      <td>2</td>\n",
              "      <td>0</td>\n",
              "      <td>0</td>\n",
              "    </tr>\n",
              "    <tr>\n",
              "      <th>4th year</th>\n",
              "      <td>4</td>\n",
              "      <td>0</td>\n",
              "      <td>2</td>\n",
              "      <td>0</td>\n",
              "      <td>0</td>\n",
              "      <td>0</td>\n",
              "      <td>1</td>\n",
              "      <td>0</td>\n",
              "      <td>2</td>\n",
              "      <td>1</td>\n",
              "      <td>1</td>\n",
              "      <td>2</td>\n",
              "      <td>0</td>\n",
              "      <td>0</td>\n",
              "    </tr>\n",
              "    <tr>\n",
              "      <th>4th year</th>\n",
              "      <td>4</td>\n",
              "      <td>0</td>\n",
              "      <td>2</td>\n",
              "      <td>0</td>\n",
              "      <td>0</td>\n",
              "      <td>0</td>\n",
              "      <td>1</td>\n",
              "      <td>0</td>\n",
              "      <td>2</td>\n",
              "      <td>1</td>\n",
              "      <td>1</td>\n",
              "      <td>2</td>\n",
              "      <td>0</td>\n",
              "      <td>0</td>\n",
              "    </tr>\n",
              "  </tbody>\n",
              "</table>\n",
              "</div>"
            ],
            "text/plain": [
              "                        How are you feeling right now?  ...  Have you done any recreational activity (sports, gaming, hobby etc.) today?\n",
              "Which year are you in?                                  ...                                                                             \n",
              "4th year                                             4  ...                                                  0                          \n",
              "4th year                                             4  ...                                                  0                          \n",
              "4th year                                             4  ...                                                  0                          \n",
              "4th year                                             4  ...                                                  0                          \n",
              "4th year                                             4  ...                                                  0                          \n",
              "\n",
              "[5 rows x 14 columns]"
            ]
          },
          "metadata": {
            "tags": []
          },
          "execution_count": 431
        }
      ]
    },
    {
      "cell_type": "code",
      "metadata": {
        "colab": {
          "base_uri": "https://localhost:8080/",
          "height": 465
        },
        "id": "BFo1-rKbBta1",
        "outputId": "119b4050-8b1f-4231-dcbe-a5956529de4e"
      },
      "source": [
        "df_final=pd.concat([encode,df_numeric],axis=1)\n",
        "df_final.head(3)"
      ],
      "execution_count": null,
      "outputs": [
        {
          "output_type": "execute_result",
          "data": {
            "text/html": [
              "<div>\n",
              "<style scoped>\n",
              "    .dataframe tbody tr th:only-of-type {\n",
              "        vertical-align: middle;\n",
              "    }\n",
              "\n",
              "    .dataframe tbody tr th {\n",
              "        vertical-align: top;\n",
              "    }\n",
              "\n",
              "    .dataframe thead th {\n",
              "        text-align: right;\n",
              "    }\n",
              "</style>\n",
              "<table border=\"1\" class=\"dataframe\">\n",
              "  <thead>\n",
              "    <tr style=\"text-align: right;\">\n",
              "      <th></th>\n",
              "      <th>How are you feeling right now?</th>\n",
              "      <th>Gender</th>\n",
              "      <th>Your location ?</th>\n",
              "      <th>Relationship status</th>\n",
              "      <th>Are you happy with your financial state?</th>\n",
              "      <th>Understanding with your family members?</th>\n",
              "      <th>Are you feeling pressure in your study or work right now?</th>\n",
              "      <th>Are you satisfied with your academic result?</th>\n",
              "      <th>Are you happy with your living place?</th>\n",
              "      <th>Who supports you when you are not succeeding in your academic life?</th>\n",
              "      <th>Have you used any social media within the last 6 hours?</th>\n",
              "      <th>Are you satisfied with your meal today?</th>\n",
              "      <th>Are you feeling sick/health issues today?</th>\n",
              "      <th>Have you done any recreational activity (sports, gaming, hobby etc.) today?</th>\n",
              "      <th>On a scale of 1-100, how would you express this feeling?</th>\n",
              "      <th>Age</th>\n",
              "      <th>How much have you succeeded to cope up with the environment of your educational institution?</th>\n",
              "      <th>How long did you sleep last night?(in hours)</th>\n",
              "    </tr>\n",
              "    <tr>\n",
              "      <th>Which year are you in?</th>\n",
              "      <th></th>\n",
              "      <th></th>\n",
              "      <th></th>\n",
              "      <th></th>\n",
              "      <th></th>\n",
              "      <th></th>\n",
              "      <th></th>\n",
              "      <th></th>\n",
              "      <th></th>\n",
              "      <th></th>\n",
              "      <th></th>\n",
              "      <th></th>\n",
              "      <th></th>\n",
              "      <th></th>\n",
              "      <th></th>\n",
              "      <th></th>\n",
              "      <th></th>\n",
              "      <th></th>\n",
              "    </tr>\n",
              "  </thead>\n",
              "  <tbody>\n",
              "    <tr>\n",
              "      <th>4th year</th>\n",
              "      <td>4</td>\n",
              "      <td>0</td>\n",
              "      <td>2</td>\n",
              "      <td>0</td>\n",
              "      <td>0</td>\n",
              "      <td>0</td>\n",
              "      <td>1</td>\n",
              "      <td>0</td>\n",
              "      <td>2</td>\n",
              "      <td>0</td>\n",
              "      <td>1</td>\n",
              "      <td>2</td>\n",
              "      <td>0</td>\n",
              "      <td>0</td>\n",
              "      <td>100</td>\n",
              "      <td>23</td>\n",
              "      <td>3</td>\n",
              "      <td>8</td>\n",
              "    </tr>\n",
              "    <tr>\n",
              "      <th>4th year</th>\n",
              "      <td>4</td>\n",
              "      <td>0</td>\n",
              "      <td>2</td>\n",
              "      <td>0</td>\n",
              "      <td>0</td>\n",
              "      <td>0</td>\n",
              "      <td>1</td>\n",
              "      <td>0</td>\n",
              "      <td>2</td>\n",
              "      <td>0</td>\n",
              "      <td>1</td>\n",
              "      <td>2</td>\n",
              "      <td>0</td>\n",
              "      <td>0</td>\n",
              "      <td>95</td>\n",
              "      <td>23</td>\n",
              "      <td>3</td>\n",
              "      <td>8</td>\n",
              "    </tr>\n",
              "    <tr>\n",
              "      <th>4th year</th>\n",
              "      <td>4</td>\n",
              "      <td>0</td>\n",
              "      <td>2</td>\n",
              "      <td>0</td>\n",
              "      <td>0</td>\n",
              "      <td>0</td>\n",
              "      <td>1</td>\n",
              "      <td>0</td>\n",
              "      <td>2</td>\n",
              "      <td>0</td>\n",
              "      <td>1</td>\n",
              "      <td>2</td>\n",
              "      <td>0</td>\n",
              "      <td>0</td>\n",
              "      <td>98</td>\n",
              "      <td>23</td>\n",
              "      <td>3</td>\n",
              "      <td>8</td>\n",
              "    </tr>\n",
              "  </tbody>\n",
              "</table>\n",
              "</div>"
            ],
            "text/plain": [
              "                        How are you feeling right now?  ...  How long did you sleep last night?(in hours)\n",
              "Which year are you in?                                  ...                                              \n",
              "4th year                                             4  ...                                             8\n",
              "4th year                                             4  ...                                             8\n",
              "4th year                                             4  ...                                             8\n",
              "\n",
              "[3 rows x 18 columns]"
            ]
          },
          "metadata": {
            "tags": []
          },
          "execution_count": 432
        }
      ]
    },
    {
      "cell_type": "code",
      "metadata": {
        "colab": {
          "base_uri": "https://localhost:8080/"
        },
        "id": "4w9XGnKBCD6T",
        "outputId": "f2fd728a-95c1-4d6b-9448-e5f4b677adb9"
      },
      "source": [
        "df_final.shape"
      ],
      "execution_count": null,
      "outputs": [
        {
          "output_type": "execute_result",
          "data": {
            "text/plain": [
              "(920, 18)"
            ]
          },
          "metadata": {
            "tags": []
          },
          "execution_count": 433
        }
      ]
    },
    {
      "cell_type": "markdown",
      "metadata": {
        "id": "CZMBqAaIjFCN"
      },
      "source": [
        "### ***Feature Selection***"
      ]
    },
    {
      "cell_type": "code",
      "metadata": {
        "id": "w-djLq0FCGqr"
      },
      "source": [
        "X=df_final.drop('How are you feeling right now?',axis=1)\n",
        "y=df_final['How are you feeling right now?']"
      ],
      "execution_count": null,
      "outputs": []
    },
    {
      "cell_type": "code",
      "metadata": {
        "id": "g6qVj2u2CdIX"
      },
      "source": [
        "from sklearn.feature_selection import mutual_info_regression"
      ],
      "execution_count": null,
      "outputs": []
    },
    {
      "cell_type": "code",
      "metadata": {
        "id": "O5HxMy9lCk9w"
      },
      "source": [
        "importance=mutual_info_regression(X,y)"
      ],
      "execution_count": null,
      "outputs": []
    },
    {
      "cell_type": "code",
      "metadata": {
        "id": "BXqIn_WlCqyq"
      },
      "source": [
        "feat_imp=pd.Series(importance,df_final.columns[0:len(df_final.columns)-1])"
      ],
      "execution_count": null,
      "outputs": []
    },
    {
      "cell_type": "code",
      "metadata": {
        "id": "76QWcrmtC2D0"
      },
      "source": [
        "from matplotlib import pyplot as plt\n",
        "%matplotlib inline"
      ],
      "execution_count": null,
      "outputs": []
    },
    {
      "cell_type": "code",
      "metadata": {
        "colab": {
          "base_uri": "https://localhost:8080/",
          "height": 458
        },
        "id": "dK2PHEnnCxNE",
        "outputId": "4c4417eb-33b2-4004-f800-bc25b31b17b5"
      },
      "source": [
        "feat_imp.sort_values(ascending=False).plot(kind='barh',color='teal',figsize=(20,10))\n",
        "plt.show()"
      ],
      "execution_count": null,
      "outputs": [
        {
          "output_type": "display_data",
          "data": {
            "image/png": "[encoded data removed]",
            "text/plain": [
              "<Figure size 1440x720 with 1 Axes>"
            ]
          },
          "metadata": {
            "tags": [],
            "needs_background": "light"
          }
        }
      ]
    },
    {
      "cell_type": "code",
      "metadata": {
        "id": "MKpjb2JkDMFX"
      },
      "source": [
        "from sklearn.feature_selection import SelectPercentile"
      ],
      "execution_count": null,
      "outputs": []
    },
    {
      "cell_type": "code",
      "metadata": {
        "id": "VhQmKUDMDVad"
      },
      "source": [
        "selection=SelectPercentile(mutual_info_regression,percentile=30)"
      ],
      "execution_count": null,
      "outputs": []
    },
    {
      "cell_type": "code",
      "metadata": {
        "colab": {
          "base_uri": "https://localhost:8080/"
        },
        "id": "qkq4rlmyDgLh",
        "outputId": "d48d4ef0-3126-4264-9b83-f7f670010673"
      },
      "source": [
        "selection.fit(X,y)"
      ],
      "execution_count": null,
      "outputs": [
        {
          "output_type": "execute_result",
          "data": {
            "text/plain": [
              "SelectPercentile(percentile=30,\n",
              "                 score_func=<function mutual_info_regression at 0x7febb1bf19d8>)"
            ]
          },
          "metadata": {
            "tags": []
          },
          "execution_count": 442
        }
      ]
    },
    {
      "cell_type": "code",
      "metadata": {
        "colab": {
          "base_uri": "https://localhost:8080/"
        },
        "id": "cRPbSPo0DkgC",
        "outputId": "d23d116f-9dc8-458b-d487-8a0402135769"
      },
      "source": [
        "X.columns[selection.get_support()]"
      ],
      "execution_count": null,
      "outputs": [
        {
          "output_type": "execute_result",
          "data": {
            "text/plain": [
              "Index(['Your location ?',\n",
              "       'Are you feeling pressure in your study or work right now?',\n",
              "       'Are you satisfied with your meal today?',\n",
              "       'On a scale of 1-100, how would you express this feeling?',\n",
              "       'How long did you sleep last night?(in hours)'],\n",
              "      dtype='object')"
            ]
          },
          "metadata": {
            "tags": []
          },
          "execution_count": 443
        }
      ]
    },
    {
      "cell_type": "markdown",
      "metadata": {
        "id": "N3LRbn2yjNTg"
      },
      "source": [
        "### ***Regresson Models***"
      ]
    },
    {
      "cell_type": "markdown",
      "metadata": {
        "id": "1gpWK7A2jZcC"
      },
      "source": [
        "Here I have used: \n",
        "\n",
        "*   Linear Regression (Multiple)\n",
        "*   Decision Tree Regressor\n",
        "*   Lasso\n",
        "*   Ridge\n",
        "*   Polynominal Regression\n",
        "*   Random Forest Regressor\n",
        "\n"
      ]
    },
    {
      "cell_type": "code",
      "metadata": {
        "id": "oTLT_bGqDxGV"
      },
      "source": [
        "X_new=df_final[['Your location ?','Are you feeling pressure in your study or work right now?','Are you satisfied with your meal today?','On a scale of 1-100, how would you express this feeling?','How long did you sleep last night?(in hours)']]\n",
        "y_new=df_final[['How are you feeling right now?']]"
      ],
      "execution_count": null,
      "outputs": []
    },
    {
      "cell_type": "code",
      "metadata": {
        "id": "9kcrKIK2FP0h"
      },
      "source": [
        "from sklearn.model_selection import train_test_split,cross_val_score,KFold"
      ],
      "execution_count": null,
      "outputs": []
    },
    {
      "cell_type": "markdown",
      "metadata": {
        "id": "HAFNNsjjkgJB"
      },
      "source": [
        "***Multiple Linear Regression***"
      ]
    },
    {
      "cell_type": "code",
      "metadata": {
        "id": "ZoxoO-MZF3Ly"
      },
      "source": [
        "from sklearn.linear_model import LinearRegression"
      ],
      "execution_count": null,
      "outputs": []
    },
    {
      "cell_type": "code",
      "metadata": {
        "id": "gd_lhfy3GC6H"
      },
      "source": [
        "X_train,X_test,y_train,y_test=train_test_split(X_new,y_new,test_size=0.2,random_state=10)"
      ],
      "execution_count": null,
      "outputs": []
    },
    {
      "cell_type": "code",
      "metadata": {
        "id": "X4MxPlNZGTsj"
      },
      "source": [
        "cv=KFold(n_splits=10,shuffle=True,random_state=10)"
      ],
      "execution_count": null,
      "outputs": []
    },
    {
      "cell_type": "code",
      "metadata": {
        "id": "WF8MNNa8G23s"
      },
      "source": [
        "lin=LinearRegression()"
      ],
      "execution_count": null,
      "outputs": []
    },
    {
      "cell_type": "code",
      "metadata": {
        "id": "swL3i7xMG6lJ"
      },
      "source": [
        "mse_cv=-cross_val_score(lin,X_train,y_train,cv=cv,scoring='neg_mean_squared_error',n_jobs=-1)"
      ],
      "execution_count": null,
      "outputs": []
    },
    {
      "cell_type": "code",
      "metadata": {
        "colab": {
          "base_uri": "https://localhost:8080/"
        },
        "id": "eOfaOR0mHd5E",
        "outputId": "d3bf8d7c-47e9-47e6-e4dc-2df8f2e4932d"
      },
      "source": [
        "lin.fit(X_train,y_train)"
      ],
      "execution_count": null,
      "outputs": [
        {
          "output_type": "execute_result",
          "data": {
            "text/plain": [
              "LinearRegression(copy_X=True, fit_intercept=True, n_jobs=None, normalize=False)"
            ]
          },
          "metadata": {
            "tags": []
          },
          "execution_count": 451
        }
      ]
    },
    {
      "cell_type": "code",
      "metadata": {
        "id": "cYiJnbUAHnM-"
      },
      "source": [
        "y_pred_train=lin.predict(X_train)"
      ],
      "execution_count": null,
      "outputs": []
    },
    {
      "cell_type": "code",
      "metadata": {
        "id": "ki4yJE0OH7q7"
      },
      "source": [
        "from sklearn.metrics import mean_squared_error,accuracy_score,confusion_matrix,classification_report"
      ],
      "execution_count": null,
      "outputs": []
    },
    {
      "cell_type": "code",
      "metadata": {
        "colab": {
          "base_uri": "https://localhost:8080/"
        },
        "id": "wiltHQMXHwus",
        "outputId": "3c373358-5dbf-4ab0-e696-b23d244445c6"
      },
      "source": [
        "mse_train=mean_squared_error(y_train,y_pred_train)\n",
        "mse_train"
      ],
      "execution_count": null,
      "outputs": [
        {
          "output_type": "execute_result",
          "data": {
            "text/plain": [
              "1.4310469531377132"
            ]
          },
          "metadata": {
            "tags": []
          },
          "execution_count": 454
        }
      ]
    },
    {
      "cell_type": "code",
      "metadata": {
        "id": "NZ-u2CqPIIaB"
      },
      "source": [
        "y_pred_test=lin.predict(X_test)"
      ],
      "execution_count": null,
      "outputs": []
    },
    {
      "cell_type": "code",
      "metadata": {
        "colab": {
          "base_uri": "https://localhost:8080/"
        },
        "id": "hLjnNUmKISmF",
        "outputId": "157906f3-e012-43fa-b1cc-01f2e8ffd5f3"
      },
      "source": [
        "mse_test=mean_squared_error(y_test,y_pred_test)\n",
        "mse_test"
      ],
      "execution_count": null,
      "outputs": [
        {
          "output_type": "execute_result",
          "data": {
            "text/plain": [
              "1.5311010333011388"
            ]
          },
          "metadata": {
            "tags": []
          },
          "execution_count": 456
        }
      ]
    },
    {
      "cell_type": "code",
      "metadata": {
        "colab": {
          "base_uri": "https://localhost:8080/"
        },
        "id": "waw6ADAGIYn3",
        "outputId": "3b6defc5-de31-486a-f3b8-af6044c22ae5"
      },
      "source": [
        "mse_cv.mean()"
      ],
      "execution_count": null,
      "outputs": [
        {
          "output_type": "execute_result",
          "data": {
            "text/plain": [
              "1.457810893201323"
            ]
          },
          "metadata": {
            "tags": []
          },
          "execution_count": 457
        }
      ]
    },
    {
      "cell_type": "code",
      "metadata": {
        "colab": {
          "base_uri": "https://localhost:8080/"
        },
        "id": "S_ObxrSBIeQL",
        "outputId": "4db4cd0d-41eb-4970-f013-bb6c5b56fd20"
      },
      "source": [
        "lin.score(X_test,y_test)"
      ],
      "execution_count": null,
      "outputs": [
        {
          "output_type": "execute_result",
          "data": {
            "text/plain": [
              "0.2108490784562643"
            ]
          },
          "metadata": {
            "tags": []
          },
          "execution_count": 458
        }
      ]
    },
    {
      "cell_type": "code",
      "metadata": {
        "colab": {
          "base_uri": "https://localhost:8080/"
        },
        "id": "qNxTlxRtR9iG",
        "outputId": "20a4cb63-89ee-4307-bd61-8f3750c5f383"
      },
      "source": [
        "accuracy_score(y_test,y_pred_test.round())"
      ],
      "execution_count": null,
      "outputs": [
        {
          "output_type": "execute_result",
          "data": {
            "text/plain": [
              "0.13043478260869565"
            ]
          },
          "metadata": {
            "tags": []
          },
          "execution_count": 459
        }
      ]
    },
    {
      "cell_type": "code",
      "metadata": {
        "colab": {
          "base_uri": "https://localhost:8080/"
        },
        "id": "BqX_YoKYR9me",
        "outputId": "cff2ef5a-975e-4ab5-93f3-977bf90216a1"
      },
      "source": [
        "print(confusion_matrix(y_test,y_pred_test.round()))"
      ],
      "execution_count": null,
      "outputs": [
        {
          "output_type": "stream",
          "text": [
            "[[ 0 14 17  2  0]\n",
            " [ 0  7 20 13  1]\n",
            " [ 0 22 16  2  0]\n",
            " [ 0 10 20  1  1]\n",
            " [ 0  0  3 35  0]]\n"
          ],
          "name": "stdout"
        }
      ]
    },
    {
      "cell_type": "code",
      "metadata": {
        "colab": {
          "base_uri": "https://localhost:8080/"
        },
        "id": "jBGoN3zhR9sP",
        "outputId": "ad0b8c9e-2aa4-48ca-8a8d-538079548e89"
      },
      "source": [
        "print(classification_report(y_test,y_pred_test.round()))"
      ],
      "execution_count": null,
      "outputs": [
        {
          "output_type": "stream",
          "text": [
            "              precision    recall  f1-score   support\n",
            "\n",
            "           0       0.00      0.00      0.00        33\n",
            "           1       0.13      0.17      0.15        41\n",
            "           2       0.21      0.40      0.28        40\n",
            "           3       0.02      0.03      0.02        32\n",
            "           4       0.00      0.00      0.00        38\n",
            "\n",
            "    accuracy                           0.13       184\n",
            "   macro avg       0.07      0.12      0.09       184\n",
            "weighted avg       0.08      0.13      0.10       184\n",
            "\n"
          ],
          "name": "stdout"
        },
        {
          "output_type": "stream",
          "text": [
            "/usr/local/lib/python3.6/dist-packages/sklearn/metrics/_classification.py:1272: UndefinedMetricWarning: Precision and F-score are ill-defined and being set to 0.0 in labels with no predicted samples. Use `zero_division` parameter to control this behavior.\n",
            "  _warn_prf(average, modifier, msg_start, len(result))\n"
          ],
          "name": "stderr"
        }
      ]
    },
    {
      "cell_type": "code",
      "metadata": {
        "colab": {
          "base_uri": "https://localhost:8080/"
        },
        "id": "6byrmiVOR9xz",
        "outputId": "adcab17e-ee6c-4bee-b4e2-c6e45070c72d"
      },
      "source": [
        "accuracy_score(y_train,y_pred_train.round())"
      ],
      "execution_count": null,
      "outputs": [
        {
          "output_type": "execute_result",
          "data": {
            "text/plain": [
              "0.14402173913043478"
            ]
          },
          "metadata": {
            "tags": []
          },
          "execution_count": 462
        }
      ]
    },
    {
      "cell_type": "code",
      "metadata": {
        "colab": {
          "base_uri": "https://localhost:8080/"
        },
        "id": "usNN2SrlR92z",
        "outputId": "b7abfca4-b462-48ad-9373-cb1b9807ffbc"
      },
      "source": [
        "print(confusion_matrix(y_train,y_pred_train.round()))"
      ],
      "execution_count": null,
      "outputs": [
        {
          "output_type": "stream",
          "text": [
            "[[  0  62  67   4   0]\n",
            " [  0  29  76  50   1]\n",
            " [  0  61  63  13   1]\n",
            " [  1  38  81  10   0]\n",
            " [  0   0  13 162   4]]\n"
          ],
          "name": "stdout"
        }
      ]
    },
    {
      "cell_type": "code",
      "metadata": {
        "colab": {
          "base_uri": "https://localhost:8080/"
        },
        "id": "nNbIE80UR96L",
        "outputId": "db14ccbe-f79c-4a74-84d5-3c8b81ddc173"
      },
      "source": [
        "print(classification_report(y_train,y_pred_train.round()))"
      ],
      "execution_count": null,
      "outputs": [
        {
          "output_type": "stream",
          "text": [
            "              precision    recall  f1-score   support\n",
            "\n",
            "           0       0.00      0.00      0.00       133\n",
            "           1       0.15      0.19      0.17       156\n",
            "           2       0.21      0.46      0.29       138\n",
            "           3       0.04      0.08      0.05       130\n",
            "           4       0.67      0.02      0.04       179\n",
            "\n",
            "    accuracy                           0.14       736\n",
            "   macro avg       0.21      0.15      0.11       736\n",
            "weighted avg       0.24      0.14      0.11       736\n",
            "\n"
          ],
          "name": "stdout"
        }
      ]
    },
    {
      "cell_type": "markdown",
      "metadata": {
        "id": "FNU0dGXmkpxo"
      },
      "source": [
        "***Decision Tree Regressor***"
      ]
    },
    {
      "cell_type": "code",
      "metadata": {
        "id": "499pizL4I0gr"
      },
      "source": [
        "from sklearn.tree import DecisionTreeRegressor"
      ],
      "execution_count": null,
      "outputs": []
    },
    {
      "cell_type": "code",
      "metadata": {
        "id": "iikX3wVNKeoV"
      },
      "source": [
        "dt_reg=DecisionTreeRegressor(max_depth=4,min_samples_leaf=0.17)"
      ],
      "execution_count": null,
      "outputs": []
    },
    {
      "cell_type": "code",
      "metadata": {
        "id": "UI-JYFg9Koz1"
      },
      "source": [
        "cv_r=KFold(n_splits=10,shuffle=True)"
      ],
      "execution_count": null,
      "outputs": []
    },
    {
      "cell_type": "code",
      "metadata": {
        "id": "7ZJI2BYuKrED"
      },
      "source": [
        "cv_mse=-cross_val_score(dt_reg,X_train,y_train,cv=cv_r,scoring='neg_mean_squared_error',n_jobs=-1)"
      ],
      "execution_count": null,
      "outputs": []
    },
    {
      "cell_type": "code",
      "metadata": {
        "colab": {
          "base_uri": "https://localhost:8080/"
        },
        "id": "Lpvt10ZuLBkl",
        "outputId": "fab294d9-eca6-4922-ddc0-35e182a80046"
      },
      "source": [
        "dt_reg.fit(X_train,y_train)"
      ],
      "execution_count": null,
      "outputs": [
        {
          "output_type": "execute_result",
          "data": {
            "text/plain": [
              "DecisionTreeRegressor(ccp_alpha=0.0, criterion='mse', max_depth=4,\n",
              "                      max_features=None, max_leaf_nodes=None,\n",
              "                      min_impurity_decrease=0.0, min_impurity_split=None,\n",
              "                      min_samples_leaf=0.17, min_samples_split=2,\n",
              "                      min_weight_fraction_leaf=0.0, presort='deprecated',\n",
              "                      random_state=None, splitter='best')"
            ]
          },
          "metadata": {
            "tags": []
          },
          "execution_count": 745
        }
      ]
    },
    {
      "cell_type": "code",
      "metadata": {
        "id": "suGudx8lLGnY"
      },
      "source": [
        "y_pred_dt_reg_train=dt_reg.predict(X_train)"
      ],
      "execution_count": null,
      "outputs": []
    },
    {
      "cell_type": "code",
      "metadata": {
        "colab": {
          "base_uri": "https://localhost:8080/"
        },
        "id": "elpUTNexLQ0_",
        "outputId": "70d2c1a7-4f8b-4a50-859a-318ecb81a66b"
      },
      "source": [
        "train_mse=mean_squared_error(y_train,y_pred_dt_reg_train)\n",
        "train_mse"
      ],
      "execution_count": null,
      "outputs": [
        {
          "output_type": "execute_result",
          "data": {
            "text/plain": [
              "0.1368040304006844"
            ]
          },
          "metadata": {
            "tags": []
          },
          "execution_count": 747
        }
      ]
    },
    {
      "cell_type": "code",
      "metadata": {
        "id": "TYUhVcVFLZM7"
      },
      "source": [
        "y_pred_dt_reg_test=dt_reg.predict(X_test)"
      ],
      "execution_count": null,
      "outputs": []
    },
    {
      "cell_type": "code",
      "metadata": {
        "colab": {
          "base_uri": "https://localhost:8080/"
        },
        "id": "sVrpe1hCLgWD",
        "outputId": "2d8eee66-9bd7-496a-b015-e0a4e01dd7f2"
      },
      "source": [
        "test_mse=mean_squared_error(y_test,y_pred_dt_reg_test)\n",
        "test_mse"
      ],
      "execution_count": null,
      "outputs": [
        {
          "output_type": "execute_result",
          "data": {
            "text/plain": [
              "0.15248375507914633"
            ]
          },
          "metadata": {
            "tags": []
          },
          "execution_count": 749
        }
      ]
    },
    {
      "cell_type": "code",
      "metadata": {
        "colab": {
          "base_uri": "https://localhost:8080/"
        },
        "id": "E8ibaFngLnUC",
        "outputId": "33f4473a-2802-49ec-8302-428946ce8ed6"
      },
      "source": [
        "cv_mse.mean()"
      ],
      "execution_count": null,
      "outputs": [
        {
          "output_type": "execute_result",
          "data": {
            "text/plain": [
              "0.13518999065524212"
            ]
          },
          "metadata": {
            "tags": []
          },
          "execution_count": 750
        }
      ]
    },
    {
      "cell_type": "code",
      "metadata": {
        "colab": {
          "base_uri": "https://localhost:8080/"
        },
        "id": "CB6atYZ1LtbP",
        "outputId": "1b6d5f3c-ad34-4ab5-f3ba-38648bfc5763"
      },
      "source": [
        "dt_reg.score(X_test,y_test)"
      ],
      "execution_count": null,
      "outputs": [
        {
          "output_type": "execute_result",
          "data": {
            "text/plain": [
              "0.9214077365086002"
            ]
          },
          "metadata": {
            "tags": []
          },
          "execution_count": 751
        }
      ]
    },
    {
      "cell_type": "code",
      "metadata": {
        "colab": {
          "base_uri": "https://localhost:8080/"
        },
        "id": "ecREE8_5P8V3",
        "outputId": "1ddd7c42-0f79-44b3-d67a-4dd617eea32e"
      },
      "source": [
        "accuracy_score(y_test,y_pred_dt_reg_test.round())"
      ],
      "execution_count": null,
      "outputs": [
        {
          "output_type": "execute_result",
          "data": {
            "text/plain": [
              "0.8260869565217391"
            ]
          },
          "metadata": {
            "tags": []
          },
          "execution_count": 752
        }
      ]
    },
    {
      "cell_type": "code",
      "metadata": {
        "colab": {
          "base_uri": "https://localhost:8080/"
        },
        "id": "irc9MXrxP8gS",
        "outputId": "cae011ab-8462-45b6-fb86-a756c3ac83d9"
      },
      "source": [
        "print(confusion_matrix(y_test,y_pred_dt_reg_test.round()))"
      ],
      "execution_count": null,
      "outputs": [
        {
          "output_type": "stream",
          "text": [
            "[[32  0  0  1  0]\n",
            " [ 0 22 19  0  0]\n",
            " [ 0 12 28  0  0]\n",
            " [ 0  0  0 32  0]\n",
            " [ 0  0  0  0 38]]\n"
          ],
          "name": "stdout"
        }
      ]
    },
    {
      "cell_type": "code",
      "metadata": {
        "colab": {
          "base_uri": "https://localhost:8080/"
        },
        "id": "ZeSXqzFWP8ps",
        "outputId": "33fcf45c-0c2c-44d0-f60f-0d591bec220e"
      },
      "source": [
        "print(classification_report(y_test,y_pred_dt_reg_test.round()))"
      ],
      "execution_count": null,
      "outputs": [
        {
          "output_type": "stream",
          "text": [
            "              precision    recall  f1-score   support\n",
            "\n",
            "           0       1.00      0.97      0.98        33\n",
            "           1       0.65      0.54      0.59        41\n",
            "           2       0.60      0.70      0.64        40\n",
            "           3       0.97      1.00      0.98        32\n",
            "           4       1.00      1.00      1.00        38\n",
            "\n",
            "    accuracy                           0.83       184\n",
            "   macro avg       0.84      0.84      0.84       184\n",
            "weighted avg       0.83      0.83      0.83       184\n",
            "\n"
          ],
          "name": "stdout"
        }
      ]
    },
    {
      "cell_type": "code",
      "metadata": {
        "colab": {
          "base_uri": "https://localhost:8080/"
        },
        "id": "N8j5nIltRAMv",
        "outputId": "190f6102-c114-4fe4-ecc0-ba39b0c3da3e"
      },
      "source": [
        "accuracy_score(y_train,y_pred_dt_reg_train.round())"
      ],
      "execution_count": null,
      "outputs": [
        {
          "output_type": "execute_result",
          "data": {
            "text/plain": [
              "0.8478260869565217"
            ]
          },
          "metadata": {
            "tags": []
          },
          "execution_count": 755
        }
      ]
    },
    {
      "cell_type": "code",
      "metadata": {
        "colab": {
          "base_uri": "https://localhost:8080/"
        },
        "id": "VuKP418DRAQp",
        "outputId": "852e04dd-ad3b-4555-a59d-27241cd776af"
      },
      "source": [
        "print(confusion_matrix(y_train,y_pred_dt_reg_train.round()))"
      ],
      "execution_count": null,
      "outputs": [
        {
          "output_type": "stream",
          "text": [
            "[[132   0   0   1   0]\n",
            " [  0  89  66   0   1]\n",
            " [  2  40  96   0   0]\n",
            " [  0   0   0 130   0]\n",
            " [  0   1   0   1 177]]\n"
          ],
          "name": "stdout"
        }
      ]
    },
    {
      "cell_type": "code",
      "metadata": {
        "colab": {
          "base_uri": "https://localhost:8080/"
        },
        "id": "kUIai1acRAUC",
        "outputId": "41da5244-745b-42fc-b2cd-d041932b7c91"
      },
      "source": [
        "print(classification_report(y_train,y_pred_dt_reg_train.round()))"
      ],
      "execution_count": null,
      "outputs": [
        {
          "output_type": "stream",
          "text": [
            "              precision    recall  f1-score   support\n",
            "\n",
            "           0       0.99      0.99      0.99       133\n",
            "           1       0.68      0.57      0.62       156\n",
            "           2       0.59      0.70      0.64       138\n",
            "           3       0.98      1.00      0.99       130\n",
            "           4       0.99      0.99      0.99       179\n",
            "\n",
            "    accuracy                           0.85       736\n",
            "   macro avg       0.85      0.85      0.85       736\n",
            "weighted avg       0.85      0.85      0.85       736\n",
            "\n"
          ],
          "name": "stdout"
        }
      ]
    },
    {
      "cell_type": "markdown",
      "metadata": {
        "id": "qFG8zodZkysZ"
      },
      "source": [
        "***Lasso***"
      ]
    },
    {
      "cell_type": "code",
      "metadata": {
        "id": "e8RBBd7KL5H2"
      },
      "source": [
        "from sklearn.linear_model import Lasso"
      ],
      "execution_count": null,
      "outputs": []
    },
    {
      "cell_type": "code",
      "metadata": {
        "id": "yENmT1tQMiPP"
      },
      "source": [
        "las=Lasso(alpha=0.4,normalize=True)"
      ],
      "execution_count": null,
      "outputs": []
    },
    {
      "cell_type": "code",
      "metadata": {
        "id": "lqDDPhRrNN2P"
      },
      "source": [
        "cv_lasso=KFold(n_splits=10,shuffle=True)"
      ],
      "execution_count": null,
      "outputs": []
    },
    {
      "cell_type": "code",
      "metadata": {
        "id": "gAnuvbUYNN60"
      },
      "source": [
        "cv_lasso_mse=-cross_val_score(las,X_train,y_train,scoring='neg_mean_squared_error',cv=cv_lasso,n_jobs=-1)"
      ],
      "execution_count": null,
      "outputs": []
    },
    {
      "cell_type": "code",
      "metadata": {
        "colab": {
          "base_uri": "https://localhost:8080/"
        },
        "id": "Pw7jwcYqMrJ0",
        "outputId": "6b52817d-5d0b-4e20-83c7-b91c07b4899a"
      },
      "source": [
        "las.fit(X_train,y_train)"
      ],
      "execution_count": null,
      "outputs": [
        {
          "output_type": "execute_result",
          "data": {
            "text/plain": [
              "Lasso(alpha=0.4, copy_X=True, fit_intercept=True, max_iter=1000, normalize=True,\n",
              "      positive=False, precompute=False, random_state=None, selection='cyclic',\n",
              "      tol=0.0001, warm_start=False)"
            ]
          },
          "metadata": {
            "tags": []
          },
          "execution_count": 486
        }
      ]
    },
    {
      "cell_type": "code",
      "metadata": {
        "id": "-DK4ZWk6MxvK"
      },
      "source": [
        "y_pred_lasso_train=las.predict(X_train)"
      ],
      "execution_count": null,
      "outputs": []
    },
    {
      "cell_type": "code",
      "metadata": {
        "colab": {
          "base_uri": "https://localhost:8080/"
        },
        "id": "ss5AgbEQM46s",
        "outputId": "1cc9b68e-952c-4a3d-c426-d35507953f53"
      },
      "source": [
        "mse_lass_train=mean_squared_error(y_train,y_pred_lasso_train)\n",
        "mse_lass_train"
      ],
      "execution_count": null,
      "outputs": [
        {
          "output_type": "execute_result",
          "data": {
            "text/plain": [
              "2.0761977197542536"
            ]
          },
          "metadata": {
            "tags": []
          },
          "execution_count": 488
        }
      ]
    },
    {
      "cell_type": "code",
      "metadata": {
        "id": "rH_tA_bYM_dR"
      },
      "source": [
        "y_pred_lasso_test=las.predict(X_test)"
      ],
      "execution_count": null,
      "outputs": []
    },
    {
      "cell_type": "code",
      "metadata": {
        "colab": {
          "base_uri": "https://localhost:8080/"
        },
        "id": "Id39k6T5N-R6",
        "outputId": "3488bcec-4aa4-4418-e9d5-5a4bee7fa80f"
      },
      "source": [
        "mse_lass_test=mean_squared_error(y_test,y_pred_lasso_test)\n",
        "mse_lass_test"
      ],
      "execution_count": null,
      "outputs": [
        {
          "output_type": "execute_result",
          "data": {
            "text/plain": [
              "1.947284085538752"
            ]
          },
          "metadata": {
            "tags": []
          },
          "execution_count": 490
        }
      ]
    },
    {
      "cell_type": "code",
      "metadata": {
        "colab": {
          "base_uri": "https://localhost:8080/"
        },
        "id": "Yzg9ouS8OGMP",
        "outputId": "212ca523-2a38-4b60-9813-3cf0a759de5b"
      },
      "source": [
        "cv_lasso_mse.mean()"
      ],
      "execution_count": null,
      "outputs": [
        {
          "output_type": "execute_result",
          "data": {
            "text/plain": [
              "2.0896918789088916"
            ]
          },
          "metadata": {
            "tags": []
          },
          "execution_count": 491
        }
      ]
    },
    {
      "cell_type": "code",
      "metadata": {
        "colab": {
          "base_uri": "https://localhost:8080/"
        },
        "id": "11spr4ZZONWv",
        "outputId": "a1443282-59fb-4bba-8962-642c55b2bd35"
      },
      "source": [
        "las.score(X_test,y_test)"
      ],
      "execution_count": null,
      "outputs": [
        {
          "output_type": "execute_result",
          "data": {
            "text/plain": [
              "-0.0036574969171983"
            ]
          },
          "metadata": {
            "tags": []
          },
          "execution_count": 492
        }
      ]
    },
    {
      "cell_type": "code",
      "metadata": {
        "colab": {
          "base_uri": "https://localhost:8080/"
        },
        "id": "YPvJsl8fSmUG",
        "outputId": "33f3a368-9b5f-446d-fdf3-8cbda9ab24c7"
      },
      "source": [
        "accuracy_score(y_test,y_pred_lasso_test.round())"
      ],
      "execution_count": null,
      "outputs": [
        {
          "output_type": "execute_result",
          "data": {
            "text/plain": [
              "0.21739130434782608"
            ]
          },
          "metadata": {
            "tags": []
          },
          "execution_count": 493
        }
      ]
    },
    {
      "cell_type": "code",
      "metadata": {
        "colab": {
          "base_uri": "https://localhost:8080/"
        },
        "id": "TYSIKta6SmXl",
        "outputId": "f90d6000-b184-4121-8eef-42c612391a3f"
      },
      "source": [
        "print(confusion_matrix(y_test,y_pred_lasso_test.round()))"
      ],
      "execution_count": null,
      "outputs": [
        {
          "output_type": "stream",
          "text": [
            "[[ 0  0 33  0  0]\n",
            " [ 0  0 41  0  0]\n",
            " [ 0  0 40  0  0]\n",
            " [ 0  0 32  0  0]\n",
            " [ 0  0 38  0  0]]\n"
          ],
          "name": "stdout"
        }
      ]
    },
    {
      "cell_type": "code",
      "metadata": {
        "colab": {
          "base_uri": "https://localhost:8080/"
        },
        "id": "aerPFmnxSmbV",
        "outputId": "550940d4-e07f-4c4e-9cfb-357511579483"
      },
      "source": [
        "print(classification_report(y_test,y_pred_lasso_test.round()))"
      ],
      "execution_count": null,
      "outputs": [
        {
          "output_type": "stream",
          "text": [
            "              precision    recall  f1-score   support\n",
            "\n",
            "           0       0.00      0.00      0.00        33\n",
            "           1       0.00      0.00      0.00        41\n",
            "           2       0.22      1.00      0.36        40\n",
            "           3       0.00      0.00      0.00        32\n",
            "           4       0.00      0.00      0.00        38\n",
            "\n",
            "    accuracy                           0.22       184\n",
            "   macro avg       0.04      0.20      0.07       184\n",
            "weighted avg       0.05      0.22      0.08       184\n",
            "\n"
          ],
          "name": "stdout"
        },
        {
          "output_type": "stream",
          "text": [
            "/usr/local/lib/python3.6/dist-packages/sklearn/metrics/_classification.py:1272: UndefinedMetricWarning: Precision and F-score are ill-defined and being set to 0.0 in labels with no predicted samples. Use `zero_division` parameter to control this behavior.\n",
            "  _warn_prf(average, modifier, msg_start, len(result))\n"
          ],
          "name": "stderr"
        }
      ]
    },
    {
      "cell_type": "code",
      "metadata": {
        "colab": {
          "base_uri": "https://localhost:8080/"
        },
        "id": "GgHpC-qSSmus",
        "outputId": "b18c3602-2d38-429c-e7be-840e6f9f4e68"
      },
      "source": [
        "accuracy_score(y_train,y_pred_lasso_train.round())"
      ],
      "execution_count": null,
      "outputs": [
        {
          "output_type": "execute_result",
          "data": {
            "text/plain": [
              "0.1875"
            ]
          },
          "metadata": {
            "tags": []
          },
          "execution_count": 496
        }
      ]
    },
    {
      "cell_type": "code",
      "metadata": {
        "colab": {
          "base_uri": "https://localhost:8080/"
        },
        "id": "jtdEWBCaSmwj",
        "outputId": "c7c33831-b407-4bc1-bdf0-a2b535077be2"
      },
      "source": [
        "print(confusion_matrix(y_train,y_pred_lasso_train.round()))"
      ],
      "execution_count": null,
      "outputs": [
        {
          "output_type": "stream",
          "text": [
            "[[  0   0 133   0   0]\n",
            " [  0   0 156   0   0]\n",
            " [  0   0 138   0   0]\n",
            " [  0   0 130   0   0]\n",
            " [  0   0 179   0   0]]\n"
          ],
          "name": "stdout"
        }
      ]
    },
    {
      "cell_type": "code",
      "metadata": {
        "colab": {
          "base_uri": "https://localhost:8080/"
        },
        "id": "2rTOate2Sm0c",
        "outputId": "216feecb-e97e-4d29-8889-c78c75bf0b80"
      },
      "source": [
        "print(classification_report(y_train,y_pred_lasso_train.round()))"
      ],
      "execution_count": null,
      "outputs": [
        {
          "output_type": "stream",
          "text": [
            "              precision    recall  f1-score   support\n",
            "\n",
            "           0       0.00      0.00      0.00       133\n",
            "           1       0.00      0.00      0.00       156\n",
            "           2       0.19      1.00      0.32       138\n",
            "           3       0.00      0.00      0.00       130\n",
            "           4       0.00      0.00      0.00       179\n",
            "\n",
            "    accuracy                           0.19       736\n",
            "   macro avg       0.04      0.20      0.06       736\n",
            "weighted avg       0.04      0.19      0.06       736\n",
            "\n"
          ],
          "name": "stdout"
        },
        {
          "output_type": "stream",
          "text": [
            "/usr/local/lib/python3.6/dist-packages/sklearn/metrics/_classification.py:1272: UndefinedMetricWarning: Precision and F-score are ill-defined and being set to 0.0 in labels with no predicted samples. Use `zero_division` parameter to control this behavior.\n",
            "  _warn_prf(average, modifier, msg_start, len(result))\n"
          ],
          "name": "stderr"
        }
      ]
    },
    {
      "cell_type": "markdown",
      "metadata": {
        "id": "Wodue7yVk7oX"
      },
      "source": [
        "***Ridge***"
      ]
    },
    {
      "cell_type": "code",
      "metadata": {
        "id": "WeAlJftSk_fs"
      },
      "source": [
        "from sklearn.linear_model import Ridge"
      ],
      "execution_count": null,
      "outputs": []
    },
    {
      "cell_type": "code",
      "metadata": {
        "id": "3R-rjLVFORlB"
      },
      "source": [
        "rid=Ridge(normalize=True)"
      ],
      "execution_count": null,
      "outputs": []
    },
    {
      "cell_type": "code",
      "metadata": {
        "id": "IL4ETS8hOaiH"
      },
      "source": [
        "cv_ridge=KFold(n_splits=10,shuffle=True)"
      ],
      "execution_count": null,
      "outputs": []
    },
    {
      "cell_type": "code",
      "metadata": {
        "id": "BQOliSoSOj6Y"
      },
      "source": [
        "cv_ridge_mse=-cross_val_score(rid,X_train,y_train,cv=cv_ridge,scoring='neg_mean_squared_error',n_jobs=-1)"
      ],
      "execution_count": null,
      "outputs": []
    },
    {
      "cell_type": "code",
      "metadata": {
        "colab": {
          "base_uri": "https://localhost:8080/"
        },
        "id": "cozK7NmmO1kw",
        "outputId": "6e867392-b2e0-4ee2-ed7a-cd2d66044598"
      },
      "source": [
        "rid.fit(X_train,y_train)"
      ],
      "execution_count": null,
      "outputs": [
        {
          "output_type": "execute_result",
          "data": {
            "text/plain": [
              "Ridge(alpha=1.0, copy_X=True, fit_intercept=True, max_iter=None, normalize=True,\n",
              "      random_state=None, solver='auto', tol=0.001)"
            ]
          },
          "metadata": {
            "tags": []
          },
          "execution_count": 503
        }
      ]
    },
    {
      "cell_type": "code",
      "metadata": {
        "id": "ZKcsXlWEO5e_"
      },
      "source": [
        "y_pred_ridge_train=rid.predict(X_train)"
      ],
      "execution_count": null,
      "outputs": []
    },
    {
      "cell_type": "code",
      "metadata": {
        "colab": {
          "base_uri": "https://localhost:8080/"
        },
        "id": "UQmkdRJ6PDTk",
        "outputId": "02e0f538-8478-4553-9dc6-36931f9baf32"
      },
      "source": [
        "mse_ridge_train=mean_squared_error(y_train,y_pred_ridge_train)\n",
        "mse_ridge_train"
      ],
      "execution_count": null,
      "outputs": [
        {
          "output_type": "execute_result",
          "data": {
            "text/plain": [
              "1.5756388216723167"
            ]
          },
          "metadata": {
            "tags": []
          },
          "execution_count": 505
        }
      ]
    },
    {
      "cell_type": "code",
      "metadata": {
        "id": "gebROkjiPNP1"
      },
      "source": [
        "y_pred_ridge_test=rid.predict(X_test)"
      ],
      "execution_count": null,
      "outputs": []
    },
    {
      "cell_type": "code",
      "metadata": {
        "colab": {
          "base_uri": "https://localhost:8080/"
        },
        "id": "BUa0-keyPVB1",
        "outputId": "35148859-974b-48f7-addb-a85ee98ac71e"
      },
      "source": [
        "mse_ridge_test=mean_squared_error(y_test,y_pred_ridge_test)\n",
        "mse_ridge_test"
      ],
      "execution_count": null,
      "outputs": [
        {
          "output_type": "execute_result",
          "data": {
            "text/plain": [
              "1.5391747278333017"
            ]
          },
          "metadata": {
            "tags": []
          },
          "execution_count": 507
        }
      ]
    },
    {
      "cell_type": "code",
      "metadata": {
        "colab": {
          "base_uri": "https://localhost:8080/"
        },
        "id": "rmwuXJ0yPbsn",
        "outputId": "69c35fbd-9e4f-4887-d2fa-ed30c810948c"
      },
      "source": [
        "cv_ridge_mse.mean()"
      ],
      "execution_count": null,
      "outputs": [
        {
          "output_type": "execute_result",
          "data": {
            "text/plain": [
              "1.594518786915327"
            ]
          },
          "metadata": {
            "tags": []
          },
          "execution_count": 508
        }
      ]
    },
    {
      "cell_type": "code",
      "metadata": {
        "colab": {
          "base_uri": "https://localhost:8080/"
        },
        "id": "e5QSahz1PfLu",
        "outputId": "bcf1e1f3-1dd1-4839-de84-8998fc36ae57"
      },
      "source": [
        "rid.score(X_test,y_test)"
      ],
      "execution_count": null,
      "outputs": [
        {
          "output_type": "execute_result",
          "data": {
            "text/plain": [
              "0.20668778319112968"
            ]
          },
          "metadata": {
            "tags": []
          },
          "execution_count": 509
        }
      ]
    },
    {
      "cell_type": "code",
      "metadata": {
        "colab": {
          "base_uri": "https://localhost:8080/"
        },
        "id": "jzd-1cR0Pl2q",
        "outputId": "63a8da27-bfd0-49fb-d030-0e648815b038"
      },
      "source": [
        "accuracy_score(y_test,y_pred_ridge_test.round())"
      ],
      "execution_count": null,
      "outputs": [
        {
          "output_type": "execute_result",
          "data": {
            "text/plain": [
              "0.21739130434782608"
            ]
          },
          "metadata": {
            "tags": []
          },
          "execution_count": 510
        }
      ]
    },
    {
      "cell_type": "code",
      "metadata": {
        "colab": {
          "base_uri": "https://localhost:8080/"
        },
        "id": "eAYE1NRATPt2",
        "outputId": "f107cbdd-42e9-4196-eec4-c3e6a3cfedce"
      },
      "source": [
        "print(confusion_matrix(y_test,y_pred_ridge_test.round()))"
      ],
      "execution_count": null,
      "outputs": [
        {
          "output_type": "stream",
          "text": [
            "[[ 0  4 29  0  0]\n",
            " [ 0  1 26 14  0]\n",
            " [ 0  0 39  1  0]\n",
            " [ 0  4 28  0  0]\n",
            " [ 0  0  3 35  0]]\n"
          ],
          "name": "stdout"
        }
      ]
    },
    {
      "cell_type": "code",
      "metadata": {
        "colab": {
          "base_uri": "https://localhost:8080/"
        },
        "id": "8Eq8f5KGTP3H",
        "outputId": "a41d5bcc-8e65-414b-e572-4b22625ca4be"
      },
      "source": [
        "print(classification_report(y_test,y_pred_ridge_test.round()))"
      ],
      "execution_count": null,
      "outputs": [
        {
          "output_type": "stream",
          "text": [
            "              precision    recall  f1-score   support\n",
            "\n",
            "           0       0.00      0.00      0.00        33\n",
            "           1       0.11      0.02      0.04        41\n",
            "           2       0.31      0.97      0.47        40\n",
            "           3       0.00      0.00      0.00        32\n",
            "           4       0.00      0.00      0.00        38\n",
            "\n",
            "    accuracy                           0.22       184\n",
            "   macro avg       0.08      0.20      0.10       184\n",
            "weighted avg       0.09      0.22      0.11       184\n",
            "\n"
          ],
          "name": "stdout"
        },
        {
          "output_type": "stream",
          "text": [
            "/usr/local/lib/python3.6/dist-packages/sklearn/metrics/_classification.py:1272: UndefinedMetricWarning: Precision and F-score are ill-defined and being set to 0.0 in labels with no predicted samples. Use `zero_division` parameter to control this behavior.\n",
            "  _warn_prf(average, modifier, msg_start, len(result))\n"
          ],
          "name": "stderr"
        }
      ]
    },
    {
      "cell_type": "code",
      "metadata": {
        "colab": {
          "base_uri": "https://localhost:8080/"
        },
        "id": "WIFCw9LVTQA9",
        "outputId": "162a2146-4337-4fd9-fccd-c50bd628b6af"
      },
      "source": [
        "accuracy_score(y_train,y_pred_ridge_train.round())"
      ],
      "execution_count": null,
      "outputs": [
        {
          "output_type": "execute_result",
          "data": {
            "text/plain": [
              "0.18070652173913043"
            ]
          },
          "metadata": {
            "tags": []
          },
          "execution_count": 513
        }
      ]
    },
    {
      "cell_type": "code",
      "metadata": {
        "colab": {
          "base_uri": "https://localhost:8080/"
        },
        "id": "t2Voe0rtTQOe",
        "outputId": "5146a07f-cf4b-4bdc-9c20-16c25e5fd8a8"
      },
      "source": [
        "print(confusion_matrix(y_train,y_pred_ridge_train.round()))"
      ],
      "execution_count": null,
      "outputs": [
        {
          "output_type": "stream",
          "text": [
            "[[  0   7 126   0   0]\n",
            " [  0   0 112  44   0]\n",
            " [  0   2 133   3   0]\n",
            " [  0  21 109   0   0]\n",
            " [  0   0  14 165   0]]\n"
          ],
          "name": "stdout"
        }
      ]
    },
    {
      "cell_type": "code",
      "metadata": {
        "colab": {
          "base_uri": "https://localhost:8080/"
        },
        "id": "IJlc3sUqTQXV",
        "outputId": "b0884c49-4c0b-48c9-868e-fcaea13e7c4a"
      },
      "source": [
        "print(classification_report(y_train,y_pred_ridge_train.round()))"
      ],
      "execution_count": null,
      "outputs": [
        {
          "output_type": "stream",
          "text": [
            "              precision    recall  f1-score   support\n",
            "\n",
            "           0       0.00      0.00      0.00       133\n",
            "           1       0.00      0.00      0.00       156\n",
            "           2       0.27      0.96      0.42       138\n",
            "           3       0.00      0.00      0.00       130\n",
            "           4       0.00      0.00      0.00       179\n",
            "\n",
            "    accuracy                           0.18       736\n",
            "   macro avg       0.05      0.19      0.08       736\n",
            "weighted avg       0.05      0.18      0.08       736\n",
            "\n"
          ],
          "name": "stdout"
        },
        {
          "output_type": "stream",
          "text": [
            "/usr/local/lib/python3.6/dist-packages/sklearn/metrics/_classification.py:1272: UndefinedMetricWarning: Precision and F-score are ill-defined and being set to 0.0 in labels with no predicted samples. Use `zero_division` parameter to control this behavior.\n",
            "  _warn_prf(average, modifier, msg_start, len(result))\n"
          ],
          "name": "stderr"
        }
      ]
    },
    {
      "cell_type": "markdown",
      "metadata": {
        "id": "SHa024oulHpx"
      },
      "source": [
        "***Polynominal Regression***"
      ]
    },
    {
      "cell_type": "code",
      "metadata": {
        "id": "2qRgBN9jTrPG"
      },
      "source": [
        "from sklearn.preprocessing import PolynomialFeatures"
      ],
      "execution_count": null,
      "outputs": []
    },
    {
      "cell_type": "code",
      "metadata": {
        "id": "PixHJP4abgju"
      },
      "source": [
        "pol=PolynomialFeatures(degree=3)"
      ],
      "execution_count": null,
      "outputs": []
    },
    {
      "cell_type": "code",
      "metadata": {
        "id": "WtJ__XKNbtHj"
      },
      "source": [
        "X_train_poly=pol.fit_transform(X_train)\n",
        "X_test_poly=pol.fit_transform(X_test)"
      ],
      "execution_count": null,
      "outputs": []
    },
    {
      "cell_type": "code",
      "metadata": {
        "id": "p_gdk2wXb6rp"
      },
      "source": [
        "pol_reg=LinearRegression()"
      ],
      "execution_count": null,
      "outputs": []
    },
    {
      "cell_type": "code",
      "metadata": {
        "id": "794y0glXczx0"
      },
      "source": [
        "cv_pol=KFold(n_splits=10,shuffle=True)"
      ],
      "execution_count": null,
      "outputs": []
    },
    {
      "cell_type": "code",
      "metadata": {
        "id": "eUkg9IsGc0E_"
      },
      "source": [
        "mse_cv_pol=-cross_val_score(pol_reg,X_train_poly,y_train,cv=cv_pol,scoring='neg_mean_squared_error',n_jobs=-1)"
      ],
      "execution_count": null,
      "outputs": []
    },
    {
      "cell_type": "code",
      "metadata": {
        "colab": {
          "base_uri": "https://localhost:8080/"
        },
        "id": "MjYck2H5b_nJ",
        "outputId": "2aa8886e-9f13-4872-e9c8-b02a49b04169"
      },
      "source": [
        "pol_reg.fit(X_train_poly,y_train)"
      ],
      "execution_count": null,
      "outputs": [
        {
          "output_type": "execute_result",
          "data": {
            "text/plain": [
              "LinearRegression(copy_X=True, fit_intercept=True, n_jobs=None, normalize=False)"
            ]
          },
          "metadata": {
            "tags": []
          },
          "execution_count": 522
        }
      ]
    },
    {
      "cell_type": "code",
      "metadata": {
        "id": "EwV9lQ73cHp6"
      },
      "source": [
        "y_pred_pol_reg_train=pol_reg.predict(X_train_poly)"
      ],
      "execution_count": null,
      "outputs": []
    },
    {
      "cell_type": "code",
      "metadata": {
        "colab": {
          "base_uri": "https://localhost:8080/"
        },
        "id": "98sZoDULcQGX",
        "outputId": "64960605-4db2-40e0-da6d-063890e2bfbe"
      },
      "source": [
        "mse_pol_reg_train=mean_squared_error(y_train,y_pred_pol_reg_train)\n",
        "mse_pol_reg_train"
      ],
      "execution_count": null,
      "outputs": [
        {
          "output_type": "execute_result",
          "data": {
            "text/plain": [
              "0.2887972632066498"
            ]
          },
          "metadata": {
            "tags": []
          },
          "execution_count": 524
        }
      ]
    },
    {
      "cell_type": "code",
      "metadata": {
        "id": "X8l14BkTcgqh"
      },
      "source": [
        "y_pred_pol_reg_test=pol_reg.predict(X_test_poly)"
      ],
      "execution_count": null,
      "outputs": []
    },
    {
      "cell_type": "code",
      "metadata": {
        "colab": {
          "base_uri": "https://localhost:8080/"
        },
        "id": "DUz8E6G0cnB0",
        "outputId": "01d8035e-18a8-4a2a-f631-507f70ccd3c1"
      },
      "source": [
        "mse_pol_reg_test=mean_squared_error(y_test,y_pred_pol_reg_test)\n",
        "mse_pol_reg_test"
      ],
      "execution_count": null,
      "outputs": [
        {
          "output_type": "execute_result",
          "data": {
            "text/plain": [
              "0.37791992946383857"
            ]
          },
          "metadata": {
            "tags": []
          },
          "execution_count": 526
        }
      ]
    },
    {
      "cell_type": "code",
      "metadata": {
        "colab": {
          "base_uri": "https://localhost:8080/"
        },
        "id": "n0BxwHxncupF",
        "outputId": "12e091ca-fc8b-45d9-86e9-d360f7cbd5d8"
      },
      "source": [
        "mse_cv_pol.mean()"
      ],
      "execution_count": null,
      "outputs": [
        {
          "output_type": "execute_result",
          "data": {
            "text/plain": [
              "0.5032259955660906"
            ]
          },
          "metadata": {
            "tags": []
          },
          "execution_count": 527
        }
      ]
    },
    {
      "cell_type": "code",
      "metadata": {
        "colab": {
          "base_uri": "https://localhost:8080/"
        },
        "id": "e6wJur9odtHc",
        "outputId": "f0d5ccac-26cf-4161-8460-404241807d0b"
      },
      "source": [
        "pol_reg.score(X_test_poly,y_test)"
      ],
      "execution_count": null,
      "outputs": [
        {
          "output_type": "execute_result",
          "data": {
            "text/plain": [
              "0.8052147741268787"
            ]
          },
          "metadata": {
            "tags": []
          },
          "execution_count": 528
        }
      ]
    },
    {
      "cell_type": "code",
      "metadata": {
        "colab": {
          "base_uri": "https://localhost:8080/"
        },
        "id": "gctjBHghdzYH",
        "outputId": "7c7cc44b-bc35-43c3-9462-81f0669afb3e"
      },
      "source": [
        "accuracy_score(y_test,y_pred_pol_reg_test.round())"
      ],
      "execution_count": null,
      "outputs": [
        {
          "output_type": "execute_result",
          "data": {
            "text/plain": [
              "0.6739130434782609"
            ]
          },
          "metadata": {
            "tags": []
          },
          "execution_count": 529
        }
      ]
    },
    {
      "cell_type": "code",
      "metadata": {
        "colab": {
          "base_uri": "https://localhost:8080/"
        },
        "id": "hqkrDmi6d9gU",
        "outputId": "5f89cd9d-e4a6-453a-f8d3-b93c675e2eff"
      },
      "source": [
        "print(confusion_matrix(y_test,y_pred_pol_reg_test.round()))"
      ],
      "execution_count": null,
      "outputs": [
        {
          "output_type": "stream",
          "text": [
            "[[30  3  0  0  0]\n",
            " [ 0 20 18  3  0]\n",
            " [ 2 29  8  1  0]\n",
            " [ 0  0  2 30  0]\n",
            " [ 0  0  1  1 36]]\n"
          ],
          "name": "stdout"
        }
      ]
    },
    {
      "cell_type": "code",
      "metadata": {
        "colab": {
          "base_uri": "https://localhost:8080/"
        },
        "id": "No1A4aa-eDtD",
        "outputId": "14822ac5-14ca-4320-d70c-69526a64313a"
      },
      "source": [
        "print(classification_report(y_test,y_pred_pol_reg_test.round()))"
      ],
      "execution_count": null,
      "outputs": [
        {
          "output_type": "stream",
          "text": [
            "              precision    recall  f1-score   support\n",
            "\n",
            "           0       0.94      0.91      0.92        33\n",
            "           1       0.38      0.49      0.43        41\n",
            "           2       0.28      0.20      0.23        40\n",
            "           3       0.86      0.94      0.90        32\n",
            "           4       1.00      0.95      0.97        38\n",
            "\n",
            "    accuracy                           0.67       184\n",
            "   macro avg       0.69      0.70      0.69       184\n",
            "weighted avg       0.67      0.67      0.67       184\n",
            "\n"
          ],
          "name": "stdout"
        }
      ]
    },
    {
      "cell_type": "code",
      "metadata": {
        "colab": {
          "base_uri": "https://localhost:8080/"
        },
        "id": "cJupRqZseKA9",
        "outputId": "2ec05a19-d57c-47bd-9b06-5948c1c5ea70"
      },
      "source": [
        "accuracy_score(y_train,y_pred_pol_reg_train.round())"
      ],
      "execution_count": null,
      "outputs": [
        {
          "output_type": "execute_result",
          "data": {
            "text/plain": [
              "0.7364130434782609"
            ]
          },
          "metadata": {
            "tags": []
          },
          "execution_count": 532
        }
      ]
    },
    {
      "cell_type": "code",
      "metadata": {
        "colab": {
          "base_uri": "https://localhost:8080/"
        },
        "id": "S9Z535XUeSnb",
        "outputId": "3ba37eea-7c46-430c-e4c7-becaabd2ca74"
      },
      "source": [
        "print(confusion_matrix(y_train,y_pred_pol_reg_train.round()))"
      ],
      "execution_count": null,
      "outputs": [
        {
          "output_type": "stream",
          "text": [
            "[[121  11   1   0   0]\n",
            " [  0  81  70   5   0]\n",
            " [  7  75  49   7   0]\n",
            " [  0   0   2 124   4]\n",
            " [  0   1   4   7 167]]\n"
          ],
          "name": "stdout"
        }
      ]
    },
    {
      "cell_type": "code",
      "metadata": {
        "colab": {
          "base_uri": "https://localhost:8080/"
        },
        "id": "zgairBQUeYDD",
        "outputId": "9fbfb879-3f0d-4179-8215-631af0b4561d"
      },
      "source": [
        "print(classification_report(y_train,y_pred_pol_reg_train.round()))"
      ],
      "execution_count": null,
      "outputs": [
        {
          "output_type": "stream",
          "text": [
            "              precision    recall  f1-score   support\n",
            "\n",
            "           0       0.95      0.91      0.93       133\n",
            "           1       0.48      0.52      0.50       156\n",
            "           2       0.39      0.36      0.37       138\n",
            "           3       0.87      0.95      0.91       130\n",
            "           4       0.98      0.93      0.95       179\n",
            "\n",
            "    accuracy                           0.74       736\n",
            "   macro avg       0.73      0.73      0.73       736\n",
            "weighted avg       0.74      0.74      0.74       736\n",
            "\n"
          ],
          "name": "stdout"
        }
      ]
    },
    {
      "cell_type": "markdown",
      "metadata": {
        "id": "uz6Wn7roly_Y"
      },
      "source": [
        "***Random Forest Regressor***"
      ]
    },
    {
      "cell_type": "code",
      "metadata": {
        "id": "GJ2te5L5efEh"
      },
      "source": [
        "from sklearn.ensemble import RandomForestRegressor"
      ],
      "execution_count": null,
      "outputs": []
    },
    {
      "cell_type": "code",
      "metadata": {
        "id": "8WgTwqpll7hZ"
      },
      "source": [
        "rf_reg=RandomForestRegressor(max_depth=3,oob_score=True,n_jobs=-1,min_samples_leaf=0.1)"
      ],
      "execution_count": null,
      "outputs": []
    },
    {
      "cell_type": "code",
      "metadata": {
        "id": "bBbEZTjbm6gF"
      },
      "source": [
        "cv_rf_reg=KFold(n_splits=10,shuffle=True)"
      ],
      "execution_count": null,
      "outputs": []
    },
    {
      "cell_type": "code",
      "metadata": {
        "id": "BsOYDGB1nCPY"
      },
      "source": [
        "mse_cv_rf_reg=-cross_val_score(rf_reg,X_train,y_train,cv=cv_rf_reg,scoring='neg_mean_squared_error',n_jobs=-1)"
      ],
      "execution_count": null,
      "outputs": []
    },
    {
      "cell_type": "code",
      "metadata": {
        "colab": {
          "base_uri": "https://localhost:8080/"
        },
        "id": "tm3oVL1rnVI3",
        "outputId": "f5551cde-05f9-4d16-9455-139cd88154f6"
      },
      "source": [
        "rf_reg.fit(X_train,y_train)"
      ],
      "execution_count": null,
      "outputs": [
        {
          "output_type": "stream",
          "text": [
            "/usr/local/lib/python3.6/dist-packages/ipykernel_launcher.py:1: DataConversionWarning: A column-vector y was passed when a 1d array was expected. Please change the shape of y to (n_samples,), for example using ravel().\n",
            "  \"\"\"Entry point for launching an IPython kernel.\n"
          ],
          "name": "stderr"
        },
        {
          "output_type": "execute_result",
          "data": {
            "text/plain": [
              "RandomForestRegressor(bootstrap=True, ccp_alpha=0.0, criterion='mse',\n",
              "                      max_depth=3, max_features='auto', max_leaf_nodes=None,\n",
              "                      max_samples=None, min_impurity_decrease=0.0,\n",
              "                      min_impurity_split=None, min_samples_leaf=0.05,\n",
              "                      min_samples_split=2, min_weight_fraction_leaf=0.0,\n",
              "                      n_estimators=100, n_jobs=-1, oob_score=True,\n",
              "                      random_state=None, verbose=0, warm_start=False)"
            ]
          },
          "metadata": {
            "tags": []
          },
          "execution_count": 716
        }
      ]
    },
    {
      "cell_type": "code",
      "metadata": {
        "id": "lZAy0xSvnbpl"
      },
      "source": [
        "y_pred_rf_reg_train=rf_reg.predict(X_train)"
      ],
      "execution_count": null,
      "outputs": []
    },
    {
      "cell_type": "code",
      "metadata": {
        "colab": {
          "base_uri": "https://localhost:8080/"
        },
        "id": "W851nB4bnuiZ",
        "outputId": "d537f270-4349-4883-85c6-d58d68e97a8b"
      },
      "source": [
        "mse_rf_reg_train=mean_squared_error(y_train,y_pred_rf_reg_train)\n",
        "mse_rf_reg_train"
      ],
      "execution_count": null,
      "outputs": [
        {
          "output_type": "execute_result",
          "data": {
            "text/plain": [
              "0.14336848858016668"
            ]
          },
          "metadata": {
            "tags": []
          },
          "execution_count": 718
        }
      ]
    },
    {
      "cell_type": "code",
      "metadata": {
        "id": "HH7CxAh-n-5X"
      },
      "source": [
        "y_pred_rf_reg_test=rf_reg.predict(X_test)"
      ],
      "execution_count": null,
      "outputs": []
    },
    {
      "cell_type": "code",
      "metadata": {
        "colab": {
          "base_uri": "https://localhost:8080/"
        },
        "id": "M60zNFcsoGBN",
        "outputId": "b383bbc9-160a-460c-b871-5a1d5265a0a1"
      },
      "source": [
        "mse_rf_reg_test=mean_squared_error(y_test,y_pred_rf_reg_test)\n",
        "mse_rf_reg_test"
      ],
      "execution_count": null,
      "outputs": [
        {
          "output_type": "execute_result",
          "data": {
            "text/plain": [
              "0.12851449518681873"
            ]
          },
          "metadata": {
            "tags": []
          },
          "execution_count": 720
        }
      ]
    },
    {
      "cell_type": "code",
      "metadata": {
        "colab": {
          "base_uri": "https://localhost:8080/"
        },
        "id": "bZG1QFXpoO2H",
        "outputId": "c3d9562b-d146-411e-c553-690c92b85c79"
      },
      "source": [
        "mse_cv_rf_reg.mean()"
      ],
      "execution_count": null,
      "outputs": [
        {
          "output_type": "execute_result",
          "data": {
            "text/plain": [
              "0.14506639935226523"
            ]
          },
          "metadata": {
            "tags": []
          },
          "execution_count": 721
        }
      ]
    },
    {
      "cell_type": "code",
      "metadata": {
        "colab": {
          "base_uri": "https://localhost:8080/"
        },
        "id": "1FhxqhzooTii",
        "outputId": "df323fed-647f-4d62-c4de-1e0680e79274"
      },
      "source": [
        "rf_reg.score(X_test,y_test)"
      ],
      "execution_count": null,
      "outputs": [
        {
          "output_type": "execute_result",
          "data": {
            "text/plain": [
              "0.9337618288391167"
            ]
          },
          "metadata": {
            "tags": []
          },
          "execution_count": 722
        }
      ]
    },
    {
      "cell_type": "code",
      "metadata": {
        "colab": {
          "base_uri": "https://localhost:8080/"
        },
        "id": "1GFbEDshoXlw",
        "outputId": "fb554dfc-5e8b-41a5-f8f5-3385ed2f707a"
      },
      "source": [
        "accuracy_score(y_test,y_pred_rf_reg_test.round())"
      ],
      "execution_count": null,
      "outputs": [
        {
          "output_type": "execute_result",
          "data": {
            "text/plain": [
              "0.7771739130434783"
            ]
          },
          "metadata": {
            "tags": []
          },
          "execution_count": 723
        }
      ]
    },
    {
      "cell_type": "code",
      "metadata": {
        "colab": {
          "base_uri": "https://localhost:8080/"
        },
        "id": "efHhgYRpohdG",
        "outputId": "45ce713e-e61f-41ef-ee1a-2333b8c2b9d9"
      },
      "source": [
        "print(confusion_matrix(y_test,y_pred_rf_reg_test.round()))"
      ],
      "execution_count": null,
      "outputs": [
        {
          "output_type": "stream",
          "text": [
            "[[32  0  1  0  0]\n",
            " [ 0 41  0  0  0]\n",
            " [ 0 40  0  0  0]\n",
            " [ 0  0  0 32  0]\n",
            " [ 0  0  0  0 38]]\n"
          ],
          "name": "stdout"
        }
      ]
    },
    {
      "cell_type": "code",
      "metadata": {
        "colab": {
          "base_uri": "https://localhost:8080/"
        },
        "id": "EuZgxPmNolG-",
        "outputId": "80b19c4d-7eef-4366-9575-25bc5b3bfe5e"
      },
      "source": [
        "print(classification_report(y_test,y_pred_rf_reg_test.round()))"
      ],
      "execution_count": null,
      "outputs": [
        {
          "output_type": "stream",
          "text": [
            "              precision    recall  f1-score   support\n",
            "\n",
            "           0       1.00      0.97      0.98        33\n",
            "           1       0.51      1.00      0.67        41\n",
            "           2       0.00      0.00      0.00        40\n",
            "           3       1.00      1.00      1.00        32\n",
            "           4       1.00      1.00      1.00        38\n",
            "\n",
            "    accuracy                           0.78       184\n",
            "   macro avg       0.70      0.79      0.73       184\n",
            "weighted avg       0.67      0.78      0.71       184\n",
            "\n"
          ],
          "name": "stdout"
        }
      ]
    },
    {
      "cell_type": "code",
      "metadata": {
        "colab": {
          "base_uri": "https://localhost:8080/"
        },
        "id": "0F6s-ja4ooxk",
        "outputId": "3f6eb22b-dfcc-4d6f-d53b-c3d5b581fac8"
      },
      "source": [
        "accuracy_score(y_train,y_pred_rf_reg_train.round())"
      ],
      "execution_count": null,
      "outputs": [
        {
          "output_type": "execute_result",
          "data": {
            "text/plain": [
              "0.8070652173913043"
            ]
          },
          "metadata": {
            "tags": []
          },
          "execution_count": 726
        }
      ]
    },
    {
      "cell_type": "code",
      "metadata": {
        "colab": {
          "base_uri": "https://localhost:8080/"
        },
        "id": "v67sFKppowsY",
        "outputId": "3e0a4c71-4438-4248-9856-2214e9aaf72d"
      },
      "source": [
        "print(confusion_matrix(y_train,y_pred_rf_reg_train.round()))"
      ],
      "execution_count": null,
      "outputs": [
        {
          "output_type": "stream",
          "text": [
            "[[132   0   0   1   0]\n",
            " [  0 155   0   0   1]\n",
            " [  2 136   0   0   0]\n",
            " [  0   0   0 130   0]\n",
            " [  0   1   0   1 177]]\n"
          ],
          "name": "stdout"
        }
      ]
    },
    {
      "cell_type": "code",
      "metadata": {
        "colab": {
          "base_uri": "https://localhost:8080/"
        },
        "id": "IwDnp98co01A",
        "outputId": "6564ecc3-0ed7-4cea-902d-4720c006e67e"
      },
      "source": [
        "print(classification_report(y_train,y_pred_rf_reg_train.round()))"
      ],
      "execution_count": null,
      "outputs": [
        {
          "output_type": "stream",
          "text": [
            "              precision    recall  f1-score   support\n",
            "\n",
            "           0       0.99      0.99      0.99       133\n",
            "           1       0.53      0.99      0.69       156\n",
            "           2       0.00      0.00      0.00       138\n",
            "           3       0.98      1.00      0.99       130\n",
            "           4       0.99      0.99      0.99       179\n",
            "\n",
            "    accuracy                           0.81       736\n",
            "   macro avg       0.70      0.79      0.73       736\n",
            "weighted avg       0.71      0.81      0.74       736\n",
            "\n"
          ],
          "name": "stdout"
        },
        {
          "output_type": "stream",
          "text": [
            "/usr/local/lib/python3.6/dist-packages/sklearn/metrics/_classification.py:1272: UndefinedMetricWarning: Precision and F-score are ill-defined and being set to 0.0 in labels with no predicted samples. Use `zero_division` parameter to control this behavior.\n",
            "  _warn_prf(average, modifier, msg_start, len(result))\n"
          ],
          "name": "stderr"
        }
      ]
    },
    {
      "cell_type": "markdown",
      "metadata": {
        "id": "_OQg4anGFjpg"
      },
      "source": [
        "### ***Summary***"
      ]
    },
    {
      "cell_type": "code",
      "metadata": {
        "colab": {
          "base_uri": "https://localhost:8080/"
        },
        "id": "831_NREHo62Y",
        "outputId": "87bc996c-b682-4d09-d897-41132c1aa8b1"
      },
      "source": [
        "summary={\n",
        "    'Algorithm Name':['Multiple Linear Regresson','Decision Tree Regressor','Lasso','Ridge','Polynominal Regression','Random Forest Regressor'],\n",
        "    'Train Accuracy':[0.14,0.85,0.19,0.18,0.74,0.81],\n",
        "    'Test Accuracy':[0.13,0.83,0.22,0.22,0.67,0.78]\n",
        "}\n",
        "\n",
        "df_summary=pd.DataFrame(summary,index=['Model:1','Model:2','Model:3','Model:4','Model:5','Model:6'])\n",
        "print(\"So the summary of my regression analysis is:\\n\")\n",
        "print(df_summary)"
      ],
      "execution_count": null,
      "outputs": [
        {
          "output_type": "stream",
          "text": [
            "So the summary of my regression analysis is:\n",
            "\n",
            "                    Algorithm Name  Train Accuracy  Test Accuracy\n",
            "Model:1  Multiple Linear Regresson            0.14           0.13\n",
            "Model:2    Decision Tree Regressor            0.85           0.83\n",
            "Model:3                      Lasso            0.19           0.22\n",
            "Model:4                      Ridge            0.18           0.22\n",
            "Model:5     Polynominal Regression            0.74           0.67\n",
            "Model:6    Random Forest Regressor            0.81           0.78\n"
          ],
          "name": "stdout"
        }
      ]
    },
    {
      "cell_type": "markdown",
      "metadata": {
        "id": "nA0svRwbvnKH"
      },
      "source": [
        "So best 3 algorithms are: **Model:2** *>* **Model:6** *>* **Model:5**"
      ]
    }
  ]
}