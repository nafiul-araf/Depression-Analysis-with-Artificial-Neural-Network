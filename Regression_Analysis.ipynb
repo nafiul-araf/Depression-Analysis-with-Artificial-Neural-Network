{
  "nbformat": 4,
  "nbformat_minor": 0,
  "metadata": {
    "colab": {
      "name": "Regression_Analysis.ipynb",
      "provenance": [],
      "include_colab_link": true
    },
    "kernelspec": {
      "display_name": "Python 3",
      "language": "python",
      "name": "python3"
    },
    "language_info": {
      "codemirror_mode": {
        "name": "ipython",
        "version": 3
      },
      "file_extension": ".py",
      "mimetype": "text/x-python",
      "name": "python",
      "nbconvert_exporter": "python",
      "pygments_lexer": "ipython3",
      "version": "3.8.3"
    }
  },
  "cells": [
    {
      "cell_type": "markdown",
      "metadata": {
        "id": "view-in-github",
        "colab_type": "text"
      },
      "source": [
        "<a href=\"https://colab.research.google.com/github/nafiul-araf/Lab-work/blob/main/Regression_Analysis.ipynb\" target=\"_parent\"><img src=\"https://colab.research.google.com/assets/colab-badge.svg\" alt=\"Open In Colab\"/></a>"
      ]
    },
    {
      "cell_type": "markdown",
      "metadata": {
        "id": "mRSwP7kdh7no"
      },
      "source": [
        "### ***Loading The Data***"
      ]
    },
    {
      "cell_type": "code",
      "metadata": {
        "colab": {
          "base_uri": "https://localhost:8080/"
        },
        "id": "86qcznauh5Qg",
        "outputId": "c8727eb2-cf7e-4c42-ff42-00854b0c7be5"
      },
      "source": [
        "import pandas as pd\n",
        "import numpy as np\n",
        "\n",
        "from google.colab import drive\n",
        "drive.mount('/content/gdrive')"
      ],
      "execution_count": 6,
      "outputs": [
        {
          "output_type": "stream",
          "text": [
            "Drive already mounted at /content/gdrive; to attempt to forcibly remount, call drive.mount(\"/content/gdrive\", force_remount=True).\n"
          ],
          "name": "stdout"
        }
      ]
    },
    {
      "cell_type": "code",
      "metadata": {
        "id": "Xc8K0Q1t-TWR"
      },
      "source": [
        "df=pd.read_csv('/content/gdrive/MyDrive/CSE-464(Project)/Copy of Depression and Happiness Factor Analysis.csv')"
      ],
      "execution_count": 7,
      "outputs": []
    },
    {
      "cell_type": "code",
      "metadata": {
        "id": "CrMb2FcBIGAI"
      },
      "source": [
        "#df.head()"
      ],
      "execution_count": 8,
      "outputs": []
    },
    {
      "cell_type": "code",
      "metadata": {
        "colab": {
          "base_uri": "https://localhost:8080/"
        },
        "id": "pD9HLmyK-nUr",
        "outputId": "e48e5cf9-ebfe-4c18-e969-f7640b59097a"
      },
      "source": [
        "df.shape"
      ],
      "execution_count": 9,
      "outputs": [
        {
          "output_type": "execute_result",
          "data": {
            "text/plain": [
              "(920, 21)"
            ]
          },
          "metadata": {
            "tags": []
          },
          "execution_count": 9
        }
      ]
    },
    {
      "cell_type": "markdown",
      "metadata": {
        "id": "FQWqjUaEiRW5"
      },
      "source": [
        "### ***Feature Extraction for Preparing The Data***"
      ]
    },
    {
      "cell_type": "code",
      "metadata": {
        "colab": {
          "base_uri": "https://localhost:8080/"
        },
        "id": "PTntdYBE-o0k",
        "outputId": "ec52061e-f5d6-4314-f426-e6383973c39b"
      },
      "source": [
        "df=df.drop(['Timestamp','Unnamed: 20'],axis=1)\n",
        "df.shape"
      ],
      "execution_count": 10,
      "outputs": [
        {
          "output_type": "execute_result",
          "data": {
            "text/plain": [
              "(920, 19)"
            ]
          },
          "metadata": {
            "tags": []
          },
          "execution_count": 10
        }
      ]
    },
    {
      "cell_type": "code",
      "metadata": {
        "id": "r1gELdoc-81z"
      },
      "source": [
        "df=df.set_index('Which year are you in?')\n",
        "#df.head()"
      ],
      "execution_count": 11,
      "outputs": []
    },
    {
      "cell_type": "code",
      "metadata": {
        "colab": {
          "base_uri": "https://localhost:8080/"
        },
        "id": "UO8Ig1rt_Gmm",
        "outputId": "a21bd361-89eb-44e1-9979-df9d7f05e16f"
      },
      "source": [
        "df.isnull().sum()"
      ],
      "execution_count": 12,
      "outputs": [
        {
          "output_type": "execute_result",
          "data": {
            "text/plain": [
              "How are you feeling right now?                                                                  0\n",
              "On a scale of 1-100, how would you express this feeling?                                        0\n",
              "Gender                                                                                          0\n",
              "Age                                                                                             0\n",
              "Your location ?                                                                                 0\n",
              "Relationship status                                                                             0\n",
              "Are you happy with your financial state?                                                        0\n",
              "How much have you succeeded to cope up with the environment of your educational institution?    0\n",
              "Understanding with your family members?                                                         0\n",
              "Are you feeling pressure in your study or work right now?                                       0\n",
              "Are you satisfied with your academic result?                                                    0\n",
              "Are you happy with your living place?                                                           0\n",
              "Who supports you when you are not succeeding in your academic life?                             0\n",
              "Have you used any social media within the last 6 hours?                                         0\n",
              "Are you satisfied with your meal today?                                                         0\n",
              "Are you feeling sick/health issues today?                                                       0\n",
              "Have you done any recreational activity (sports, gaming, hobby etc.) today?                     0\n",
              "How long did you sleep last night?(in hours)                                                    0\n",
              "dtype: int64"
            ]
          },
          "metadata": {
            "tags": []
          },
          "execution_count": 12
        }
      ]
    },
    {
      "cell_type": "code",
      "metadata": {
        "id": "SERtC3WV_iUb"
      },
      "source": [
        "#df.head(1)"
      ],
      "execution_count": 13,
      "outputs": []
    },
    {
      "cell_type": "code",
      "metadata": {
        "colab": {
          "base_uri": "https://localhost:8080/"
        },
        "id": "X5Skrp6O_sWw",
        "outputId": "f1461d00-280e-4ea0-8e2c-940bc1086dbe"
      },
      "source": [
        "df.shape"
      ],
      "execution_count": 14,
      "outputs": [
        {
          "output_type": "execute_result",
          "data": {
            "text/plain": [
              "(920, 18)"
            ]
          },
          "metadata": {
            "tags": []
          },
          "execution_count": 14
        }
      ]
    },
    {
      "cell_type": "code",
      "metadata": {
        "id": "Vw3-N7xN_vfy"
      },
      "source": [
        "df_numeric=df.drop(df.iloc[:, [0,2,4,5,6,8,9,10,11,12,13,14,15,16]],axis=1)\n",
        "#df_numeric.head(1)"
      ],
      "execution_count": 15,
      "outputs": []
    },
    {
      "cell_type": "code",
      "metadata": {
        "id": "2TD1VcjnBKz3"
      },
      "source": [
        "df_non_numeric=df.drop(df.iloc[:, [1,3,7,17]],axis=1)\n",
        "#df_non_numeric.head(1)"
      ],
      "execution_count": 16,
      "outputs": []
    },
    {
      "cell_type": "code",
      "metadata": {
        "id": "xx1s1jKyBaWG"
      },
      "source": [
        "from sklearn.preprocessing import LabelEncoder\n",
        "le=LabelEncoder()"
      ],
      "execution_count": 17,
      "outputs": []
    },
    {
      "cell_type": "code",
      "metadata": {
        "id": "-1BM6_yoBlxa"
      },
      "source": [
        "encode=df_non_numeric.apply(le.fit_transform)\n",
        "#encode.head()"
      ],
      "execution_count": 18,
      "outputs": []
    },
    {
      "cell_type": "code",
      "metadata": {
        "id": "BFo1-rKbBta1"
      },
      "source": [
        "df_final=pd.concat([encode,df_numeric],axis=1)\n",
        "#df_final.head(3)"
      ],
      "execution_count": 19,
      "outputs": []
    },
    {
      "cell_type": "code",
      "metadata": {
        "colab": {
          "base_uri": "https://localhost:8080/"
        },
        "id": "4w9XGnKBCD6T",
        "outputId": "40f9bb38-cd2c-439e-b7ec-82ca149277c2"
      },
      "source": [
        "df_final.shape"
      ],
      "execution_count": 20,
      "outputs": [
        {
          "output_type": "execute_result",
          "data": {
            "text/plain": [
              "(920, 18)"
            ]
          },
          "metadata": {
            "tags": []
          },
          "execution_count": 20
        }
      ]
    },
    {
      "cell_type": "markdown",
      "metadata": {
        "id": "CZMBqAaIjFCN"
      },
      "source": [
        "### ***Feature Selection***"
      ]
    },
    {
      "cell_type": "code",
      "metadata": {
        "id": "w-djLq0FCGqr"
      },
      "source": [
        "X=df_final.drop('How are you feeling right now?',axis=1)\n",
        "y=df_final['How are you feeling right now?']"
      ],
      "execution_count": 21,
      "outputs": []
    },
    {
      "cell_type": "code",
      "metadata": {
        "id": "g6qVj2u2CdIX"
      },
      "source": [
        "from sklearn.feature_selection import mutual_info_regression"
      ],
      "execution_count": 22,
      "outputs": []
    },
    {
      "cell_type": "code",
      "metadata": {
        "id": "O5HxMy9lCk9w"
      },
      "source": [
        "importance=mutual_info_regression(X,y)"
      ],
      "execution_count": 23,
      "outputs": []
    },
    {
      "cell_type": "code",
      "metadata": {
        "id": "BXqIn_WlCqyq"
      },
      "source": [
        "feat_imp=pd.Series(importance,df_final.columns[0:len(df_final.columns)-1])"
      ],
      "execution_count": 24,
      "outputs": []
    },
    {
      "cell_type": "code",
      "metadata": {
        "id": "76QWcrmtC2D0"
      },
      "source": [
        "from matplotlib import pyplot as plt\n",
        "%matplotlib inline"
      ],
      "execution_count": 25,
      "outputs": []
    },
    {
      "cell_type": "code",
      "metadata": {
        "colab": {
          "base_uri": "https://localhost:8080/",
          "height": 457
        },
        "id": "dK2PHEnnCxNE",
        "outputId": "740584e3-f48f-48e0-9e13-762fabf6f4df"
      },
      "source": [
        "feat_imp.sort_values(ascending=False).plot(kind='barh',color='teal',figsize=(20,10))\n",
        "plt.show()"
      ],
      "execution_count": 26,
      "outputs": [
        {
          "output_type": "display_data",
          "data": {
            "image/png": "[encoded data removed]",
            "text/plain": [
              "<Figure size 1440x720 with 1 Axes>"
            ]
          },
          "metadata": {
            "tags": [],
            "needs_background": "light"
          }
        }
      ]
    },
    {
      "cell_type": "code",
      "metadata": {
        "id": "MKpjb2JkDMFX"
      },
      "source": [
        "from sklearn.feature_selection import SelectPercentile"
      ],
      "execution_count": 27,
      "outputs": []
    },
    {
      "cell_type": "code",
      "metadata": {
        "id": "VhQmKUDMDVad"
      },
      "source": [
        "selection=SelectPercentile(mutual_info_regression,percentile=30)"
      ],
      "execution_count": 28,
      "outputs": []
    },
    {
      "cell_type": "code",
      "metadata": {
        "colab": {
          "base_uri": "https://localhost:8080/"
        },
        "id": "qkq4rlmyDgLh",
        "outputId": "17c44910-aaeb-4cdf-80e6-0bcf92d14904"
      },
      "source": [
        "selection.fit(X,y)"
      ],
      "execution_count": 29,
      "outputs": [
        {
          "output_type": "execute_result",
          "data": {
            "text/plain": [
              "SelectPercentile(percentile=30,\n",
              "                 score_func=<function mutual_info_regression at 0x7f2b77b26bf8>)"
            ]
          },
          "metadata": {
            "tags": []
          },
          "execution_count": 29
        }
      ]
    },
    {
      "cell_type": "code",
      "metadata": {
        "colab": {
          "base_uri": "https://localhost:8080/"
        },
        "id": "cRPbSPo0DkgC",
        "outputId": "c053b076-e435-4315-f943-e639e06aee86"
      },
      "source": [
        "X.columns[selection.get_support()]"
      ],
      "execution_count": 30,
      "outputs": [
        {
          "output_type": "execute_result",
          "data": {
            "text/plain": [
              "Index(['Your location ?',\n",
              "       'Are you feeling pressure in your study or work right now?',\n",
              "       'Are you satisfied with your meal today?',\n",
              "       'On a scale of 1-100, how would you express this feeling?',\n",
              "       'How long did you sleep last night?(in hours)'],\n",
              "      dtype='object')"
            ]
          },
          "metadata": {
            "tags": []
          },
          "execution_count": 30
        }
      ]
    },
    {
      "cell_type": "markdown",
      "metadata": {
        "id": "N3LRbn2yjNTg"
      },
      "source": [
        "### ***Regresson Models***"
      ]
    },
    {
      "cell_type": "markdown",
      "metadata": {
        "id": "1gpWK7A2jZcC"
      },
      "source": [
        "Here I have used: \n",
        "\n",
        "*   Linear Regression (Multiple)\n",
        "*   Decision Tree Regressor\n",
        "*   Lasso\n",
        "*   Ridge\n",
        "*   Polynominal Regression\n",
        "*   Random Forest Regressor\n",
        "\n"
      ]
    },
    {
      "cell_type": "code",
      "metadata": {
        "id": "oTLT_bGqDxGV"
      },
      "source": [
        "X_new=df_final[['Your location ?','Are you feeling pressure in your study or work right now?','Are you satisfied with your meal today?','On a scale of 1-100, how would you express this feeling?','How long did you sleep last night?(in hours)']]\n",
        "y_new=df_final[['How are you feeling right now?']]"
      ],
      "execution_count": 31,
      "outputs": []
    },
    {
      "cell_type": "code",
      "metadata": {
        "id": "9kcrKIK2FP0h"
      },
      "source": [
        "from sklearn.model_selection import train_test_split,cross_val_score,KFold"
      ],
      "execution_count": 32,
      "outputs": []
    },
    {
      "cell_type": "markdown",
      "metadata": {
        "id": "HAFNNsjjkgJB"
      },
      "source": [
        "***Multiple Linear Regression***"
      ]
    },
    {
      "cell_type": "code",
      "metadata": {
        "id": "ZoxoO-MZF3Ly"
      },
      "source": [
        "from sklearn.linear_model import LinearRegression"
      ],
      "execution_count": 33,
      "outputs": []
    },
    {
      "cell_type": "code",
      "metadata": {
        "id": "gd_lhfy3GC6H"
      },
      "source": [
        "X_train,X_test,y_train,y_test=train_test_split(X_new,y_new,test_size=0.2,random_state=10)"
      ],
      "execution_count": 34,
      "outputs": []
    },
    {
      "cell_type": "code",
      "metadata": {
        "id": "X4MxPlNZGTsj"
      },
      "source": [
        "cv=KFold(n_splits=10,shuffle=True,random_state=10)"
      ],
      "execution_count": 35,
      "outputs": []
    },
    {
      "cell_type": "code",
      "metadata": {
        "id": "WF8MNNa8G23s"
      },
      "source": [
        "lin=LinearRegression()"
      ],
      "execution_count": 36,
      "outputs": []
    },
    {
      "cell_type": "code",
      "metadata": {
        "id": "swL3i7xMG6lJ"
      },
      "source": [
        "mse_cv=-cross_val_score(lin,X_train,y_train,cv=cv,scoring='neg_mean_squared_error',n_jobs=-1)"
      ],
      "execution_count": 37,
      "outputs": []
    },
    {
      "cell_type": "code",
      "metadata": {
        "colab": {
          "base_uri": "https://localhost:8080/"
        },
        "id": "eOfaOR0mHd5E",
        "outputId": "8ac72937-85ae-4af2-86e6-11b20084829b"
      },
      "source": [
        "lin.fit(X_train,y_train)"
      ],
      "execution_count": 38,
      "outputs": [
        {
          "output_type": "execute_result",
          "data": {
            "text/plain": [
              "LinearRegression(copy_X=True, fit_intercept=True, n_jobs=None, normalize=False)"
            ]
          },
          "metadata": {
            "tags": []
          },
          "execution_count": 38
        }
      ]
    },
    {
      "cell_type": "code",
      "metadata": {
        "id": "cYiJnbUAHnM-"
      },
      "source": [
        "y_pred_train=lin.predict(X_train)"
      ],
      "execution_count": 39,
      "outputs": []
    },
    {
      "cell_type": "code",
      "metadata": {
        "id": "ki4yJE0OH7q7"
      },
      "source": [
        "from sklearn.metrics import mean_squared_error,accuracy_score,confusion_matrix,classification_report"
      ],
      "execution_count": 40,
      "outputs": []
    },
    {
      "cell_type": "code",
      "metadata": {
        "colab": {
          "base_uri": "https://localhost:8080/"
        },
        "id": "wiltHQMXHwus",
        "outputId": "afed9142-f307-4859-a66b-69f3959aef85"
      },
      "source": [
        "mse_train=mean_squared_error(y_train,y_pred_train)\n",
        "mse_train"
      ],
      "execution_count": 41,
      "outputs": [
        {
          "output_type": "execute_result",
          "data": {
            "text/plain": [
              "1.4310469531377132"
            ]
          },
          "metadata": {
            "tags": []
          },
          "execution_count": 41
        }
      ]
    },
    {
      "cell_type": "code",
      "metadata": {
        "id": "NZ-u2CqPIIaB"
      },
      "source": [
        "y_pred_test=lin.predict(X_test)"
      ],
      "execution_count": 42,
      "outputs": []
    },
    {
      "cell_type": "code",
      "metadata": {
        "colab": {
          "base_uri": "https://localhost:8080/"
        },
        "id": "hLjnNUmKISmF",
        "outputId": "144e783c-10c4-4c63-d2c4-05f13a52418f"
      },
      "source": [
        "mse_test=mean_squared_error(y_test,y_pred_test)\n",
        "mse_test"
      ],
      "execution_count": 43,
      "outputs": [
        {
          "output_type": "execute_result",
          "data": {
            "text/plain": [
              "1.5311010333011388"
            ]
          },
          "metadata": {
            "tags": []
          },
          "execution_count": 43
        }
      ]
    },
    {
      "cell_type": "code",
      "metadata": {
        "colab": {
          "base_uri": "https://localhost:8080/"
        },
        "id": "waw6ADAGIYn3",
        "outputId": "1479cc90-49ac-4cb3-cd38-f663f2d3bffb"
      },
      "source": [
        "mse_cv.mean()"
      ],
      "execution_count": 44,
      "outputs": [
        {
          "output_type": "execute_result",
          "data": {
            "text/plain": [
              "1.457810893201323"
            ]
          },
          "metadata": {
            "tags": []
          },
          "execution_count": 44
        }
      ]
    },
    {
      "cell_type": "code",
      "metadata": {
        "colab": {
          "base_uri": "https://localhost:8080/"
        },
        "id": "S_ObxrSBIeQL",
        "outputId": "15dabab9-a1bb-43ea-92c0-7b5cf4da50da"
      },
      "source": [
        "lin.score(X_test,y_test)"
      ],
      "execution_count": 45,
      "outputs": [
        {
          "output_type": "execute_result",
          "data": {
            "text/plain": [
              "0.2108490784562643"
            ]
          },
          "metadata": {
            "tags": []
          },
          "execution_count": 45
        }
      ]
    },
    {
      "cell_type": "code",
      "metadata": {
        "colab": {
          "base_uri": "https://localhost:8080/"
        },
        "id": "qNxTlxRtR9iG",
        "outputId": "e8f4c6c0-f001-47a2-9a6e-df044492c86f"
      },
      "source": [
        "accuracy_score(y_test,y_pred_test.round())"
      ],
      "execution_count": 46,
      "outputs": [
        {
          "output_type": "execute_result",
          "data": {
            "text/plain": [
              "0.13043478260869565"
            ]
          },
          "metadata": {
            "tags": []
          },
          "execution_count": 46
        }
      ]
    },
    {
      "cell_type": "code",
      "metadata": {
        "colab": {
          "base_uri": "https://localhost:8080/"
        },
        "id": "BqX_YoKYR9me",
        "outputId": "8d18400b-ccbd-48ff-d128-6383abc38e21"
      },
      "source": [
        "print(confusion_matrix(y_test,y_pred_test.round()))"
      ],
      "execution_count": 47,
      "outputs": [
        {
          "output_type": "stream",
          "text": [
            "[[ 0 14 17  2  0]\n",
            " [ 0  7 20 13  1]\n",
            " [ 0 22 16  2  0]\n",
            " [ 0 10 20  1  1]\n",
            " [ 0  0  3 35  0]]\n"
          ],
          "name": "stdout"
        }
      ]
    },
    {
      "cell_type": "code",
      "metadata": {
        "colab": {
          "base_uri": "https://localhost:8080/"
        },
        "id": "jBGoN3zhR9sP",
        "outputId": "5a64dd9e-d652-42ea-d694-0f5768ccf7fa"
      },
      "source": [
        "print(classification_report(y_test,y_pred_test.round()))"
      ],
      "execution_count": 48,
      "outputs": [
        {
          "output_type": "stream",
          "text": [
            "              precision    recall  f1-score   support\n",
            "\n",
            "           0       0.00      0.00      0.00        33\n",
            "           1       0.13      0.17      0.15        41\n",
            "           2       0.21      0.40      0.28        40\n",
            "           3       0.02      0.03      0.02        32\n",
            "           4       0.00      0.00      0.00        38\n",
            "\n",
            "    accuracy                           0.13       184\n",
            "   macro avg       0.07      0.12      0.09       184\n",
            "weighted avg       0.08      0.13      0.10       184\n",
            "\n"
          ],
          "name": "stdout"
        },
        {
          "output_type": "stream",
          "text": [
            "/usr/local/lib/python3.6/dist-packages/sklearn/metrics/_classification.py:1272: UndefinedMetricWarning: Precision and F-score are ill-defined and being set to 0.0 in labels with no predicted samples. Use `zero_division` parameter to control this behavior.\n",
            "  _warn_prf(average, modifier, msg_start, len(result))\n"
          ],
          "name": "stderr"
        }
      ]
    },
    {
      "cell_type": "code",
      "metadata": {
        "colab": {
          "base_uri": "https://localhost:8080/"
        },
        "id": "6byrmiVOR9xz",
        "outputId": "6828fc99-841b-4fae-fedb-14192b903598"
      },
      "source": [
        "accuracy_score(y_train,y_pred_train.round())"
      ],
      "execution_count": 49,
      "outputs": [
        {
          "output_type": "execute_result",
          "data": {
            "text/plain": [
              "0.14402173913043478"
            ]
          },
          "metadata": {
            "tags": []
          },
          "execution_count": 49
        }
      ]
    },
    {
      "cell_type": "code",
      "metadata": {
        "colab": {
          "base_uri": "https://localhost:8080/"
        },
        "id": "usNN2SrlR92z",
        "outputId": "ca00b2db-7097-4a64-b32c-e7464556a8d2"
      },
      "source": [
        "print(confusion_matrix(y_train,y_pred_train.round()))"
      ],
      "execution_count": 50,
      "outputs": [
        {
          "output_type": "stream",
          "text": [
            "[[  0  62  67   4   0]\n",
            " [  0  29  76  50   1]\n",
            " [  0  61  63  13   1]\n",
            " [  1  38  81  10   0]\n",
            " [  0   0  13 162   4]]\n"
          ],
          "name": "stdout"
        }
      ]
    },
    {
      "cell_type": "code",
      "metadata": {
        "colab": {
          "base_uri": "https://localhost:8080/"
        },
        "id": "nNbIE80UR96L",
        "outputId": "819ac47f-1321-4113-bcd0-959beb67e880"
      },
      "source": [
        "print(classification_report(y_train,y_pred_train.round()))"
      ],
      "execution_count": 51,
      "outputs": [
        {
          "output_type": "stream",
          "text": [
            "              precision    recall  f1-score   support\n",
            "\n",
            "           0       0.00      0.00      0.00       133\n",
            "           1       0.15      0.19      0.17       156\n",
            "           2       0.21      0.46      0.29       138\n",
            "           3       0.04      0.08      0.05       130\n",
            "           4       0.67      0.02      0.04       179\n",
            "\n",
            "    accuracy                           0.14       736\n",
            "   macro avg       0.21      0.15      0.11       736\n",
            "weighted avg       0.24      0.14      0.11       736\n",
            "\n"
          ],
          "name": "stdout"
        }
      ]
    },
    {
      "cell_type": "markdown",
      "metadata": {
        "id": "FNU0dGXmkpxo"
      },
      "source": [
        "***Decision Tree Regressor***"
      ]
    },
    {
      "cell_type": "code",
      "metadata": {
        "id": "499pizL4I0gr"
      },
      "source": [
        "from sklearn.tree import DecisionTreeRegressor"
      ],
      "execution_count": 52,
      "outputs": []
    },
    {
      "cell_type": "code",
      "metadata": {
        "id": "iikX3wVNKeoV"
      },
      "source": [
        "dt_reg=DecisionTreeRegressor(max_depth=4,min_samples_leaf=0.17)"
      ],
      "execution_count": 53,
      "outputs": []
    },
    {
      "cell_type": "code",
      "metadata": {
        "id": "UI-JYFg9Koz1"
      },
      "source": [
        "cv_r=KFold(n_splits=10,shuffle=True)"
      ],
      "execution_count": 54,
      "outputs": []
    },
    {
      "cell_type": "code",
      "metadata": {
        "id": "7ZJI2BYuKrED"
      },
      "source": [
        "cv_mse=-cross_val_score(dt_reg,X_train,y_train,cv=cv_r,scoring='neg_mean_squared_error',n_jobs=-1)"
      ],
      "execution_count": 55,
      "outputs": []
    },
    {
      "cell_type": "code",
      "metadata": {
        "colab": {
          "base_uri": "https://localhost:8080/"
        },
        "id": "Lpvt10ZuLBkl",
        "outputId": "991b4e87-2b79-41be-8d8c-a275ce67b9db"
      },
      "source": [
        "dt_reg.fit(X_train,y_train)"
      ],
      "execution_count": 56,
      "outputs": [
        {
          "output_type": "execute_result",
          "data": {
            "text/plain": [
              "DecisionTreeRegressor(ccp_alpha=0.0, criterion='mse', max_depth=4,\n",
              "                      max_features=None, max_leaf_nodes=None,\n",
              "                      min_impurity_decrease=0.0, min_impurity_split=None,\n",
              "                      min_samples_leaf=0.17, min_samples_split=2,\n",
              "                      min_weight_fraction_leaf=0.0, presort='deprecated',\n",
              "                      random_state=None, splitter='best')"
            ]
          },
          "metadata": {
            "tags": []
          },
          "execution_count": 56
        }
      ]
    },
    {
      "cell_type": "code",
      "metadata": {
        "id": "suGudx8lLGnY"
      },
      "source": [
        "y_pred_dt_reg_train=dt_reg.predict(X_train)"
      ],
      "execution_count": 57,
      "outputs": []
    },
    {
      "cell_type": "code",
      "metadata": {
        "colab": {
          "base_uri": "https://localhost:8080/"
        },
        "id": "elpUTNexLQ0_",
        "outputId": "9e96da0b-713d-42e0-f98d-0d3e33a64035"
      },
      "source": [
        "train_mse=mean_squared_error(y_train,y_pred_dt_reg_train)\n",
        "train_mse"
      ],
      "execution_count": 58,
      "outputs": [
        {
          "output_type": "execute_result",
          "data": {
            "text/plain": [
              "0.1368040304006844"
            ]
          },
          "metadata": {
            "tags": []
          },
          "execution_count": 58
        }
      ]
    },
    {
      "cell_type": "code",
      "metadata": {
        "id": "TYUhVcVFLZM7"
      },
      "source": [
        "y_pred_dt_reg_test=dt_reg.predict(X_test)"
      ],
      "execution_count": 59,
      "outputs": []
    },
    {
      "cell_type": "code",
      "metadata": {
        "colab": {
          "base_uri": "https://localhost:8080/"
        },
        "id": "sVrpe1hCLgWD",
        "outputId": "16085b89-5c66-4749-c2ea-275c985ce7d4"
      },
      "source": [
        "test_mse=mean_squared_error(y_test,y_pred_dt_reg_test)\n",
        "test_mse"
      ],
      "execution_count": 60,
      "outputs": [
        {
          "output_type": "execute_result",
          "data": {
            "text/plain": [
              "0.15248375507914633"
            ]
          },
          "metadata": {
            "tags": []
          },
          "execution_count": 60
        }
      ]
    },
    {
      "cell_type": "code",
      "metadata": {
        "colab": {
          "base_uri": "https://localhost:8080/"
        },
        "id": "E8ibaFngLnUC",
        "outputId": "ba521a63-7a7c-4431-92dd-f36b05f8abb8"
      },
      "source": [
        "cv_mse.mean()"
      ],
      "execution_count": 61,
      "outputs": [
        {
          "output_type": "execute_result",
          "data": {
            "text/plain": [
              "0.1370289018608209"
            ]
          },
          "metadata": {
            "tags": []
          },
          "execution_count": 61
        }
      ]
    },
    {
      "cell_type": "code",
      "metadata": {
        "colab": {
          "base_uri": "https://localhost:8080/"
        },
        "id": "CB6atYZ1LtbP",
        "outputId": "5cdc2e8f-bb68-47ac-f587-044bc07136cf"
      },
      "source": [
        "dt_reg.score(X_test,y_test)"
      ],
      "execution_count": 62,
      "outputs": [
        {
          "output_type": "execute_result",
          "data": {
            "text/plain": [
              "0.9214077365086002"
            ]
          },
          "metadata": {
            "tags": []
          },
          "execution_count": 62
        }
      ]
    },
    {
      "cell_type": "code",
      "metadata": {
        "colab": {
          "base_uri": "https://localhost:8080/"
        },
        "id": "ecREE8_5P8V3",
        "outputId": "406b80f4-25bc-470f-d743-453b88ce2ab0"
      },
      "source": [
        "accuracy_score(y_test,y_pred_dt_reg_test.round())"
      ],
      "execution_count": 63,
      "outputs": [
        {
          "output_type": "execute_result",
          "data": {
            "text/plain": [
              "0.8260869565217391"
            ]
          },
          "metadata": {
            "tags": []
          },
          "execution_count": 63
        }
      ]
    },
    {
      "cell_type": "code",
      "metadata": {
        "colab": {
          "base_uri": "https://localhost:8080/"
        },
        "id": "irc9MXrxP8gS",
        "outputId": "a67fc44d-e0ee-40b9-dee8-d26c505c34f2"
      },
      "source": [
        "print(confusion_matrix(y_test,y_pred_dt_reg_test.round()))"
      ],
      "execution_count": 64,
      "outputs": [
        {
          "output_type": "stream",
          "text": [
            "[[32  0  0  1  0]\n",
            " [ 0 22 19  0  0]\n",
            " [ 0 12 28  0  0]\n",
            " [ 0  0  0 32  0]\n",
            " [ 0  0  0  0 38]]\n"
          ],
          "name": "stdout"
        }
      ]
    },
    {
      "cell_type": "code",
      "metadata": {
        "colab": {
          "base_uri": "https://localhost:8080/"
        },
        "id": "ZeSXqzFWP8ps",
        "outputId": "e150643a-81d7-4d70-ad94-f9b90a1fee13"
      },
      "source": [
        "print(classification_report(y_test,y_pred_dt_reg_test.round()))"
      ],
      "execution_count": 65,
      "outputs": [
        {
          "output_type": "stream",
          "text": [
            "              precision    recall  f1-score   support\n",
            "\n",
            "           0       1.00      0.97      0.98        33\n",
            "           1       0.65      0.54      0.59        41\n",
            "           2       0.60      0.70      0.64        40\n",
            "           3       0.97      1.00      0.98        32\n",
            "           4       1.00      1.00      1.00        38\n",
            "\n",
            "    accuracy                           0.83       184\n",
            "   macro avg       0.84      0.84      0.84       184\n",
            "weighted avg       0.83      0.83      0.83       184\n",
            "\n"
          ],
          "name": "stdout"
        }
      ]
    },
    {
      "cell_type": "code",
      "metadata": {
        "colab": {
          "base_uri": "https://localhost:8080/"
        },
        "id": "N8j5nIltRAMv",
        "outputId": "44788f0f-7f53-498a-ec8d-c3fca8e9ed6e"
      },
      "source": [
        "accuracy_score(y_train,y_pred_dt_reg_train.round())"
      ],
      "execution_count": 66,
      "outputs": [
        {
          "output_type": "execute_result",
          "data": {
            "text/plain": [
              "0.8478260869565217"
            ]
          },
          "metadata": {
            "tags": []
          },
          "execution_count": 66
        }
      ]
    },
    {
      "cell_type": "code",
      "metadata": {
        "colab": {
          "base_uri": "https://localhost:8080/"
        },
        "id": "VuKP418DRAQp",
        "outputId": "74298245-6e34-4578-b051-39b3a5561c24"
      },
      "source": [
        "print(confusion_matrix(y_train,y_pred_dt_reg_train.round()))"
      ],
      "execution_count": 67,
      "outputs": [
        {
          "output_type": "stream",
          "text": [
            "[[132   0   0   1   0]\n",
            " [  0  89  66   0   1]\n",
            " [  2  40  96   0   0]\n",
            " [  0   0   0 130   0]\n",
            " [  0   1   0   1 177]]\n"
          ],
          "name": "stdout"
        }
      ]
    },
    {
      "cell_type": "code",
      "metadata": {
        "colab": {
          "base_uri": "https://localhost:8080/"
        },
        "id": "kUIai1acRAUC",
        "outputId": "30cc6e59-bbc9-45e6-c966-2ebb1ec07f91"
      },
      "source": [
        "print(classification_report(y_train,y_pred_dt_reg_train.round()))"
      ],
      "execution_count": 68,
      "outputs": [
        {
          "output_type": "stream",
          "text": [
            "              precision    recall  f1-score   support\n",
            "\n",
            "           0       0.99      0.99      0.99       133\n",
            "           1       0.68      0.57      0.62       156\n",
            "           2       0.59      0.70      0.64       138\n",
            "           3       0.98      1.00      0.99       130\n",
            "           4       0.99      0.99      0.99       179\n",
            "\n",
            "    accuracy                           0.85       736\n",
            "   macro avg       0.85      0.85      0.85       736\n",
            "weighted avg       0.85      0.85      0.85       736\n",
            "\n"
          ],
          "name": "stdout"
        }
      ]
    },
    {
      "cell_type": "markdown",
      "metadata": {
        "id": "qFG8zodZkysZ"
      },
      "source": [
        "***Lasso***"
      ]
    },
    {
      "cell_type": "code",
      "metadata": {
        "id": "e8RBBd7KL5H2"
      },
      "source": [
        "from sklearn.linear_model import Lasso"
      ],
      "execution_count": 69,
      "outputs": []
    },
    {
      "cell_type": "code",
      "metadata": {
        "id": "yENmT1tQMiPP"
      },
      "source": [
        "las=Lasso(alpha=0.4,normalize=True)"
      ],
      "execution_count": 70,
      "outputs": []
    },
    {
      "cell_type": "code",
      "metadata": {
        "id": "lqDDPhRrNN2P"
      },
      "source": [
        "cv_lasso=KFold(n_splits=10,shuffle=True)"
      ],
      "execution_count": 71,
      "outputs": []
    },
    {
      "cell_type": "code",
      "metadata": {
        "id": "gAnuvbUYNN60"
      },
      "source": [
        "cv_lasso_mse=-cross_val_score(las,X_train,y_train,scoring='neg_mean_squared_error',cv=cv_lasso,n_jobs=-1)"
      ],
      "execution_count": 72,
      "outputs": []
    },
    {
      "cell_type": "code",
      "metadata": {
        "colab": {
          "base_uri": "https://localhost:8080/"
        },
        "id": "Pw7jwcYqMrJ0",
        "outputId": "f16da4d4-b81a-4787-bca7-c1b0209cf161"
      },
      "source": [
        "las.fit(X_train,y_train)"
      ],
      "execution_count": 73,
      "outputs": [
        {
          "output_type": "execute_result",
          "data": {
            "text/plain": [
              "Lasso(alpha=0.4, copy_X=True, fit_intercept=True, max_iter=1000, normalize=True,\n",
              "      positive=False, precompute=False, random_state=None, selection='cyclic',\n",
              "      tol=0.0001, warm_start=False)"
            ]
          },
          "metadata": {
            "tags": []
          },
          "execution_count": 73
        }
      ]
    },
    {
      "cell_type": "code",
      "metadata": {
        "id": "-DK4ZWk6MxvK"
      },
      "source": [
        "y_pred_lasso_train=las.predict(X_train)"
      ],
      "execution_count": 74,
      "outputs": []
    },
    {
      "cell_type": "code",
      "metadata": {
        "colab": {
          "base_uri": "https://localhost:8080/"
        },
        "id": "ss5AgbEQM46s",
        "outputId": "c667027e-f8d2-4e19-fd3c-1c0579eea350"
      },
      "source": [
        "mse_lass_train=mean_squared_error(y_train,y_pred_lasso_train)\n",
        "mse_lass_train"
      ],
      "execution_count": 75,
      "outputs": [
        {
          "output_type": "execute_result",
          "data": {
            "text/plain": [
              "2.0761977197542536"
            ]
          },
          "metadata": {
            "tags": []
          },
          "execution_count": 75
        }
      ]
    },
    {
      "cell_type": "code",
      "metadata": {
        "id": "rH_tA_bYM_dR"
      },
      "source": [
        "y_pred_lasso_test=las.predict(X_test)"
      ],
      "execution_count": 76,
      "outputs": []
    },
    {
      "cell_type": "code",
      "metadata": {
        "colab": {
          "base_uri": "https://localhost:8080/"
        },
        "id": "Id39k6T5N-R6",
        "outputId": "dd73744a-20ef-4e8a-9a32-7da72a3e9c81"
      },
      "source": [
        "mse_lass_test=mean_squared_error(y_test,y_pred_lasso_test)\n",
        "mse_lass_test"
      ],
      "execution_count": 77,
      "outputs": [
        {
          "output_type": "execute_result",
          "data": {
            "text/plain": [
              "1.947284085538752"
            ]
          },
          "metadata": {
            "tags": []
          },
          "execution_count": 77
        }
      ]
    },
    {
      "cell_type": "code",
      "metadata": {
        "colab": {
          "base_uri": "https://localhost:8080/"
        },
        "id": "Yzg9ouS8OGMP",
        "outputId": "93f3ec89-41ab-4b5f-a9fd-1b6b35dfd1f9"
      },
      "source": [
        "cv_lasso_mse.mean()"
      ],
      "execution_count": 78,
      "outputs": [
        {
          "output_type": "execute_result",
          "data": {
            "text/plain": [
              "2.0865162086385274"
            ]
          },
          "metadata": {
            "tags": []
          },
          "execution_count": 78
        }
      ]
    },
    {
      "cell_type": "code",
      "metadata": {
        "colab": {
          "base_uri": "https://localhost:8080/"
        },
        "id": "11spr4ZZONWv",
        "outputId": "837534c7-81bd-46b1-ce5e-d45a6fd059b2"
      },
      "source": [
        "las.score(X_test,y_test)"
      ],
      "execution_count": 79,
      "outputs": [
        {
          "output_type": "execute_result",
          "data": {
            "text/plain": [
              "-0.0036574969171983"
            ]
          },
          "metadata": {
            "tags": []
          },
          "execution_count": 79
        }
      ]
    },
    {
      "cell_type": "code",
      "metadata": {
        "colab": {
          "base_uri": "https://localhost:8080/"
        },
        "id": "YPvJsl8fSmUG",
        "outputId": "6035d6d6-075e-49a8-c60d-bb886f6ffc42"
      },
      "source": [
        "accuracy_score(y_test,y_pred_lasso_test.round())"
      ],
      "execution_count": 80,
      "outputs": [
        {
          "output_type": "execute_result",
          "data": {
            "text/plain": [
              "0.21739130434782608"
            ]
          },
          "metadata": {
            "tags": []
          },
          "execution_count": 80
        }
      ]
    },
    {
      "cell_type": "code",
      "metadata": {
        "colab": {
          "base_uri": "https://localhost:8080/"
        },
        "id": "TYSIKta6SmXl",
        "outputId": "32918081-2fc0-4af4-9c7e-07bfef6b00cc"
      },
      "source": [
        "print(confusion_matrix(y_test,y_pred_lasso_test.round()))"
      ],
      "execution_count": 81,
      "outputs": [
        {
          "output_type": "stream",
          "text": [
            "[[ 0  0 33  0  0]\n",
            " [ 0  0 41  0  0]\n",
            " [ 0  0 40  0  0]\n",
            " [ 0  0 32  0  0]\n",
            " [ 0  0 38  0  0]]\n"
          ],
          "name": "stdout"
        }
      ]
    },
    {
      "cell_type": "code",
      "metadata": {
        "colab": {
          "base_uri": "https://localhost:8080/"
        },
        "id": "aerPFmnxSmbV",
        "outputId": "fac05bd7-8841-4ce0-8ff4-6987a98fdf16"
      },
      "source": [
        "print(classification_report(y_test,y_pred_lasso_test.round()))"
      ],
      "execution_count": 82,
      "outputs": [
        {
          "output_type": "stream",
          "text": [
            "              precision    recall  f1-score   support\n",
            "\n",
            "           0       0.00      0.00      0.00        33\n",
            "           1       0.00      0.00      0.00        41\n",
            "           2       0.22      1.00      0.36        40\n",
            "           3       0.00      0.00      0.00        32\n",
            "           4       0.00      0.00      0.00        38\n",
            "\n",
            "    accuracy                           0.22       184\n",
            "   macro avg       0.04      0.20      0.07       184\n",
            "weighted avg       0.05      0.22      0.08       184\n",
            "\n"
          ],
          "name": "stdout"
        },
        {
          "output_type": "stream",
          "text": [
            "/usr/local/lib/python3.6/dist-packages/sklearn/metrics/_classification.py:1272: UndefinedMetricWarning: Precision and F-score are ill-defined and being set to 0.0 in labels with no predicted samples. Use `zero_division` parameter to control this behavior.\n",
            "  _warn_prf(average, modifier, msg_start, len(result))\n"
          ],
          "name": "stderr"
        }
      ]
    },
    {
      "cell_type": "code",
      "metadata": {
        "colab": {
          "base_uri": "https://localhost:8080/"
        },
        "id": "GgHpC-qSSmus",
        "outputId": "b6267454-400a-45d6-8f6d-2a9336371af0"
      },
      "source": [
        "accuracy_score(y_train,y_pred_lasso_train.round())"
      ],
      "execution_count": 83,
      "outputs": [
        {
          "output_type": "execute_result",
          "data": {
            "text/plain": [
              "0.1875"
            ]
          },
          "metadata": {
            "tags": []
          },
          "execution_count": 83
        }
      ]
    },
    {
      "cell_type": "code",
      "metadata": {
        "colab": {
          "base_uri": "https://localhost:8080/"
        },
        "id": "jtdEWBCaSmwj",
        "outputId": "013aa035-a843-4fdd-b0ff-bdea3edef095"
      },
      "source": [
        "print(confusion_matrix(y_train,y_pred_lasso_train.round()))"
      ],
      "execution_count": 84,
      "outputs": [
        {
          "output_type": "stream",
          "text": [
            "[[  0   0 133   0   0]\n",
            " [  0   0 156   0   0]\n",
            " [  0   0 138   0   0]\n",
            " [  0   0 130   0   0]\n",
            " [  0   0 179   0   0]]\n"
          ],
          "name": "stdout"
        }
      ]
    },
    {
      "cell_type": "code",
      "metadata": {
        "colab": {
          "base_uri": "https://localhost:8080/"
        },
        "id": "2rTOate2Sm0c",
        "outputId": "06d7439b-6472-454b-f228-62c3ded57668"
      },
      "source": [
        "print(classification_report(y_train,y_pred_lasso_train.round()))"
      ],
      "execution_count": 85,
      "outputs": [
        {
          "output_type": "stream",
          "text": [
            "              precision    recall  f1-score   support\n",
            "\n",
            "           0       0.00      0.00      0.00       133\n",
            "           1       0.00      0.00      0.00       156\n",
            "           2       0.19      1.00      0.32       138\n",
            "           3       0.00      0.00      0.00       130\n",
            "           4       0.00      0.00      0.00       179\n",
            "\n",
            "    accuracy                           0.19       736\n",
            "   macro avg       0.04      0.20      0.06       736\n",
            "weighted avg       0.04      0.19      0.06       736\n",
            "\n"
          ],
          "name": "stdout"
        },
        {
          "output_type": "stream",
          "text": [
            "/usr/local/lib/python3.6/dist-packages/sklearn/metrics/_classification.py:1272: UndefinedMetricWarning: Precision and F-score are ill-defined and being set to 0.0 in labels with no predicted samples. Use `zero_division` parameter to control this behavior.\n",
            "  _warn_prf(average, modifier, msg_start, len(result))\n"
          ],
          "name": "stderr"
        }
      ]
    },
    {
      "cell_type": "markdown",
      "metadata": {
        "id": "Wodue7yVk7oX"
      },
      "source": [
        "***Ridge***"
      ]
    },
    {
      "cell_type": "code",
      "metadata": {
        "id": "WeAlJftSk_fs"
      },
      "source": [
        "from sklearn.linear_model import Ridge"
      ],
      "execution_count": 86,
      "outputs": []
    },
    {
      "cell_type": "code",
      "metadata": {
        "id": "3R-rjLVFORlB"
      },
      "source": [
        "rid=Ridge(normalize=True)"
      ],
      "execution_count": 87,
      "outputs": []
    },
    {
      "cell_type": "code",
      "metadata": {
        "id": "IL4ETS8hOaiH"
      },
      "source": [
        "cv_ridge=KFold(n_splits=10,shuffle=True)"
      ],
      "execution_count": 88,
      "outputs": []
    },
    {
      "cell_type": "code",
      "metadata": {
        "id": "BQOliSoSOj6Y"
      },
      "source": [
        "cv_ridge_mse=-cross_val_score(rid,X_train,y_train,cv=cv_ridge,scoring='neg_mean_squared_error',n_jobs=-1)"
      ],
      "execution_count": 89,
      "outputs": []
    },
    {
      "cell_type": "code",
      "metadata": {
        "colab": {
          "base_uri": "https://localhost:8080/"
        },
        "id": "cozK7NmmO1kw",
        "outputId": "1d936770-861f-4fbf-cc6d-55bf854e88cc"
      },
      "source": [
        "rid.fit(X_train,y_train)"
      ],
      "execution_count": 90,
      "outputs": [
        {
          "output_type": "execute_result",
          "data": {
            "text/plain": [
              "Ridge(alpha=1.0, copy_X=True, fit_intercept=True, max_iter=None, normalize=True,\n",
              "      random_state=None, solver='auto', tol=0.001)"
            ]
          },
          "metadata": {
            "tags": []
          },
          "execution_count": 90
        }
      ]
    },
    {
      "cell_type": "code",
      "metadata": {
        "id": "ZKcsXlWEO5e_"
      },
      "source": [
        "y_pred_ridge_train=rid.predict(X_train)"
      ],
      "execution_count": 91,
      "outputs": []
    },
    {
      "cell_type": "code",
      "metadata": {
        "colab": {
          "base_uri": "https://localhost:8080/"
        },
        "id": "UQmkdRJ6PDTk",
        "outputId": "5491ed4b-98d8-4ba9-d8ff-4b4dbee8bbb0"
      },
      "source": [
        "mse_ridge_train=mean_squared_error(y_train,y_pred_ridge_train)\n",
        "mse_ridge_train"
      ],
      "execution_count": 92,
      "outputs": [
        {
          "output_type": "execute_result",
          "data": {
            "text/plain": [
              "1.5756388216723167"
            ]
          },
          "metadata": {
            "tags": []
          },
          "execution_count": 92
        }
      ]
    },
    {
      "cell_type": "code",
      "metadata": {
        "id": "gebROkjiPNP1"
      },
      "source": [
        "y_pred_ridge_test=rid.predict(X_test)"
      ],
      "execution_count": 93,
      "outputs": []
    },
    {
      "cell_type": "code",
      "metadata": {
        "colab": {
          "base_uri": "https://localhost:8080/"
        },
        "id": "BUa0-keyPVB1",
        "outputId": "ace699af-3e40-41a5-9d6c-1826e0813245"
      },
      "source": [
        "mse_ridge_test=mean_squared_error(y_test,y_pred_ridge_test)\n",
        "mse_ridge_test"
      ],
      "execution_count": 94,
      "outputs": [
        {
          "output_type": "execute_result",
          "data": {
            "text/plain": [
              "1.5391747278333017"
            ]
          },
          "metadata": {
            "tags": []
          },
          "execution_count": 94
        }
      ]
    },
    {
      "cell_type": "code",
      "metadata": {
        "colab": {
          "base_uri": "https://localhost:8080/"
        },
        "id": "rmwuXJ0yPbsn",
        "outputId": "1dd75b02-2818-4b7b-a0ed-b9eca2afb13d"
      },
      "source": [
        "cv_ridge_mse.mean()"
      ],
      "execution_count": 95,
      "outputs": [
        {
          "output_type": "execute_result",
          "data": {
            "text/plain": [
              "1.5893146905655209"
            ]
          },
          "metadata": {
            "tags": []
          },
          "execution_count": 95
        }
      ]
    },
    {
      "cell_type": "code",
      "metadata": {
        "colab": {
          "base_uri": "https://localhost:8080/"
        },
        "id": "e5QSahz1PfLu",
        "outputId": "892a42f7-995d-4eee-b1bc-ca327cfdd620"
      },
      "source": [
        "rid.score(X_test,y_test)"
      ],
      "execution_count": 96,
      "outputs": [
        {
          "output_type": "execute_result",
          "data": {
            "text/plain": [
              "0.20668778319112968"
            ]
          },
          "metadata": {
            "tags": []
          },
          "execution_count": 96
        }
      ]
    },
    {
      "cell_type": "code",
      "metadata": {
        "colab": {
          "base_uri": "https://localhost:8080/"
        },
        "id": "jzd-1cR0Pl2q",
        "outputId": "bb0c830d-05ae-4044-938d-4c7f99c3a478"
      },
      "source": [
        "accuracy_score(y_test,y_pred_ridge_test.round())"
      ],
      "execution_count": 97,
      "outputs": [
        {
          "output_type": "execute_result",
          "data": {
            "text/plain": [
              "0.21739130434782608"
            ]
          },
          "metadata": {
            "tags": []
          },
          "execution_count": 97
        }
      ]
    },
    {
      "cell_type": "code",
      "metadata": {
        "colab": {
          "base_uri": "https://localhost:8080/"
        },
        "id": "eAYE1NRATPt2",
        "outputId": "ea0e99c6-0157-478f-bc3b-4d73e0fd6b89"
      },
      "source": [
        "print(confusion_matrix(y_test,y_pred_ridge_test.round()))"
      ],
      "execution_count": 98,
      "outputs": [
        {
          "output_type": "stream",
          "text": [
            "[[ 0  4 29  0  0]\n",
            " [ 0  1 26 14  0]\n",
            " [ 0  0 39  1  0]\n",
            " [ 0  4 28  0  0]\n",
            " [ 0  0  3 35  0]]\n"
          ],
          "name": "stdout"
        }
      ]
    },
    {
      "cell_type": "code",
      "metadata": {
        "colab": {
          "base_uri": "https://localhost:8080/"
        },
        "id": "8Eq8f5KGTP3H",
        "outputId": "21a19781-7273-49c9-ccda-8aa502839a69"
      },
      "source": [
        "print(classification_report(y_test,y_pred_ridge_test.round()))"
      ],
      "execution_count": 99,
      "outputs": [
        {
          "output_type": "stream",
          "text": [
            "              precision    recall  f1-score   support\n",
            "\n",
            "           0       0.00      0.00      0.00        33\n",
            "           1       0.11      0.02      0.04        41\n",
            "           2       0.31      0.97      0.47        40\n",
            "           3       0.00      0.00      0.00        32\n",
            "           4       0.00      0.00      0.00        38\n",
            "\n",
            "    accuracy                           0.22       184\n",
            "   macro avg       0.08      0.20      0.10       184\n",
            "weighted avg       0.09      0.22      0.11       184\n",
            "\n"
          ],
          "name": "stdout"
        },
        {
          "output_type": "stream",
          "text": [
            "/usr/local/lib/python3.6/dist-packages/sklearn/metrics/_classification.py:1272: UndefinedMetricWarning: Precision and F-score are ill-defined and being set to 0.0 in labels with no predicted samples. Use `zero_division` parameter to control this behavior.\n",
            "  _warn_prf(average, modifier, msg_start, len(result))\n"
          ],
          "name": "stderr"
        }
      ]
    },
    {
      "cell_type": "code",
      "metadata": {
        "colab": {
          "base_uri": "https://localhost:8080/"
        },
        "id": "WIFCw9LVTQA9",
        "outputId": "d0b41063-cb76-4e1b-8ffa-28db2c013cbb"
      },
      "source": [
        "accuracy_score(y_train,y_pred_ridge_train.round())"
      ],
      "execution_count": 100,
      "outputs": [
        {
          "output_type": "execute_result",
          "data": {
            "text/plain": [
              "0.18070652173913043"
            ]
          },
          "metadata": {
            "tags": []
          },
          "execution_count": 100
        }
      ]
    },
    {
      "cell_type": "code",
      "metadata": {
        "colab": {
          "base_uri": "https://localhost:8080/"
        },
        "id": "t2Voe0rtTQOe",
        "outputId": "3789211e-7e2f-420e-a335-64a667b427f5"
      },
      "source": [
        "print(confusion_matrix(y_train,y_pred_ridge_train.round()))"
      ],
      "execution_count": 101,
      "outputs": [
        {
          "output_type": "stream",
          "text": [
            "[[  0   7 126   0   0]\n",
            " [  0   0 112  44   0]\n",
            " [  0   2 133   3   0]\n",
            " [  0  21 109   0   0]\n",
            " [  0   0  14 165   0]]\n"
          ],
          "name": "stdout"
        }
      ]
    },
    {
      "cell_type": "code",
      "metadata": {
        "colab": {
          "base_uri": "https://localhost:8080/"
        },
        "id": "IJlc3sUqTQXV",
        "outputId": "f4a9eb91-7f45-4c28-e07a-eee91fdc6604"
      },
      "source": [
        "print(classification_report(y_train,y_pred_ridge_train.round()))"
      ],
      "execution_count": 102,
      "outputs": [
        {
          "output_type": "stream",
          "text": [
            "              precision    recall  f1-score   support\n",
            "\n",
            "           0       0.00      0.00      0.00       133\n",
            "           1       0.00      0.00      0.00       156\n",
            "           2       0.27      0.96      0.42       138\n",
            "           3       0.00      0.00      0.00       130\n",
            "           4       0.00      0.00      0.00       179\n",
            "\n",
            "    accuracy                           0.18       736\n",
            "   macro avg       0.05      0.19      0.08       736\n",
            "weighted avg       0.05      0.18      0.08       736\n",
            "\n"
          ],
          "name": "stdout"
        },
        {
          "output_type": "stream",
          "text": [
            "/usr/local/lib/python3.6/dist-packages/sklearn/metrics/_classification.py:1272: UndefinedMetricWarning: Precision and F-score are ill-defined and being set to 0.0 in labels with no predicted samples. Use `zero_division` parameter to control this behavior.\n",
            "  _warn_prf(average, modifier, msg_start, len(result))\n"
          ],
          "name": "stderr"
        }
      ]
    },
    {
      "cell_type": "markdown",
      "metadata": {
        "id": "SHa024oulHpx"
      },
      "source": [
        "***Polynominal Regression***"
      ]
    },
    {
      "cell_type": "code",
      "metadata": {
        "id": "2qRgBN9jTrPG"
      },
      "source": [
        "from sklearn.preprocessing import PolynomialFeatures"
      ],
      "execution_count": 103,
      "outputs": []
    },
    {
      "cell_type": "code",
      "metadata": {
        "id": "PixHJP4abgju"
      },
      "source": [
        "pol=PolynomialFeatures(degree=3)"
      ],
      "execution_count": 104,
      "outputs": []
    },
    {
      "cell_type": "code",
      "metadata": {
        "id": "WtJ__XKNbtHj"
      },
      "source": [
        "X_train_poly=pol.fit_transform(X_train)\n",
        "X_test_poly=pol.fit_transform(X_test)"
      ],
      "execution_count": 105,
      "outputs": []
    },
    {
      "cell_type": "code",
      "metadata": {
        "id": "p_gdk2wXb6rp"
      },
      "source": [
        "pol_reg=LinearRegression()"
      ],
      "execution_count": 106,
      "outputs": []
    },
    {
      "cell_type": "code",
      "metadata": {
        "id": "794y0glXczx0"
      },
      "source": [
        "cv_pol=KFold(n_splits=10,shuffle=True)"
      ],
      "execution_count": 107,
      "outputs": []
    },
    {
      "cell_type": "code",
      "metadata": {
        "id": "eUkg9IsGc0E_"
      },
      "source": [
        "mse_cv_pol=-cross_val_score(pol_reg,X_train_poly,y_train,cv=cv_pol,scoring='neg_mean_squared_error',n_jobs=-1)"
      ],
      "execution_count": 108,
      "outputs": []
    },
    {
      "cell_type": "code",
      "metadata": {
        "colab": {
          "base_uri": "https://localhost:8080/"
        },
        "id": "MjYck2H5b_nJ",
        "outputId": "e6b40ce4-2d52-44d0-d34d-a0f5a6efbd50"
      },
      "source": [
        "pol_reg.fit(X_train_poly,y_train)"
      ],
      "execution_count": 109,
      "outputs": [
        {
          "output_type": "execute_result",
          "data": {
            "text/plain": [
              "LinearRegression(copy_X=True, fit_intercept=True, n_jobs=None, normalize=False)"
            ]
          },
          "metadata": {
            "tags": []
          },
          "execution_count": 109
        }
      ]
    },
    {
      "cell_type": "code",
      "metadata": {
        "id": "EwV9lQ73cHp6"
      },
      "source": [
        "y_pred_pol_reg_train=pol_reg.predict(X_train_poly)"
      ],
      "execution_count": 110,
      "outputs": []
    },
    {
      "cell_type": "code",
      "metadata": {
        "colab": {
          "base_uri": "https://localhost:8080/"
        },
        "id": "98sZoDULcQGX",
        "outputId": "96e435a2-4970-40bd-8e42-54e7ab148d5f"
      },
      "source": [
        "mse_pol_reg_train=mean_squared_error(y_train,y_pred_pol_reg_train)\n",
        "mse_pol_reg_train"
      ],
      "execution_count": 111,
      "outputs": [
        {
          "output_type": "execute_result",
          "data": {
            "text/plain": [
              "0.2887972632066498"
            ]
          },
          "metadata": {
            "tags": []
          },
          "execution_count": 111
        }
      ]
    },
    {
      "cell_type": "code",
      "metadata": {
        "id": "X8l14BkTcgqh"
      },
      "source": [
        "y_pred_pol_reg_test=pol_reg.predict(X_test_poly)"
      ],
      "execution_count": 112,
      "outputs": []
    },
    {
      "cell_type": "code",
      "metadata": {
        "colab": {
          "base_uri": "https://localhost:8080/"
        },
        "id": "DUz8E6G0cnB0",
        "outputId": "0ccc3606-0032-4949-eff0-7200a2b34687"
      },
      "source": [
        "mse_pol_reg_test=mean_squared_error(y_test,y_pred_pol_reg_test)\n",
        "mse_pol_reg_test"
      ],
      "execution_count": 113,
      "outputs": [
        {
          "output_type": "execute_result",
          "data": {
            "text/plain": [
              "0.37791992946383857"
            ]
          },
          "metadata": {
            "tags": []
          },
          "execution_count": 113
        }
      ]
    },
    {
      "cell_type": "code",
      "metadata": {
        "colab": {
          "base_uri": "https://localhost:8080/"
        },
        "id": "n0BxwHxncupF",
        "outputId": "1d422c00-da54-4ebd-c1aa-6bff74cb9805"
      },
      "source": [
        "mse_cv_pol.mean()"
      ],
      "execution_count": 114,
      "outputs": [
        {
          "output_type": "execute_result",
          "data": {
            "text/plain": [
              "0.43643590205427146"
            ]
          },
          "metadata": {
            "tags": []
          },
          "execution_count": 114
        }
      ]
    },
    {
      "cell_type": "code",
      "metadata": {
        "colab": {
          "base_uri": "https://localhost:8080/"
        },
        "id": "e6wJur9odtHc",
        "outputId": "ecff6567-22bc-4f46-8aa0-423404c4712d"
      },
      "source": [
        "pol_reg.score(X_test_poly,y_test)"
      ],
      "execution_count": 115,
      "outputs": [
        {
          "output_type": "execute_result",
          "data": {
            "text/plain": [
              "0.8052147741268787"
            ]
          },
          "metadata": {
            "tags": []
          },
          "execution_count": 115
        }
      ]
    },
    {
      "cell_type": "code",
      "metadata": {
        "colab": {
          "base_uri": "https://localhost:8080/"
        },
        "id": "gctjBHghdzYH",
        "outputId": "e0b6959d-66b4-4706-e993-00bdd8c7efbe"
      },
      "source": [
        "accuracy_score(y_test,y_pred_pol_reg_test.round())"
      ],
      "execution_count": 116,
      "outputs": [
        {
          "output_type": "execute_result",
          "data": {
            "text/plain": [
              "0.6739130434782609"
            ]
          },
          "metadata": {
            "tags": []
          },
          "execution_count": 116
        }
      ]
    },
    {
      "cell_type": "code",
      "metadata": {
        "colab": {
          "base_uri": "https://localhost:8080/"
        },
        "id": "hqkrDmi6d9gU",
        "outputId": "19465c50-dc3b-4a43-cdb0-6c930487e93e"
      },
      "source": [
        "print(confusion_matrix(y_test,y_pred_pol_reg_test.round()))"
      ],
      "execution_count": 117,
      "outputs": [
        {
          "output_type": "stream",
          "text": [
            "[[30  3  0  0  0]\n",
            " [ 0 20 18  3  0]\n",
            " [ 2 29  8  1  0]\n",
            " [ 0  0  2 30  0]\n",
            " [ 0  0  1  1 36]]\n"
          ],
          "name": "stdout"
        }
      ]
    },
    {
      "cell_type": "code",
      "metadata": {
        "colab": {
          "base_uri": "https://localhost:8080/"
        },
        "id": "No1A4aa-eDtD",
        "outputId": "a237e894-cc5a-4c88-a062-7ddc9aa3f47c"
      },
      "source": [
        "print(classification_report(y_test,y_pred_pol_reg_test.round()))"
      ],
      "execution_count": 118,
      "outputs": [
        {
          "output_type": "stream",
          "text": [
            "              precision    recall  f1-score   support\n",
            "\n",
            "           0       0.94      0.91      0.92        33\n",
            "           1       0.38      0.49      0.43        41\n",
            "           2       0.28      0.20      0.23        40\n",
            "           3       0.86      0.94      0.90        32\n",
            "           4       1.00      0.95      0.97        38\n",
            "\n",
            "    accuracy                           0.67       184\n",
            "   macro avg       0.69      0.70      0.69       184\n",
            "weighted avg       0.67      0.67      0.67       184\n",
            "\n"
          ],
          "name": "stdout"
        }
      ]
    },
    {
      "cell_type": "code",
      "metadata": {
        "colab": {
          "base_uri": "https://localhost:8080/"
        },
        "id": "cJupRqZseKA9",
        "outputId": "7f15028a-14a7-4258-c576-1ad64dca24a5"
      },
      "source": [
        "accuracy_score(y_train,y_pred_pol_reg_train.round())"
      ],
      "execution_count": 119,
      "outputs": [
        {
          "output_type": "execute_result",
          "data": {
            "text/plain": [
              "0.7364130434782609"
            ]
          },
          "metadata": {
            "tags": []
          },
          "execution_count": 119
        }
      ]
    },
    {
      "cell_type": "code",
      "metadata": {
        "colab": {
          "base_uri": "https://localhost:8080/"
        },
        "id": "S9Z535XUeSnb",
        "outputId": "d2bdf472-ae9f-4e04-f38f-113b8f6e57de"
      },
      "source": [
        "print(confusion_matrix(y_train,y_pred_pol_reg_train.round()))"
      ],
      "execution_count": 120,
      "outputs": [
        {
          "output_type": "stream",
          "text": [
            "[[121  11   1   0   0]\n",
            " [  0  81  70   5   0]\n",
            " [  7  75  49   7   0]\n",
            " [  0   0   2 124   4]\n",
            " [  0   1   4   7 167]]\n"
          ],
          "name": "stdout"
        }
      ]
    },
    {
      "cell_type": "code",
      "metadata": {
        "colab": {
          "base_uri": "https://localhost:8080/"
        },
        "id": "zgairBQUeYDD",
        "outputId": "b3e17eab-7e08-4d53-b60b-e298071a9bf3"
      },
      "source": [
        "print(classification_report(y_train,y_pred_pol_reg_train.round()))"
      ],
      "execution_count": 121,
      "outputs": [
        {
          "output_type": "stream",
          "text": [
            "              precision    recall  f1-score   support\n",
            "\n",
            "           0       0.95      0.91      0.93       133\n",
            "           1       0.48      0.52      0.50       156\n",
            "           2       0.39      0.36      0.37       138\n",
            "           3       0.87      0.95      0.91       130\n",
            "           4       0.98      0.93      0.95       179\n",
            "\n",
            "    accuracy                           0.74       736\n",
            "   macro avg       0.73      0.73      0.73       736\n",
            "weighted avg       0.74      0.74      0.74       736\n",
            "\n"
          ],
          "name": "stdout"
        }
      ]
    },
    {
      "cell_type": "markdown",
      "metadata": {
        "id": "uz6Wn7roly_Y"
      },
      "source": [
        "***Random Forest Regressor***"
      ]
    },
    {
      "cell_type": "code",
      "metadata": {
        "id": "GJ2te5L5efEh"
      },
      "source": [
        "from sklearn.ensemble import RandomForestRegressor"
      ],
      "execution_count": 122,
      "outputs": []
    },
    {
      "cell_type": "code",
      "metadata": {
        "id": "8WgTwqpll7hZ"
      },
      "source": [
        "rf_reg=RandomForestRegressor(max_depth=3,oob_score=True,n_jobs=-1,min_samples_leaf=0.1)"
      ],
      "execution_count": 123,
      "outputs": []
    },
    {
      "cell_type": "code",
      "metadata": {
        "id": "bBbEZTjbm6gF"
      },
      "source": [
        "cv_rf_reg=KFold(n_splits=10,shuffle=True)"
      ],
      "execution_count": 124,
      "outputs": []
    },
    {
      "cell_type": "code",
      "metadata": {
        "id": "BsOYDGB1nCPY"
      },
      "source": [
        "mse_cv_rf_reg=-cross_val_score(rf_reg,X_train,y_train,cv=cv_rf_reg,scoring='neg_mean_squared_error',n_jobs=-1)"
      ],
      "execution_count": 125,
      "outputs": []
    },
    {
      "cell_type": "code",
      "metadata": {
        "colab": {
          "base_uri": "https://localhost:8080/"
        },
        "id": "tm3oVL1rnVI3",
        "outputId": "fbc7bf4c-faf3-47ef-fa5d-a6f1e0c00d09"
      },
      "source": [
        "rf_reg.fit(X_train,y_train)"
      ],
      "execution_count": 126,
      "outputs": [
        {
          "output_type": "stream",
          "text": [
            "/usr/local/lib/python3.6/dist-packages/ipykernel_launcher.py:1: DataConversionWarning: A column-vector y was passed when a 1d array was expected. Please change the shape of y to (n_samples,), for example using ravel().\n",
            "  \"\"\"Entry point for launching an IPython kernel.\n"
          ],
          "name": "stderr"
        },
        {
          "output_type": "execute_result",
          "data": {
            "text/plain": [
              "RandomForestRegressor(bootstrap=True, ccp_alpha=0.0, criterion='mse',\n",
              "                      max_depth=3, max_features='auto', max_leaf_nodes=None,\n",
              "                      max_samples=None, min_impurity_decrease=0.0,\n",
              "                      min_impurity_split=None, min_samples_leaf=0.1,\n",
              "                      min_samples_split=2, min_weight_fraction_leaf=0.0,\n",
              "                      n_estimators=100, n_jobs=-1, oob_score=True,\n",
              "                      random_state=None, verbose=0, warm_start=False)"
            ]
          },
          "metadata": {
            "tags": []
          },
          "execution_count": 126
        }
      ]
    },
    {
      "cell_type": "code",
      "metadata": {
        "id": "lZAy0xSvnbpl"
      },
      "source": [
        "y_pred_rf_reg_train=rf_reg.predict(X_train)"
      ],
      "execution_count": 127,
      "outputs": []
    },
    {
      "cell_type": "code",
      "metadata": {
        "colab": {
          "base_uri": "https://localhost:8080/"
        },
        "id": "W851nB4bnuiZ",
        "outputId": "7a5cf9f0-99c1-4ad3-e4c3-a64ddc69e9b1"
      },
      "source": [
        "mse_rf_reg_train=mean_squared_error(y_train,y_pred_rf_reg_train)\n",
        "mse_rf_reg_train"
      ],
      "execution_count": 128,
      "outputs": [
        {
          "output_type": "execute_result",
          "data": {
            "text/plain": [
              "0.1426865707918082"
            ]
          },
          "metadata": {
            "tags": []
          },
          "execution_count": 128
        }
      ]
    },
    {
      "cell_type": "code",
      "metadata": {
        "id": "HH7CxAh-n-5X"
      },
      "source": [
        "y_pred_rf_reg_test=rf_reg.predict(X_test)"
      ],
      "execution_count": 129,
      "outputs": []
    },
    {
      "cell_type": "code",
      "metadata": {
        "colab": {
          "base_uri": "https://localhost:8080/"
        },
        "id": "M60zNFcsoGBN",
        "outputId": "97ec698f-3612-4521-ca1a-fd8d7df1d875"
      },
      "source": [
        "mse_rf_reg_test=mean_squared_error(y_test,y_pred_rf_reg_test)\n",
        "mse_rf_reg_test"
      ],
      "execution_count": 130,
      "outputs": [
        {
          "output_type": "execute_result",
          "data": {
            "text/plain": [
              "0.1292864259240161"
            ]
          },
          "metadata": {
            "tags": []
          },
          "execution_count": 130
        }
      ]
    },
    {
      "cell_type": "code",
      "metadata": {
        "colab": {
          "base_uri": "https://localhost:8080/"
        },
        "id": "bZG1QFXpoO2H",
        "outputId": "357c941d-f198-4efb-a994-3cc46ff38792"
      },
      "source": [
        "mse_cv_rf_reg.mean()"
      ],
      "execution_count": 131,
      "outputs": [
        {
          "output_type": "execute_result",
          "data": {
            "text/plain": [
              "0.14695184172705447"
            ]
          },
          "metadata": {
            "tags": []
          },
          "execution_count": 131
        }
      ]
    },
    {
      "cell_type": "code",
      "metadata": {
        "colab": {
          "base_uri": "https://localhost:8080/"
        },
        "id": "1FhxqhzooTii",
        "outputId": "7620be27-8c90-4dc3-d307-8da327600b51"
      },
      "source": [
        "rf_reg.score(X_test,y_test)"
      ],
      "execution_count": 132,
      "outputs": [
        {
          "output_type": "execute_result",
          "data": {
            "text/plain": [
              "0.9333639649232955"
            ]
          },
          "metadata": {
            "tags": []
          },
          "execution_count": 132
        }
      ]
    },
    {
      "cell_type": "code",
      "metadata": {
        "colab": {
          "base_uri": "https://localhost:8080/"
        },
        "id": "1GFbEDshoXlw",
        "outputId": "9b65f974-ce5e-4a4f-cfc7-d8f4fa984f88"
      },
      "source": [
        "accuracy_score(y_test,y_pred_rf_reg_test.round())"
      ],
      "execution_count": 133,
      "outputs": [
        {
          "output_type": "execute_result",
          "data": {
            "text/plain": [
              "0.7771739130434783"
            ]
          },
          "metadata": {
            "tags": []
          },
          "execution_count": 133
        }
      ]
    },
    {
      "cell_type": "code",
      "metadata": {
        "colab": {
          "base_uri": "https://localhost:8080/"
        },
        "id": "efHhgYRpohdG",
        "outputId": "900b2d0a-246b-41e3-dc9e-04939068a922"
      },
      "source": [
        "print(confusion_matrix(y_test,y_pred_rf_reg_test.round()))"
      ],
      "execution_count": 134,
      "outputs": [
        {
          "output_type": "stream",
          "text": [
            "[[32  0  1  0  0]\n",
            " [ 0 41  0  0  0]\n",
            " [ 0 40  0  0  0]\n",
            " [ 0  0  0 32  0]\n",
            " [ 0  0  0  0 38]]\n"
          ],
          "name": "stdout"
        }
      ]
    },
    {
      "cell_type": "code",
      "metadata": {
        "colab": {
          "base_uri": "https://localhost:8080/"
        },
        "id": "EuZgxPmNolG-",
        "outputId": "4a5160d0-5b9f-4e83-9505-53e995778aed"
      },
      "source": [
        "print(classification_report(y_test,y_pred_rf_reg_test.round()))"
      ],
      "execution_count": 135,
      "outputs": [
        {
          "output_type": "stream",
          "text": [
            "              precision    recall  f1-score   support\n",
            "\n",
            "           0       1.00      0.97      0.98        33\n",
            "           1       0.51      1.00      0.67        41\n",
            "           2       0.00      0.00      0.00        40\n",
            "           3       1.00      1.00      1.00        32\n",
            "           4       1.00      1.00      1.00        38\n",
            "\n",
            "    accuracy                           0.78       184\n",
            "   macro avg       0.70      0.79      0.73       184\n",
            "weighted avg       0.67      0.78      0.71       184\n",
            "\n"
          ],
          "name": "stdout"
        }
      ]
    },
    {
      "cell_type": "code",
      "metadata": {
        "colab": {
          "base_uri": "https://localhost:8080/"
        },
        "id": "0F6s-ja4ooxk",
        "outputId": "7925cfc9-716d-4902-f981-baa7d8ad61ec"
      },
      "source": [
        "accuracy_score(y_train,y_pred_rf_reg_train.round())"
      ],
      "execution_count": 136,
      "outputs": [
        {
          "output_type": "execute_result",
          "data": {
            "text/plain": [
              "0.8070652173913043"
            ]
          },
          "metadata": {
            "tags": []
          },
          "execution_count": 136
        }
      ]
    },
    {
      "cell_type": "code",
      "metadata": {
        "colab": {
          "base_uri": "https://localhost:8080/"
        },
        "id": "v67sFKppowsY",
        "outputId": "174bda52-1acf-418f-e85e-765fec89dc75"
      },
      "source": [
        "print(confusion_matrix(y_train,y_pred_rf_reg_train.round()))"
      ],
      "execution_count": 137,
      "outputs": [
        {
          "output_type": "stream",
          "text": [
            "[[132   0   0   1   0]\n",
            " [  0 155   0   0   1]\n",
            " [  2 136   0   0   0]\n",
            " [  0   0   0 130   0]\n",
            " [  0   1   0   1 177]]\n"
          ],
          "name": "stdout"
        }
      ]
    },
    {
      "cell_type": "code",
      "metadata": {
        "colab": {
          "base_uri": "https://localhost:8080/"
        },
        "id": "IwDnp98co01A",
        "outputId": "2b6928f3-8c80-4828-c076-5f5806a4b8f1"
      },
      "source": [
        "print(classification_report(y_train,y_pred_rf_reg_train.round()))"
      ],
      "execution_count": 138,
      "outputs": [
        {
          "output_type": "stream",
          "text": [
            "              precision    recall  f1-score   support\n",
            "\n",
            "           0       0.99      0.99      0.99       133\n",
            "           1       0.53      0.99      0.69       156\n",
            "           2       0.00      0.00      0.00       138\n",
            "           3       0.98      1.00      0.99       130\n",
            "           4       0.99      0.99      0.99       179\n",
            "\n",
            "    accuracy                           0.81       736\n",
            "   macro avg       0.70      0.79      0.73       736\n",
            "weighted avg       0.71      0.81      0.74       736\n",
            "\n"
          ],
          "name": "stdout"
        },
        {
          "output_type": "stream",
          "text": [
            "/usr/local/lib/python3.6/dist-packages/sklearn/metrics/_classification.py:1272: UndefinedMetricWarning: Precision and F-score are ill-defined and being set to 0.0 in labels with no predicted samples. Use `zero_division` parameter to control this behavior.\n",
            "  _warn_prf(average, modifier, msg_start, len(result))\n"
          ],
          "name": "stderr"
        }
      ]
    },
    {
      "cell_type": "markdown",
      "metadata": {
        "id": "_OQg4anGFjpg"
      },
      "source": [
        "### ***Summary***"
      ]
    },
    {
      "cell_type": "code",
      "metadata": {
        "colab": {
          "base_uri": "https://localhost:8080/"
        },
        "id": "831_NREHo62Y",
        "outputId": "4e5f3360-3a8e-4652-9773-9f774d934c4e"
      },
      "source": [
        "summary={\n",
        "    'Algorithm Name':['Multiple Linear Regresson','Decision Tree Regressor','Lasso','Ridge','Polynominal Regression','Random Forest Regressor'],\n",
        "    'Train Accuracy':[0.14,0.85,0.19,0.18,0.74,0.81],\n",
        "    'Test Accuracy':[0.13,0.83,0.22,0.22,0.67,0.78]\n",
        "}\n",
        "\n",
        "df_summary=pd.DataFrame(summary,index=['Model:1','Model:2','Model:3','Model:4','Model:5','Model:6'])\n",
        "print(\"So the summary of my regression analysis is:\\n\")\n",
        "print(df_summary)"
      ],
      "execution_count": 139,
      "outputs": [
        {
          "output_type": "stream",
          "text": [
            "So the summary of my regression analysis is:\n",
            "\n",
            "                    Algorithm Name  Train Accuracy  Test Accuracy\n",
            "Model:1  Multiple Linear Regresson            0.14           0.13\n",
            "Model:2    Decision Tree Regressor            0.85           0.83\n",
            "Model:3                      Lasso            0.19           0.22\n",
            "Model:4                      Ridge            0.18           0.22\n",
            "Model:5     Polynominal Regression            0.74           0.67\n",
            "Model:6    Random Forest Regressor            0.81           0.78\n"
          ],
          "name": "stdout"
        }
      ]
    },
    {
      "cell_type": "markdown",
      "metadata": {
        "id": "nA0svRwbvnKH"
      },
      "source": [
        "So best 3 algorithms are: **Model:2** *>* **Model:6** *>* **Model:5**"
      ]
    }
  ]
}